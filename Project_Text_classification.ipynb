{
  "nbformat": 4,
  "nbformat_minor": 0,
  "metadata": {
    "colab": {
      "provenance": []
    },
    "kernelspec": {
      "name": "python3",
      "display_name": "Python 3"
    },
    "language_info": {
      "name": "python"
    }
  },
  "cells": [
    {
      "cell_type": "markdown",
      "source": [
        "# Import Libraries"
      ],
      "metadata": {
        "id": "8_dMNQrKf59H"
      }
    },
    {
      "cell_type": "code",
      "source": [
        "import nltk\n",
        "import pandas as pd\n",
        "import string\n",
        "from sklearn.feature_extraction.text import CountVectorizer\n",
        "from sklearn.metrics import classification_report\n",
        "from sklearn.linear_model import LogisticRegression\n",
        "import matplotlib.pyplot as plt"
      ],
      "metadata": {
        "id": "2QN8Dn9UgnNd"
      },
      "execution_count": null,
      "outputs": []
    },
    {
      "cell_type": "code",
      "source": [
        "from google.colab import drive\n",
        "drive.mount('/content/drive')"
      ],
      "metadata": {
        "id": "JdQ6GrhlkaWB",
        "colab": {
          "base_uri": "https://localhost:8080/"
        },
        "outputId": "d3baebd5-16f7-4b89-8498-4ba6bb5505b8"
      },
      "execution_count": null,
      "outputs": [
        {
          "output_type": "stream",
          "name": "stdout",
          "text": [
            "Drive already mounted at /content/drive; to attempt to forcibly remount, call drive.mount(\"/content/drive\", force_remount=True).\n"
          ]
        }
      ]
    },
    {
      "cell_type": "markdown",
      "source": [
        "# Import dataset"
      ],
      "metadata": {
        "id": "jvutNqm1gzZT"
      }
    },
    {
      "cell_type": "code",
      "source": [
        "smoking_df=pd.read_csv('/content/drive/My Drive/Colab Notebooks/smoking dataset.csv')\n",
        "smoking_df.head()"
      ],
      "metadata": {
        "colab": {
          "base_uri": "https://localhost:8080/",
          "height": 206
        },
        "id": "yWQyqhxLgr5F",
        "outputId": "485a9a6b-1722-46a6-e969-018bd7a852a6"
      },
      "execution_count": null,
      "outputs": [
        {
          "output_type": "execute_result",
          "data": {
            "text/plain": [
              "    ID          STATUS                                               TEXT\n",
              "0  641  CURRENT SMOKER  977146916\\nHLGMC\\n2878891\\n022690\\n01/27/1997 ...\n",
              "1  643  CURRENT SMOKER  026738007\\nCMC\\n15319689\\n3/25/1998 12:00:00 A...\n",
              "2  681  CURRENT SMOKER  071962960\\nBH\\n4236518\\n417454\\n12/10/2001 12:...\n",
              "3  704  CURRENT SMOKER  418520250\\nNVH\\n61562872\\n3/11/1995 12:00:00 A...\n",
              "4  757  CURRENT SMOKER  301443520\\nCTMC\\n49020928\\n448922\\n1/11/1990 1..."
            ],
            "text/html": [
              "\n",
              "  <div id=\"df-c45dfbdf-3312-4a00-bdba-8b897db21165\" class=\"colab-df-container\">\n",
              "    <div>\n",
              "<style scoped>\n",
              "    .dataframe tbody tr th:only-of-type {\n",
              "        vertical-align: middle;\n",
              "    }\n",
              "\n",
              "    .dataframe tbody tr th {\n",
              "        vertical-align: top;\n",
              "    }\n",
              "\n",
              "    .dataframe thead th {\n",
              "        text-align: right;\n",
              "    }\n",
              "</style>\n",
              "<table border=\"1\" class=\"dataframe\">\n",
              "  <thead>\n",
              "    <tr style=\"text-align: right;\">\n",
              "      <th></th>\n",
              "      <th>ID</th>\n",
              "      <th>STATUS</th>\n",
              "      <th>TEXT</th>\n",
              "    </tr>\n",
              "  </thead>\n",
              "  <tbody>\n",
              "    <tr>\n",
              "      <th>0</th>\n",
              "      <td>641</td>\n",
              "      <td>CURRENT SMOKER</td>\n",
              "      <td>977146916\\nHLGMC\\n2878891\\n022690\\n01/27/1997 ...</td>\n",
              "    </tr>\n",
              "    <tr>\n",
              "      <th>1</th>\n",
              "      <td>643</td>\n",
              "      <td>CURRENT SMOKER</td>\n",
              "      <td>026738007\\nCMC\\n15319689\\n3/25/1998 12:00:00 A...</td>\n",
              "    </tr>\n",
              "    <tr>\n",
              "      <th>2</th>\n",
              "      <td>681</td>\n",
              "      <td>CURRENT SMOKER</td>\n",
              "      <td>071962960\\nBH\\n4236518\\n417454\\n12/10/2001 12:...</td>\n",
              "    </tr>\n",
              "    <tr>\n",
              "      <th>3</th>\n",
              "      <td>704</td>\n",
              "      <td>CURRENT SMOKER</td>\n",
              "      <td>418520250\\nNVH\\n61562872\\n3/11/1995 12:00:00 A...</td>\n",
              "    </tr>\n",
              "    <tr>\n",
              "      <th>4</th>\n",
              "      <td>757</td>\n",
              "      <td>CURRENT SMOKER</td>\n",
              "      <td>301443520\\nCTMC\\n49020928\\n448922\\n1/11/1990 1...</td>\n",
              "    </tr>\n",
              "  </tbody>\n",
              "</table>\n",
              "</div>\n",
              "    <div class=\"colab-df-buttons\">\n",
              "\n",
              "  <div class=\"colab-df-container\">\n",
              "    <button class=\"colab-df-convert\" onclick=\"convertToInteractive('df-c45dfbdf-3312-4a00-bdba-8b897db21165')\"\n",
              "            title=\"Convert this dataframe to an interactive table.\"\n",
              "            style=\"display:none;\">\n",
              "\n",
              "  <svg xmlns=\"http://www.w3.org/2000/svg\" height=\"24px\" viewBox=\"0 -960 960 960\">\n",
              "    <path d=\"M120-120v-720h720v720H120Zm60-500h600v-160H180v160Zm220 220h160v-160H400v160Zm0 220h160v-160H400v160ZM180-400h160v-160H180v160Zm440 0h160v-160H620v160ZM180-180h160v-160H180v160Zm440 0h160v-160H620v160Z\"/>\n",
              "  </svg>\n",
              "    </button>\n",
              "\n",
              "  <style>\n",
              "    .colab-df-container {\n",
              "      display:flex;\n",
              "      gap: 12px;\n",
              "    }\n",
              "\n",
              "    .colab-df-convert {\n",
              "      background-color: #E8F0FE;\n",
              "      border: none;\n",
              "      border-radius: 50%;\n",
              "      cursor: pointer;\n",
              "      display: none;\n",
              "      fill: #1967D2;\n",
              "      height: 32px;\n",
              "      padding: 0 0 0 0;\n",
              "      width: 32px;\n",
              "    }\n",
              "\n",
              "    .colab-df-convert:hover {\n",
              "      background-color: #E2EBFA;\n",
              "      box-shadow: 0px 1px 2px rgba(60, 64, 67, 0.3), 0px 1px 3px 1px rgba(60, 64, 67, 0.15);\n",
              "      fill: #174EA6;\n",
              "    }\n",
              "\n",
              "    .colab-df-buttons div {\n",
              "      margin-bottom: 4px;\n",
              "    }\n",
              "\n",
              "    [theme=dark] .colab-df-convert {\n",
              "      background-color: #3B4455;\n",
              "      fill: #D2E3FC;\n",
              "    }\n",
              "\n",
              "    [theme=dark] .colab-df-convert:hover {\n",
              "      background-color: #434B5C;\n",
              "      box-shadow: 0px 1px 3px 1px rgba(0, 0, 0, 0.15);\n",
              "      filter: drop-shadow(0px 1px 2px rgba(0, 0, 0, 0.3));\n",
              "      fill: #FFFFFF;\n",
              "    }\n",
              "  </style>\n",
              "\n",
              "    <script>\n",
              "      const buttonEl =\n",
              "        document.querySelector('#df-c45dfbdf-3312-4a00-bdba-8b897db21165 button.colab-df-convert');\n",
              "      buttonEl.style.display =\n",
              "        google.colab.kernel.accessAllowed ? 'block' : 'none';\n",
              "\n",
              "      async function convertToInteractive(key) {\n",
              "        const element = document.querySelector('#df-c45dfbdf-3312-4a00-bdba-8b897db21165');\n",
              "        const dataTable =\n",
              "          await google.colab.kernel.invokeFunction('convertToInteractive',\n",
              "                                                    [key], {});\n",
              "        if (!dataTable) return;\n",
              "\n",
              "        const docLinkHtml = 'Like what you see? Visit the ' +\n",
              "          '<a target=\"_blank\" href=https://colab.research.google.com/notebooks/data_table.ipynb>data table notebook</a>'\n",
              "          + ' to learn more about interactive tables.';\n",
              "        element.innerHTML = '';\n",
              "        dataTable['output_type'] = 'display_data';\n",
              "        await google.colab.output.renderOutput(dataTable, element);\n",
              "        const docLink = document.createElement('div');\n",
              "        docLink.innerHTML = docLinkHtml;\n",
              "        element.appendChild(docLink);\n",
              "      }\n",
              "    </script>\n",
              "  </div>\n",
              "\n",
              "\n",
              "<div id=\"df-5d59ed17-01ce-4acf-8034-847eefabf3a1\">\n",
              "  <button class=\"colab-df-quickchart\" onclick=\"quickchart('df-5d59ed17-01ce-4acf-8034-847eefabf3a1')\"\n",
              "            title=\"Suggest charts\"\n",
              "            style=\"display:none;\">\n",
              "\n",
              "<svg xmlns=\"http://www.w3.org/2000/svg\" height=\"24px\"viewBox=\"0 0 24 24\"\n",
              "     width=\"24px\">\n",
              "    <g>\n",
              "        <path d=\"M19 3H5c-1.1 0-2 .9-2 2v14c0 1.1.9 2 2 2h14c1.1 0 2-.9 2-2V5c0-1.1-.9-2-2-2zM9 17H7v-7h2v7zm4 0h-2V7h2v10zm4 0h-2v-4h2v4z\"/>\n",
              "    </g>\n",
              "</svg>\n",
              "  </button>\n",
              "\n",
              "<style>\n",
              "  .colab-df-quickchart {\n",
              "      --bg-color: #E8F0FE;\n",
              "      --fill-color: #1967D2;\n",
              "      --hover-bg-color: #E2EBFA;\n",
              "      --hover-fill-color: #174EA6;\n",
              "      --disabled-fill-color: #AAA;\n",
              "      --disabled-bg-color: #DDD;\n",
              "  }\n",
              "\n",
              "  [theme=dark] .colab-df-quickchart {\n",
              "      --bg-color: #3B4455;\n",
              "      --fill-color: #D2E3FC;\n",
              "      --hover-bg-color: #434B5C;\n",
              "      --hover-fill-color: #FFFFFF;\n",
              "      --disabled-bg-color: #3B4455;\n",
              "      --disabled-fill-color: #666;\n",
              "  }\n",
              "\n",
              "  .colab-df-quickchart {\n",
              "    background-color: var(--bg-color);\n",
              "    border: none;\n",
              "    border-radius: 50%;\n",
              "    cursor: pointer;\n",
              "    display: none;\n",
              "    fill: var(--fill-color);\n",
              "    height: 32px;\n",
              "    padding: 0;\n",
              "    width: 32px;\n",
              "  }\n",
              "\n",
              "  .colab-df-quickchart:hover {\n",
              "    background-color: var(--hover-bg-color);\n",
              "    box-shadow: 0 1px 2px rgba(60, 64, 67, 0.3), 0 1px 3px 1px rgba(60, 64, 67, 0.15);\n",
              "    fill: var(--button-hover-fill-color);\n",
              "  }\n",
              "\n",
              "  .colab-df-quickchart-complete:disabled,\n",
              "  .colab-df-quickchart-complete:disabled:hover {\n",
              "    background-color: var(--disabled-bg-color);\n",
              "    fill: var(--disabled-fill-color);\n",
              "    box-shadow: none;\n",
              "  }\n",
              "\n",
              "  .colab-df-spinner {\n",
              "    border: 2px solid var(--fill-color);\n",
              "    border-color: transparent;\n",
              "    border-bottom-color: var(--fill-color);\n",
              "    animation:\n",
              "      spin 1s steps(1) infinite;\n",
              "  }\n",
              "\n",
              "  @keyframes spin {\n",
              "    0% {\n",
              "      border-color: transparent;\n",
              "      border-bottom-color: var(--fill-color);\n",
              "      border-left-color: var(--fill-color);\n",
              "    }\n",
              "    20% {\n",
              "      border-color: transparent;\n",
              "      border-left-color: var(--fill-color);\n",
              "      border-top-color: var(--fill-color);\n",
              "    }\n",
              "    30% {\n",
              "      border-color: transparent;\n",
              "      border-left-color: var(--fill-color);\n",
              "      border-top-color: var(--fill-color);\n",
              "      border-right-color: var(--fill-color);\n",
              "    }\n",
              "    40% {\n",
              "      border-color: transparent;\n",
              "      border-right-color: var(--fill-color);\n",
              "      border-top-color: var(--fill-color);\n",
              "    }\n",
              "    60% {\n",
              "      border-color: transparent;\n",
              "      border-right-color: var(--fill-color);\n",
              "    }\n",
              "    80% {\n",
              "      border-color: transparent;\n",
              "      border-right-color: var(--fill-color);\n",
              "      border-bottom-color: var(--fill-color);\n",
              "    }\n",
              "    90% {\n",
              "      border-color: transparent;\n",
              "      border-bottom-color: var(--fill-color);\n",
              "    }\n",
              "  }\n",
              "</style>\n",
              "\n",
              "  <script>\n",
              "    async function quickchart(key) {\n",
              "      const quickchartButtonEl =\n",
              "        document.querySelector('#' + key + ' button');\n",
              "      quickchartButtonEl.disabled = true;  // To prevent multiple clicks.\n",
              "      quickchartButtonEl.classList.add('colab-df-spinner');\n",
              "      try {\n",
              "        const charts = await google.colab.kernel.invokeFunction(\n",
              "            'suggestCharts', [key], {});\n",
              "      } catch (error) {\n",
              "        console.error('Error during call to suggestCharts:', error);\n",
              "      }\n",
              "      quickchartButtonEl.classList.remove('colab-df-spinner');\n",
              "      quickchartButtonEl.classList.add('colab-df-quickchart-complete');\n",
              "    }\n",
              "    (() => {\n",
              "      let quickchartButtonEl =\n",
              "        document.querySelector('#df-5d59ed17-01ce-4acf-8034-847eefabf3a1 button');\n",
              "      quickchartButtonEl.style.display =\n",
              "        google.colab.kernel.accessAllowed ? 'block' : 'none';\n",
              "    })();\n",
              "  </script>\n",
              "</div>\n",
              "\n",
              "    </div>\n",
              "  </div>\n"
            ],
            "application/vnd.google.colaboratory.intrinsic+json": {
              "type": "dataframe",
              "variable_name": "smoking_df",
              "summary": "{\n  \"name\": \"smoking_df\",\n  \"rows\": 398,\n  \"fields\": [\n    {\n      \"column\": \"ID\",\n      \"properties\": {\n        \"dtype\": \"number\",\n        \"std\": 253,\n        \"min\": 2,\n        \"max\": 921,\n        \"num_unique_values\": 398,\n        \"samples\": [\n          920,\n          417,\n          865\n        ],\n        \"semantic_type\": \"\",\n        \"description\": \"\"\n      }\n    },\n    {\n      \"column\": \"STATUS\",\n      \"properties\": {\n        \"dtype\": \"category\",\n        \"num_unique_values\": 5,\n        \"samples\": [\n          \"NON-SMOKER\",\n          \"UNKNOWN\",\n          \"PAST SMOKER\"\n        ],\n        \"semantic_type\": \"\",\n        \"description\": \"\"\n      }\n    },\n    {\n      \"column\": \"TEXT\",\n      \"properties\": {\n        \"dtype\": \"string\",\n        \"num_unique_values\": 398,\n        \"samples\": [\n          \"448099088\\nGH\\n32371118\\n2/1/2002 12:00:00 AM\\nMULTIPLE MYELOMA , SHORTNESS OF BREATH\\nSigned\\nDIS\\nAdmission Date :\\n02/01/2002\\nReport Status :\\nSigned\\nDischarge Date :\\n02/11/2002\\nThe patient received care on Oncology A .\\nDISCHARGE DIAGNOSES :\\n1. MULTIPLE MYELOMA .\\n2. PLASMACYTOMA .\\nPATIENT PROBLEM LIST :\\n1. Kappa lyte chain multiple myeloma .\\n2. Status post hemorrhoidectomy .\\n3. Status post sphincterectomy .\\n4. Urinary retention .\\n5. Bone marrow transplant in 2000 .\\n6. Appendectomy .\\n7. History of pulmonary embolism .\\nHISTORY OF PRESENT ILLNESS :\\nMr. Chysfreierm is a 53-year-old man with Kappa lyte chain multiple myeloma admitted with pain , shortness of breath , fevers and weight loss .\\nHe was diagnosed with multiple myeloma in 1999 .\\nHe underwent radiation and VAD complicated by pulmonary embolus .\\nThis was followed by bone marrow transplant in 2000 .\\nHe relapsed and underwent IMIV-3 , Cytoxan and finally PS-341 , which brought his disease to excellent control during May to October , 2002 .\\nIn November he began to experience rectal pain , was diagnosed with a prolapsed hemorrhoid .\\nHe had a bout of appendicitis followed by surgery for his hemorrhoid in December .\\nRepeat surgery was required for another hemorrhoid .\\nThe month of admission he had an anal fissure repaired and then began to have more significant problems with urinary retention requiring catheterization for control , although he had noticed some problems with urinary retention up to two months ago .\\nOn admission he complained of right lateral thigh , buttock , \\\" nerve \\\" pain .\\nHe complained of fevers , chills and night sweats and a 20 pound weight loss , dyspnea on exertion lasting less than five minutes .\\nHis last bowel movement was one week prior to admission .\\nHe has no chest pain , abdominal pain , nausea , vomiting or diarrhea .\\nALLERGIES :\\nHe has no known drug allergies .\\nSOCIAL HISTORY :\\nHe is a former software engineer .\\nHe is married and has two children .\\nFAMILY HISTORY :\\nNoncontributory .\\nHis problem list is as per the problem list .\\nPERTINENT PHYSICAL FINDINGS ON ADMISSION :\\nVITAL SIGNS :\\nBlood pressure 153/92 , pulse 102 , respirations 20 , temperature 99 degrees Fahrenheit , satting 93 to 94% on room air .\\nGENERAL :\\nThe patient was awake and alert , in no acute distress .\\nHEENT :\\nPupils were equal , round , reactive to light .\\nHis extraocular movements were intact .\\nHis oropharynx was somewhat dry , but otherwise clear .\\nNECK :\\nHe had no lymphadenopathy .\\nHEART :\\nHis heart was regular rate and rhythm without gallops , however , II-III / VI systolic ejection murmur was heard .\\nLUNGS :\\nHis lungs were bilaterally clear to auscultation .\\nABDOMEN :\\nHis abdomen was benign .\\nEXTREMITIES :\\nThere was no edema of his extremities .\\nHis strength was 5/5 throughout .\\nSensation was intact grossly .\\nHe had 2+ symmetric reflexes with down-going toes bilaterally .\\nNEUROLOGIC :\\nHis cranial nerves were intact .\\nLABORATORY RESULTS ON ADMISSION :\\nSodium 133 , potassium 3.7 , creatinine 0.6 with a BUN of 5 , glucose 151 .\\nAlkaline phosphatase was 392 .\\nWhite count was 7 .\\nHematocrit was 24.6 .\\nHis INR was 1.3 with a PTT of 101 .\\nCalcium was 8.4 , phosphate 2.8 , mag 1.8 .\\nUA showed 30 to 40 red blood cells but had a negative dip stick .\\nHis chest X-ray showed elevation of the right hemidiaphragm with the colon of normal diameter , his new left rib fracture and soft tissue densities at the second rib and lateral sixth rib and then upper thoracic compression fracture .\\nThere were no complications of his admission .\\nHOSPITAL COURSE BY PROBLEM :\\nProblem number 1 , multiple myeloma .\\nThe patient was re-staged during his admission with a urine and serum electroimmunophoresis and a full skeletal survey .\\nHe also received a four-day Decadron burst .\\nThe patient had pain in the L3 distribution .\\nHis MRI of the spine showed no clear reason for the pain and thus , a pelvic CT was obtained showing a large right pelvic mass that likely was causing his leg pain .\\nRadiation oncology was scheduled for next Tuesday to irradiate the mass .\\nUrinary retention .\\nAlthough there was a T5 compression fracture compressing the cord without signal change , there was no evidence that this lesion could be causing his urinary retention ; and it was felt that the pelvic mass more likely accounted for his urinary retention .\\nFevers .\\nHis blood and urine cultures were obtained and remained negative throughout admission .\\nHis chest X-ray did not reveal source of his fevers .\\nThe patient was placed on Levaquin .\\nShortness of breath .\\nThe patient had a V-Q scan on admission that was low probability for PE .\\nThe patient had no evidence of acute pulmonary embolus and his shortness of breath resolved over the course of his admission .\\nThe patient had a T5 compression fracture with cord deformity .\\nNeurosurgery was consulted .\\nNo steroids were recommended .\\nA brace was ordered to stabilize the spine when the patient was up more than 10 minutes .\\nSurgical intervention per Dr. Jescneighagne was being evaluated and considered for the compression following his radiation therapy .\\nPosterior fossa mass .\\nThis mass was found on a screening MRI of the head per neurosurgery .\\nRadiation oncology also plans radiation to that lesion while he is getting radiation for the pelvic mass .\\nThe patient had no evidence of cerebellar dysfunction on discharge .\\nDISCHARGE MEDICATIONS :\\n1. Colace 100 mg p.o. b.i.d.\\n2. Zantac 150 mg p.o. b.i.d.\\n3. Senna tablets two tabs p.o. b.i.d.\\n4. MS Contin 30 mg p.o. b.i.d.\\n5. Neurontin 300 mg p.o. t.i.d.\\n6. Levofloxacin 500 mg p.o. q.d.\\n7. Decadron 40 mg x one day .\\n8. Lactulose 30 ml p.o. q.6h. p.r.n. constipation .\\n9. Flomax 0.4 mg p.o. q.d.\\n10. MSIR 5 to 10 mg q.4-6h. p.r.n. break-through pain .\\nThe patient 's discharge condition was satisfactory .\\nThe patient 's disposition was to home with nursing services for home safety and medication education .\\nThe patient is to follow up on Tuesday on Ven Hospital on Tuesday , February 15 .\\nThe patient is to follow up with Dr. Jescneighagne , neurosurgeon .\\nHe will call for an appointment to immediately follow his radiation therapy .\\nFinally , he will follow up with his outpatient oncologist , Dr. Shuffzeln as directed .\\nDictated By :\\nAVEJOH IRY WIERST , M.D. EH60\\nAttending :\\nTELSHEY SWATLLEEBTIK , M.D. QM04 BS287/919896\\nBatch :\\n82503\\nIndex No.\\nD2ZP7I6 SFO\\nD :\\n02/11/02\\nT :\\n02/11/02\\nCC :\\n1. STA O. BODEJOVE , M.D.\\n3. NALEO JESCNEIGHAGNE , M.D.\\n4. VEN HOSPITAL\\n[ report_end ]\",\n          \"895872725 ELMVH\\n99080881\\n979718\\n5/25/2002 12:00:00 AM\\nChest pain\\nDIS\\nAdmission Date :\\n05/25/2002\\nReport Status :\\nDischarge Date :\\n05/27/2002\\n****** DISCHARGE ORDERS ******\\nFYFEWIERST , MIER\\n799-99-77-2 X12\\nRoom :\\n33C-139\\nService :\\nCAR\\nDISCHARGE PATIENT ON :\\n05/27/02 AT 04:00 PM\\nCONTINGENT UPON\\nNot Applicable\\nWILL D / C ORDER BE USED AS THE D / C SUMMARY :\\nYES\\nAttending :\\nSAGELYSS , TYTUMZE VACHOLLE , M.D.\\nDISPOSITION :\\nHome\\nDISCHARGE MEDICATIONS :\\nLOPRESSOR ( METOPROLOL TARTRATE ) 12.5 MG PO BID\\nFood / Drug Interaction Instruction\\nTake consistently with meals or on empty stomach .\\nENALAPRIL MALEATE 20\\nMG PO BID DIET :\\nHouse / Low chol / low sat. fat\\nActivity - As tolerated\\nRETURN TO WORK :\\nAfter Appt with local physician\\nFOLLOW UP APPOINTMENT ( S ) :\\nDr. Hashimoto , No Known Allergies\\nADMIT DIAGNOSIS :\\nchest pressure ; r / o mi\\nPRINCIPAL DISCHARGE DIAGNOSIS ;\\nResponsible After Study for Causing Admission ) Chest pain\\nOTHER DIAGNOSIS ;\\nConditions , Infections , Complications , affecting Treatment / Stay\\nChest pain ; R / o\\nMI\\nOPERATIONS AND PROCEDURES :\\nOTHER TREATMENTS / PROCEDURES ( NOT IN O.R. )\\nEchocardiogram MRA Kidney\\nBRIEF RESUME OF HOSPITAL COURSE :\\n51 yo F h / o HTN , hyperchol , p / w SS chest pressure x 3 days .\\nUSOH until 3 day PTa , dev new SS chest pressure sometimes rad to back and L neck / jaw .\\nNot assoc with exertion ( pt has active lifestyle ) .\\nPressure lasted for hours at a time .\\nVariably assoc with SOB , nausea , palpitations , tremulousness , diaphoresis .\\nPt has HTN , measured BP home 200/100 .\\nReported to a local ED was found to have BP up to 200/100 .\\nPut on NTG drip without relief .\\nPain 2/10 persisted , relieved by MSO4 .\\nAt ELMVH ED , BP 160/87 .\\nNow adm for r / o MI , eval of ? demand ischemia , plus w / u of HTN urgency ( which may be very new in onset ) .\\nPE T97.5 P59 BP ( l ) 180/86 ( r ) 186/98 RR20 98% 2L .\\nExam only notable for II / VI systolic murmur .\\nLabs only notable for CK 54 ( nl ) , Trop 0.03 , Hct 35.6 MCV 79 .\\nEKG LBBB NSR .\\nCXR negative .\\nPlan ROMI protocol .\\nCP protocol .\\nCaptopril and nitropaste to control pressure .\\nMSO4 for CP .\\nEcho , MRA ( r / o dissection ) , urine catecholamines and VMA .\\nGuaiac all stools , check iron studies .\\nHOSPITAL COURSE\\n1. Chest Pain\\n- Pt placed on captopril 25 tid , lopressor 12.5 BID and NTG paste SS , achieving normal BP w / in 5 hrs of adm to floor .\\nHer CPress dissappeared over the same timeframe .\\n- pt r'd / o for mi by CPK ( 54-> 38-> 33 ) and TPN ( 0.03 ) , and stable EKG .\\n2. Hypertension\\n- controlled on captopril + lopressor to 110-130s ; NTG paste causing 30 pt drop so d / c'd .\\n- MRA kidney :\\nno stenosis ; no parenchymal lesions\\n- CXR :\\nno obvious mediastinal widening , but no comp arison film ; wnl\\n- echo :\\nprelim :\\nEF 55-60 , ? septal flattening , mild TR and MR , trace effusion -24h urine study :\\npending .\\nADDITIONAL COMMENTS :\\nDISCHARGE CONDITION :\\nSatisfactory\\nTO DO / PLAN :\\nNo dictated summary\\nENTERED BY :\\nMEED , CILE PRILARA , M.D. , PH.D. ( RG185 ) 05/27/02 05:35 PM\\n****** END OF DISCHARGE ORDERS ******\\n[ report_end ]\",\n          \"186890029\\nSH\\n58809909\\n1/5/1994 12:00:00 AM\\nDischarge Summary\\nSigned\\nDIS\\nAdmission Date :\\n01/05/1994\\nReport Status :\\nSigned\\nDischarge Date :\\n01/25/1994\\nPRINCIPLE DIAGNOSIS :\\nMETASTATIC ADENOCARCINOMA OF THE BREAST .\\nOTHER PROBLEMS :\\n1. HYPONATREMIA , 1-13-94 .\\n2. PULMONARY EMBOLUS , 1-14-94 .\\n3. DIARRHEA , NAUSEA AND VOMITING , FEVER .\\n4. HISTORY OF OVARIAN CYST RESECTION , 1975 .\\nHISTORY OF PRESENT ILLNESS :\\nThe patient is a 49 year old woman with a metastatic adenocarcinoma of the breast who is status post high dose chemotherapy with PBSE and CCSS support ending June 1994 .\\nShe was admitted on 1-5-94 for fever , chest wall ulceration , cellulitis and pain control .\\nThe patient first presented in October 1991 with a tender right axillary mass .\\nA mammogram done in November 1990 was negative .\\nHowever , mammography repeated in October 1991 showed bilateral breast masses , suspicious for carcinoma .\\nFine needle aspiration on October 23 , 1991 demonstrated atypical cells which occurred singly and in clusters .\\nStaging evaluation included normal liver function tests , normal blood counts and normal chest x-ray .\\nBone scan showed degenerative joint disease in the shoulders and lumbar spine as well as increased radio chaser uptake in the breast bilaterally .\\nDr. Berca Gachfrum performed a right modified mastectomy and left simple mastectomy on November 4 , 1991 .\\nThe right modified radical mastectomy contained a 5.5 cm poorly differentiated , Grade III out of III infiltrating ductal carcinoma .\\nThe margins were free of tumor , but 10 out of 21 lymph nodes were positive for metastatic carcinoma .\\nFurthermore there was a mass on the right pectoralis muscle which is supposed to be metastatic cancer .\\nThe left simple mastectomy also contained 5.5 cm poorly differentiated infiltrating ductal and intraductal carcinoma with extensive lymphatic vessel invasion .\\nEstrogen receptor was 0% by ERICA .\\nThe patient developed a large hematoma requiring surgical drainage .\\nTherefore she had a Stage III-A adenocarcinoma of the breast .\\nSince she was at high risk for both local and metastatic recurrence of her tumor , she received both systemic chemotherapy and radiation therapy .\\nThe patient was treated with CMSAP , which is Cytoxan , Methotrexate , Leukovoranrescue , 5-FU , Adriamycin and Prednisone for four cycles .\\nThere were no dose reductions for mucositis or myelosuppression .\\nHowever , following cycle 4 , she developed a flu-like illness , followed by fever , nonproductive cough and dyspnea on exertion .\\nABGs showed a pO2 of 79 , pH 7.44 , pO2 33 .\\nChest x-ray showed diffuse interstitial infiltrates .\\nThe differential diagnosis included viral pneumonitis , Mycoplasma , Chlamydia .\\nBasically in December 1993 , she returned to the Hem / Onc Clinic with chest wall nodules which turned out to be tumor recurrences and biopsied .\\nAlthough she had mediastinal recurrence , bone scan , head and liver CT were negative for metastatic disease .\\nShe was thus started on a Protocol of high dose chemotherapy with GCSF and peripheral stem cell support .\\nComplications has mainly included myelosuppression and mucositis .\\nShe also developed Klebsiella UTI after the second cycle of high dose chemotherapy .\\nIt was treated with gent and Cipro .\\nRe-staging done in April 1993 showed a decrease in the pretracheal nodes with question of some lymphangitic spread versus some pneumonitis .\\nIn May 1994 she received her first course of thiotepa and Velban and Methotrexate , which required some red cell transfusions .\\nIn mid May she was admitted for fever and neutropenia and at that time had a UTI with blood clots in the urine .\\nThe patient presents today with complaints of fever and a temperature of 100 .\\nShe has also been having diarrhea since November and her other complaints of admission include confusion , nausea and vomiting .\\nWe will include a very thorough HPI with this dictation that was done by Dr. Wedleung .\\nPAST MEDICAL HISTORY :\\nSignificant for metastatic breast cancer , complicated by fever and neutropenia .\\nUTIs , obstruction of the right subclavian vein and right brachial cephalic vein , herpes zoster .\\nStatus post ovarian cyst resection in 1975 .\\nShe had menarche at age 15 .\\nShe used the pill for five years in the past .\\nShe is G 2 , P 2 with spontaneous vaginal deliveries .\\nShe has a history of easy bruis ability .\\nShe is allergic to Augmentin which gives her a rash .\\nMEDICATIONS :\\nMS Contin , MSIR , and Percocet .\\nFAMILY HISTORY :\\nNoncontributory .\\nSOCIAL HISTORY :\\nMarried with two children .\\nShe worked as an occupational therapist at a professional center for handicapped children .\\nShe denies tobacco and drug use and drinks ethanol socially .\\nPHYSICAL EXAMINATION :\\nA cachectic white female .\\nT 100.1 , P 104 , blood pressure 130/90 , heart rate of 16 , she was sating 95% on room air .\\nHEENT - Pupils were miotic , measuring 2 mm but responsive to light .\\nNeck - Tender on the leftside with no lymphadenopathy or thyromegaly .\\nLungs were clear .\\nChest actually had a 5 x 7 cm necrotic area on the left chest wall with some pus .\\nCardiovascular - Normal .\\nAbdomen - Normal .\\nThere was no HSM .\\nExtremities - Her left arm was very swollen .\\nIt was tested with no voluntary movement except at the finger tips .\\nThere was no edema elsewhere in her extremities , only the left arm .\\nNeuro - The patient was oriented to place , but had difficulty with recent memory .\\nShe also had mild weakness in the left extremities , both upper and lower .\\nCranial nerves II - XII were grossly intact .\\nToes were downgoing .\\nLABORATORY DATA :\\nOf note - Na 133 , K 4 , WBC 8.82 , hematocrit 35.1 , platelets 229 .\\nPT 13.8 with an INR of 1.3 , PTT 25.5 , total protein was 6.2 , albumin 3.4 , globulin of 2.8 , calcium of 9.1 , phos 2.7 , mag 2.1 , urea 3.7 .\\nALT was elevated at 240 , AST 85 , LDH 305 , alk phos 85 , total bilirubin was 1.3 , direct bili was .8 .\\nCholesterol 188 , triglyceride was 127 .\\nUA - trace protein , trace ketones , positive for bilirubin and nitrogen and also 4 to 6 wbcs with 1+ bacteria .\\nChest x-ray - Showed a left paratracheal adenopathy and small left pleural effusion with no evidence of pneumonia .\\nIn summary , the patient is a 49 year old woman with metastatic breast cell CA , status post chemotherapy with CMSAP and PVSC and XRT who presented with fever , four days of diarrhea , nausea and vomiting and had been on Keflex for an erythema on her left chest wall .\\nThe Keflex was stopped when she developed the diarrhea .\\nWhen she arrived the plan was to go ahead and treat here rythematous induration and possible cellulitis with IV antibiotics .\\nSo she was put on dicloxicillin and we did local wound care with an agent called Santyl , which is a collagenace ondebrided which worked very well for her .\\nAlso at the time of admission we were also considering palliative Taxol chemotherapy , which the patient declined .\\nShe refused the Taxol therapy so that was not done .\\nAnother major issue with this patient was pain control .\\nShe had been in a whole lot of pain from her left arm lesion .\\nSo pain control was a big issue so she was on MS Contin and MSIR at home she thought that clouded her thinking , so we tried different things for pain management .\\nOne of them was to do a subarachnoid neurologic block at C6-C7 interface on 1-6-94 .\\nAfter that the patient had minimal relief of pain .\\nHowever , she declined further blocks , which were offered to her .\\nSo accepted to be on dilaudid p.o. which was started at a dosage of 2-4 meg but since then we have tapered it up .\\nShe is now getting dilaudid 8 mg q2h and in addition she has been on fentanyl patch .\\nShe is now getting 75 micrograms per hour of the fentanyl patch which is changed every 72 hours .\\nWe can go up by 25 mg on the fentanyl patch as needed to control her pain and we can always go up on the dilaudid because she is still in considerable amount of pain .\\nOther things that happened during this admission - we obtained ahead CT for her on the 8th of January because of her clouded thinking and altered mental status , which was probably due to the morphine that she was taking .\\nWe went ahead and got a head CT scanand it showed no enhancing lesions .\\nIn addition her liver transaminases were elevated , we thought about doing further work-up , but that was deferred because the patient wanted to wait on that .\\nThat has been stable .\\nThe patient on January 13 became hyponatremic .\\nHer sodium went down to 121 and before that on admission she was 133 .\\nA renal consult was obtained and their assessment was that this was probably a mixture of hypovolemia as well as SIADH .\\nWe proceeded to do for her hyponatremia - we gave her some fluid and her urine sodium became higher than her serum sodium ; we stopped it .\\nWe had given her some normal saline and then we proceeded to just do fluid restriction .\\nIn addition we gave her a sodium chloride one gram per day and that also helped , so that now at the time of discharge , the patient 's sodium is between 126 and 129 ; prior to that it had gone down to as low 116.\\nSo that has really improved .\\nWe suggest continuing increased salt intake in her diet and also continuing with the fluid restriction of free water intake to one liter per day .\\nOn the 14th of January , the patient developed increased shortness of breath and chest x-ray was taken showed a wedge shaped infiltrate in the right upper lobe which was consistent with Hampton 's hump .\\nAlso a VQ scan obtained the next day showed high probability for PE .\\nSo we proceeded to put her on heparin for anticoagulation and then when she was therapeutic on heparin , we went ahead and started her on coumadin and she is currently on coumadin at 2.5 mg q.h.s.\\nHer INR is 2.3 .\\nWe want her INR to remain between 2 and 3 .\\nSo if it goes much lower than 2 , then we would consider increasing it to perhaps coumadin 2.5 and 5 alternating every other night .\\nHowever , we would leave it at 2.5 for now .\\nOther major issues - As a result of all the things happened and with her hyponatremia and also the other problems , her blood pressure was elevated also .\\nWe put her on nifedipine IR , SL and that was not enough to control her blood pressure which was in the 200s in the systolic , so we had started her on atenolol .\\nSo on discharge she is on atenolol 100 .\\nIf needed to you can give her some nifedipine SL to decrease her blood pressure .\\nThe patient also has significant edema in both arms now and also some mild edema in the lower extremities , so I think that fluid restriction should help with that .\\nShe is also a little dry .\\nThe patient is on oxygen .\\nEver since the pulmonary embolus she has been on oxygen .\\nShe was on 4 liters ; now she is on 5 liters , sating 94 to 96% on 5 liters .\\nWe would like for her to remain on the oxygen as well .\\nThe complications that I have listed include the hyponatremia , pulmonary embolus and also the elevatd blood pressure .\\nDISPOSITION :\\nDischarge medications - Baclofen 10 p.o. t.i.d. , MVI one tablet p.o. q.d. , Mycostatin powder TP q.d. to be applied to the rash in her left groin area , also dilaudid 8 mg p.o. q2h , Colace 100 mg p.o. b.i.d. , coumadin 2.5 mg p.o. q.h.s. fentanyl patch 75 micrograms per hour topical q72 hours , atenolol 100 mg p.o. q.d.\\nCONDITION ON DISCHARGE :\\nFair .\\nShe remains very weak and will most likely benefit from some physical therapy andshe still has the bilateral edema .\\nShe is to go to the Necsoncardel Medical Center for more chronic care .\\nFollow-up is with Dr. Wedleung in the Hem / Onc in two weeks .\\nThe appointment has already been made .\\nThe patient is very limited in how much she can do right now because of her pain primarily and her difficulty breathing .\\nDictated By :\\nJEABRIHARL FIGEFREIERMFOTHGRENDCAJAQUE , M.D.\\nAttending :\\nLA INEMACISTIN PRONTMANDES , M.D. HD45 SY882/1177\\nBatch :\\n020\\nIndex No.\\nYJQI3J9VU6\\nD :\\n01/25/94\\nT :\\n01/25/94\\n[ report_end ]\"\n        ],\n        \"semantic_type\": \"\",\n        \"description\": \"\"\n      }\n    }\n  ]\n}"
            }
          },
          "metadata": {},
          "execution_count": 3
        }
      ]
    },
    {
      "cell_type": "code",
      "source": [
        "smoking_df.info()\n",
        "print('Number of Medical Records: ',len(smoking_df))"
      ],
      "metadata": {
        "id": "DY0tHZo2hmll",
        "colab": {
          "base_uri": "https://localhost:8080/"
        },
        "outputId": "95a0413d-3bd7-4dc2-ea6e-a892394196c8"
      },
      "execution_count": null,
      "outputs": [
        {
          "output_type": "stream",
          "name": "stdout",
          "text": [
            "<class 'pandas.core.frame.DataFrame'>\n",
            "RangeIndex: 398 entries, 0 to 397\n",
            "Data columns (total 3 columns):\n",
            " #   Column  Non-Null Count  Dtype \n",
            "---  ------  --------------  ----- \n",
            " 0   ID      398 non-null    int64 \n",
            " 1   STATUS  398 non-null    object\n",
            " 2   TEXT    398 non-null    object\n",
            "dtypes: int64(1), object(2)\n",
            "memory usage: 9.5+ KB\n",
            "Number of Medical Records:  398\n"
          ]
        }
      ]
    },
    {
      "cell_type": "markdown",
      "source": [
        "# To check the distribution and types of categories"
      ],
      "metadata": {
        "id": "Sd1lVrCQ16jx"
      }
    },
    {
      "cell_type": "code",
      "source": [
        "label_types=smoking_df['STATUS'].unique()\n",
        "\n",
        "counts=[]\n",
        "for i in label_types:\n",
        "  count=len(smoking_df[smoking_df.STATUS==i])\n",
        "  counts.append(count)\n",
        "print('Label types and counts:','\\n',label_types,'\\n',counts)\n",
        "\n",
        "fig=plt.figure()\n",
        "ax=fig.add_axes([0,0,1,1])\n",
        "plt.bar(label_types,counts,color='b')\n",
        "plt.show()\n"
      ],
      "metadata": {
        "colab": {
          "base_uri": "https://localhost:8080/",
          "height": 594
        },
        "id": "FpboP2hP1F_z",
        "outputId": "c5698003-617a-4aad-a5e4-2281ba479007"
      },
      "execution_count": null,
      "outputs": [
        {
          "output_type": "stream",
          "name": "stdout",
          "text": [
            "Label types and counts: \n",
            " ['CURRENT SMOKER' 'NON-SMOKER' 'PAST SMOKER' 'SMOKER' 'UNKNOWN'] \n",
            " [35, 66, 36, 9, 252]\n"
          ]
        },
        {
          "output_type": "display_data",
          "data": {
            "text/plain": [
              "<Figure size 640x480 with 1 Axes>"
            ],
            "image/png": "[encoded data removed]"
          },
          "metadata": {}
        }
      ]
    },
    {
      "cell_type": "markdown",
      "source": [
        "Here, we can see that classes are not distributed equally"
      ],
      "metadata": {
        "id": "LFknB-0V4voc"
      }
    },
    {
      "cell_type": "markdown",
      "source": [
        "# Data Preprocessing"
      ],
      "metadata": {
        "id": "p59i3m8PrZR5"
      }
    },
    {
      "cell_type": "markdown",
      "source": [
        "Checking and Removing rows with null values"
      ],
      "metadata": {
        "id": "bs1p9_curobw"
      }
    },
    {
      "cell_type": "code",
      "source": [
        "# Check rows with null values\n",
        "smoking_df.isnull().sum().sort_values(ascending=False)"
      ],
      "metadata": {
        "colab": {
          "base_uri": "https://localhost:8080/"
        },
        "id": "TnDtqJ5frQbk",
        "outputId": "fe0adcd9-2ac1-4628-8ea8-4a9787fb9c3f"
      },
      "execution_count": null,
      "outputs": [
        {
          "output_type": "execute_result",
          "data": {
            "text/plain": [
              "ID        0\n",
              "STATUS    0\n",
              "TEXT      0\n",
              "dtype: int64"
            ]
          },
          "metadata": {},
          "execution_count": 6
        }
      ]
    },
    {
      "cell_type": "code",
      "source": [
        "#Remove rows with nulls\n",
        "smoking_df=smoking_df[smoking_df['TEXT'].notna()]\n",
        "smoking_df.info()"
      ],
      "metadata": {
        "colab": {
          "base_uri": "https://localhost:8080/"
        },
        "id": "ov51Ai-qrf4F",
        "outputId": "22874ece-7ab1-480a-cba7-a7c1db621cc5"
      },
      "execution_count": null,
      "outputs": [
        {
          "output_type": "stream",
          "name": "stdout",
          "text": [
            "<class 'pandas.core.frame.DataFrame'>\n",
            "RangeIndex: 398 entries, 0 to 397\n",
            "Data columns (total 3 columns):\n",
            " #   Column  Non-Null Count  Dtype \n",
            "---  ------  --------------  ----- \n",
            " 0   ID      398 non-null    int64 \n",
            " 1   STATUS  398 non-null    object\n",
            " 2   TEXT    398 non-null    object\n",
            "dtypes: int64(1), object(2)\n",
            "memory usage: 9.5+ KB\n"
          ]
        }
      ]
    },
    {
      "cell_type": "markdown",
      "source": [
        "Drop Duplicates"
      ],
      "metadata": {
        "id": "3mOF5_sxzjFy"
      }
    },
    {
      "cell_type": "code",
      "source": [
        "smoking_df['ID'].drop_duplicates()"
      ],
      "metadata": {
        "colab": {
          "base_uri": "https://localhost:8080/"
        },
        "id": "iL74xKn9zl-b",
        "outputId": "91c4e62d-0ddd-4bff-a1b0-e519a6e9a804"
      },
      "execution_count": null,
      "outputs": [
        {
          "output_type": "execute_result",
          "data": {
            "text/plain": [
              "0      641\n",
              "1      643\n",
              "2      681\n",
              "3      704\n",
              "4      757\n",
              "      ... \n",
              "393    401\n",
              "394    403\n",
              "395    416\n",
              "396    417\n",
              "397    419\n",
              "Name: ID, Length: 398, dtype: int64"
            ]
          },
          "metadata": {},
          "execution_count": 8
        }
      ]
    },
    {
      "cell_type": "markdown",
      "source": [
        "Lower casing of Text"
      ],
      "metadata": {
        "id": "7dkUX9s7sMUt"
      }
    },
    {
      "cell_type": "code",
      "source": [
        "smoking_df['CLEAN_TEXT']=smoking_df['TEXT'].str.lower()\n",
        "smoking_df.head()"
      ],
      "metadata": {
        "colab": {
          "base_uri": "https://localhost:8080/",
          "height": 206
        },
        "id": "wZ3Nr0XFsEHa",
        "outputId": "24fdc3f2-2dbe-42eb-a967-7dc02c94792c"
      },
      "execution_count": null,
      "outputs": [
        {
          "output_type": "execute_result",
          "data": {
            "text/plain": [
              "    ID          STATUS                                               TEXT  \\\n",
              "0  641  CURRENT SMOKER  977146916\\nHLGMC\\n2878891\\n022690\\n01/27/1997 ...   \n",
              "1  643  CURRENT SMOKER  026738007\\nCMC\\n15319689\\n3/25/1998 12:00:00 A...   \n",
              "2  681  CURRENT SMOKER  071962960\\nBH\\n4236518\\n417454\\n12/10/2001 12:...   \n",
              "3  704  CURRENT SMOKER  418520250\\nNVH\\n61562872\\n3/11/1995 12:00:00 A...   \n",
              "4  757  CURRENT SMOKER  301443520\\nCTMC\\n49020928\\n448922\\n1/11/1990 1...   \n",
              "\n",
              "                                          CLEAN_TEXT  \n",
              "0  977146916\\nhlgmc\\n2878891\\n022690\\n01/27/1997 ...  \n",
              "1  026738007\\ncmc\\n15319689\\n3/25/1998 12:00:00 a...  \n",
              "2  071962960\\nbh\\n4236518\\n417454\\n12/10/2001 12:...  \n",
              "3  418520250\\nnvh\\n61562872\\n3/11/1995 12:00:00 a...  \n",
              "4  301443520\\nctmc\\n49020928\\n448922\\n1/11/1990 1...  "
            ],
            "text/html": [
              "\n",
              "  <div id=\"df-d4dad5e6-cb79-4c83-9702-565dc2119784\" class=\"colab-df-container\">\n",
              "    <div>\n",
              "<style scoped>\n",
              "    .dataframe tbody tr th:only-of-type {\n",
              "        vertical-align: middle;\n",
              "    }\n",
              "\n",
              "    .dataframe tbody tr th {\n",
              "        vertical-align: top;\n",
              "    }\n",
              "\n",
              "    .dataframe thead th {\n",
              "        text-align: right;\n",
              "    }\n",
              "</style>\n",
              "<table border=\"1\" class=\"dataframe\">\n",
              "  <thead>\n",
              "    <tr style=\"text-align: right;\">\n",
              "      <th></th>\n",
              "      <th>ID</th>\n",
              "      <th>STATUS</th>\n",
              "      <th>TEXT</th>\n",
              "      <th>CLEAN_TEXT</th>\n",
              "    </tr>\n",
              "  </thead>\n",
              "  <tbody>\n",
              "    <tr>\n",
              "      <th>0</th>\n",
              "      <td>641</td>\n",
              "      <td>CURRENT SMOKER</td>\n",
              "      <td>977146916\\nHLGMC\\n2878891\\n022690\\n01/27/1997 ...</td>\n",
              "      <td>977146916\\nhlgmc\\n2878891\\n022690\\n01/27/1997 ...</td>\n",
              "    </tr>\n",
              "    <tr>\n",
              "      <th>1</th>\n",
              "      <td>643</td>\n",
              "      <td>CURRENT SMOKER</td>\n",
              "      <td>026738007\\nCMC\\n15319689\\n3/25/1998 12:00:00 A...</td>\n",
              "      <td>026738007\\ncmc\\n15319689\\n3/25/1998 12:00:00 a...</td>\n",
              "    </tr>\n",
              "    <tr>\n",
              "      <th>2</th>\n",
              "      <td>681</td>\n",
              "      <td>CURRENT SMOKER</td>\n",
              "      <td>071962960\\nBH\\n4236518\\n417454\\n12/10/2001 12:...</td>\n",
              "      <td>071962960\\nbh\\n4236518\\n417454\\n12/10/2001 12:...</td>\n",
              "    </tr>\n",
              "    <tr>\n",
              "      <th>3</th>\n",
              "      <td>704</td>\n",
              "      <td>CURRENT SMOKER</td>\n",
              "      <td>418520250\\nNVH\\n61562872\\n3/11/1995 12:00:00 A...</td>\n",
              "      <td>418520250\\nnvh\\n61562872\\n3/11/1995 12:00:00 a...</td>\n",
              "    </tr>\n",
              "    <tr>\n",
              "      <th>4</th>\n",
              "      <td>757</td>\n",
              "      <td>CURRENT SMOKER</td>\n",
              "      <td>301443520\\nCTMC\\n49020928\\n448922\\n1/11/1990 1...</td>\n",
              "      <td>301443520\\nctmc\\n49020928\\n448922\\n1/11/1990 1...</td>\n",
              "    </tr>\n",
              "  </tbody>\n",
              "</table>\n",
              "</div>\n",
              "    <div class=\"colab-df-buttons\">\n",
              "\n",
              "  <div class=\"colab-df-container\">\n",
              "    <button class=\"colab-df-convert\" onclick=\"convertToInteractive('df-d4dad5e6-cb79-4c83-9702-565dc2119784')\"\n",
              "            title=\"Convert this dataframe to an interactive table.\"\n",
              "            style=\"display:none;\">\n",
              "\n",
              "  <svg xmlns=\"http://www.w3.org/2000/svg\" height=\"24px\" viewBox=\"0 -960 960 960\">\n",
              "    <path d=\"M120-120v-720h720v720H120Zm60-500h600v-160H180v160Zm220 220h160v-160H400v160Zm0 220h160v-160H400v160ZM180-400h160v-160H180v160Zm440 0h160v-160H620v160ZM180-180h160v-160H180v160Zm440 0h160v-160H620v160Z\"/>\n",
              "  </svg>\n",
              "    </button>\n",
              "\n",
              "  <style>\n",
              "    .colab-df-container {\n",
              "      display:flex;\n",
              "      gap: 12px;\n",
              "    }\n",
              "\n",
              "    .colab-df-convert {\n",
              "      background-color: #E8F0FE;\n",
              "      border: none;\n",
              "      border-radius: 50%;\n",
              "      cursor: pointer;\n",
              "      display: none;\n",
              "      fill: #1967D2;\n",
              "      height: 32px;\n",
              "      padding: 0 0 0 0;\n",
              "      width: 32px;\n",
              "    }\n",
              "\n",
              "    .colab-df-convert:hover {\n",
              "      background-color: #E2EBFA;\n",
              "      box-shadow: 0px 1px 2px rgba(60, 64, 67, 0.3), 0px 1px 3px 1px rgba(60, 64, 67, 0.15);\n",
              "      fill: #174EA6;\n",
              "    }\n",
              "\n",
              "    .colab-df-buttons div {\n",
              "      margin-bottom: 4px;\n",
              "    }\n",
              "\n",
              "    [theme=dark] .colab-df-convert {\n",
              "      background-color: #3B4455;\n",
              "      fill: #D2E3FC;\n",
              "    }\n",
              "\n",
              "    [theme=dark] .colab-df-convert:hover {\n",
              "      background-color: #434B5C;\n",
              "      box-shadow: 0px 1px 3px 1px rgba(0, 0, 0, 0.15);\n",
              "      filter: drop-shadow(0px 1px 2px rgba(0, 0, 0, 0.3));\n",
              "      fill: #FFFFFF;\n",
              "    }\n",
              "  </style>\n",
              "\n",
              "    <script>\n",
              "      const buttonEl =\n",
              "        document.querySelector('#df-d4dad5e6-cb79-4c83-9702-565dc2119784 button.colab-df-convert');\n",
              "      buttonEl.style.display =\n",
              "        google.colab.kernel.accessAllowed ? 'block' : 'none';\n",
              "\n",
              "      async function convertToInteractive(key) {\n",
              "        const element = document.querySelector('#df-d4dad5e6-cb79-4c83-9702-565dc2119784');\n",
              "        const dataTable =\n",
              "          await google.colab.kernel.invokeFunction('convertToInteractive',\n",
              "                                                    [key], {});\n",
              "        if (!dataTable) return;\n",
              "\n",
              "        const docLinkHtml = 'Like what you see? Visit the ' +\n",
              "          '<a target=\"_blank\" href=https://colab.research.google.com/notebooks/data_table.ipynb>data table notebook</a>'\n",
              "          + ' to learn more about interactive tables.';\n",
              "        element.innerHTML = '';\n",
              "        dataTable['output_type'] = 'display_data';\n",
              "        await google.colab.output.renderOutput(dataTable, element);\n",
              "        const docLink = document.createElement('div');\n",
              "        docLink.innerHTML = docLinkHtml;\n",
              "        element.appendChild(docLink);\n",
              "      }\n",
              "    </script>\n",
              "  </div>\n",
              "\n",
              "\n",
              "<div id=\"df-260067e3-df0a-4aff-b478-32001fd9875b\">\n",
              "  <button class=\"colab-df-quickchart\" onclick=\"quickchart('df-260067e3-df0a-4aff-b478-32001fd9875b')\"\n",
              "            title=\"Suggest charts\"\n",
              "            style=\"display:none;\">\n",
              "\n",
              "<svg xmlns=\"http://www.w3.org/2000/svg\" height=\"24px\"viewBox=\"0 0 24 24\"\n",
              "     width=\"24px\">\n",
              "    <g>\n",
              "        <path d=\"M19 3H5c-1.1 0-2 .9-2 2v14c0 1.1.9 2 2 2h14c1.1 0 2-.9 2-2V5c0-1.1-.9-2-2-2zM9 17H7v-7h2v7zm4 0h-2V7h2v10zm4 0h-2v-4h2v4z\"/>\n",
              "    </g>\n",
              "</svg>\n",
              "  </button>\n",
              "\n",
              "<style>\n",
              "  .colab-df-quickchart {\n",
              "      --bg-color: #E8F0FE;\n",
              "      --fill-color: #1967D2;\n",
              "      --hover-bg-color: #E2EBFA;\n",
              "      --hover-fill-color: #174EA6;\n",
              "      --disabled-fill-color: #AAA;\n",
              "      --disabled-bg-color: #DDD;\n",
              "  }\n",
              "\n",
              "  [theme=dark] .colab-df-quickchart {\n",
              "      --bg-color: #3B4455;\n",
              "      --fill-color: #D2E3FC;\n",
              "      --hover-bg-color: #434B5C;\n",
              "      --hover-fill-color: #FFFFFF;\n",
              "      --disabled-bg-color: #3B4455;\n",
              "      --disabled-fill-color: #666;\n",
              "  }\n",
              "\n",
              "  .colab-df-quickchart {\n",
              "    background-color: var(--bg-color);\n",
              "    border: none;\n",
              "    border-radius: 50%;\n",
              "    cursor: pointer;\n",
              "    display: none;\n",
              "    fill: var(--fill-color);\n",
              "    height: 32px;\n",
              "    padding: 0;\n",
              "    width: 32px;\n",
              "  }\n",
              "\n",
              "  .colab-df-quickchart:hover {\n",
              "    background-color: var(--hover-bg-color);\n",
              "    box-shadow: 0 1px 2px rgba(60, 64, 67, 0.3), 0 1px 3px 1px rgba(60, 64, 67, 0.15);\n",
              "    fill: var(--button-hover-fill-color);\n",
              "  }\n",
              "\n",
              "  .colab-df-quickchart-complete:disabled,\n",
              "  .colab-df-quickchart-complete:disabled:hover {\n",
              "    background-color: var(--disabled-bg-color);\n",
              "    fill: var(--disabled-fill-color);\n",
              "    box-shadow: none;\n",
              "  }\n",
              "\n",
              "  .colab-df-spinner {\n",
              "    border: 2px solid var(--fill-color);\n",
              "    border-color: transparent;\n",
              "    border-bottom-color: var(--fill-color);\n",
              "    animation:\n",
              "      spin 1s steps(1) infinite;\n",
              "  }\n",
              "\n",
              "  @keyframes spin {\n",
              "    0% {\n",
              "      border-color: transparent;\n",
              "      border-bottom-color: var(--fill-color);\n",
              "      border-left-color: var(--fill-color);\n",
              "    }\n",
              "    20% {\n",
              "      border-color: transparent;\n",
              "      border-left-color: var(--fill-color);\n",
              "      border-top-color: var(--fill-color);\n",
              "    }\n",
              "    30% {\n",
              "      border-color: transparent;\n",
              "      border-left-color: var(--fill-color);\n",
              "      border-top-color: var(--fill-color);\n",
              "      border-right-color: var(--fill-color);\n",
              "    }\n",
              "    40% {\n",
              "      border-color: transparent;\n",
              "      border-right-color: var(--fill-color);\n",
              "      border-top-color: var(--fill-color);\n",
              "    }\n",
              "    60% {\n",
              "      border-color: transparent;\n",
              "      border-right-color: var(--fill-color);\n",
              "    }\n",
              "    80% {\n",
              "      border-color: transparent;\n",
              "      border-right-color: var(--fill-color);\n",
              "      border-bottom-color: var(--fill-color);\n",
              "    }\n",
              "    90% {\n",
              "      border-color: transparent;\n",
              "      border-bottom-color: var(--fill-color);\n",
              "    }\n",
              "  }\n",
              "</style>\n",
              "\n",
              "  <script>\n",
              "    async function quickchart(key) {\n",
              "      const quickchartButtonEl =\n",
              "        document.querySelector('#' + key + ' button');\n",
              "      quickchartButtonEl.disabled = true;  // To prevent multiple clicks.\n",
              "      quickchartButtonEl.classList.add('colab-df-spinner');\n",
              "      try {\n",
              "        const charts = await google.colab.kernel.invokeFunction(\n",
              "            'suggestCharts', [key], {});\n",
              "      } catch (error) {\n",
              "        console.error('Error during call to suggestCharts:', error);\n",
              "      }\n",
              "      quickchartButtonEl.classList.remove('colab-df-spinner');\n",
              "      quickchartButtonEl.classList.add('colab-df-quickchart-complete');\n",
              "    }\n",
              "    (() => {\n",
              "      let quickchartButtonEl =\n",
              "        document.querySelector('#df-260067e3-df0a-4aff-b478-32001fd9875b button');\n",
              "      quickchartButtonEl.style.display =\n",
              "        google.colab.kernel.accessAllowed ? 'block' : 'none';\n",
              "    })();\n",
              "  </script>\n",
              "</div>\n",
              "\n",
              "    </div>\n",
              "  </div>\n"
            ],
            "application/vnd.google.colaboratory.intrinsic+json": {
              "type": "dataframe",
              "variable_name": "smoking_df",
              "summary": "{\n  \"name\": \"smoking_df\",\n  \"rows\": 398,\n  \"fields\": [\n    {\n      \"column\": \"ID\",\n      \"properties\": {\n        \"dtype\": \"number\",\n        \"std\": 253,\n        \"min\": 2,\n        \"max\": 921,\n        \"num_unique_values\": 398,\n        \"samples\": [\n          920,\n          417,\n          865\n        ],\n        \"semantic_type\": \"\",\n        \"description\": \"\"\n      }\n    },\n    {\n      \"column\": \"STATUS\",\n      \"properties\": {\n        \"dtype\": \"category\",\n        \"num_unique_values\": 5,\n        \"samples\": [\n          \"NON-SMOKER\",\n          \"UNKNOWN\",\n          \"PAST SMOKER\"\n        ],\n        \"semantic_type\": \"\",\n        \"description\": \"\"\n      }\n    },\n    {\n      \"column\": \"TEXT\",\n      \"properties\": {\n        \"dtype\": \"string\",\n        \"num_unique_values\": 398,\n        \"samples\": [\n          \"448099088\\nGH\\n32371118\\n2/1/2002 12:00:00 AM\\nMULTIPLE MYELOMA , SHORTNESS OF BREATH\\nSigned\\nDIS\\nAdmission Date :\\n02/01/2002\\nReport Status :\\nSigned\\nDischarge Date :\\n02/11/2002\\nThe patient received care on Oncology A .\\nDISCHARGE DIAGNOSES :\\n1. MULTIPLE MYELOMA .\\n2. PLASMACYTOMA .\\nPATIENT PROBLEM LIST :\\n1. Kappa lyte chain multiple myeloma .\\n2. Status post hemorrhoidectomy .\\n3. Status post sphincterectomy .\\n4. Urinary retention .\\n5. Bone marrow transplant in 2000 .\\n6. Appendectomy .\\n7. History of pulmonary embolism .\\nHISTORY OF PRESENT ILLNESS :\\nMr. Chysfreierm is a 53-year-old man with Kappa lyte chain multiple myeloma admitted with pain , shortness of breath , fevers and weight loss .\\nHe was diagnosed with multiple myeloma in 1999 .\\nHe underwent radiation and VAD complicated by pulmonary embolus .\\nThis was followed by bone marrow transplant in 2000 .\\nHe relapsed and underwent IMIV-3 , Cytoxan and finally PS-341 , which brought his disease to excellent control during May to October , 2002 .\\nIn November he began to experience rectal pain , was diagnosed with a prolapsed hemorrhoid .\\nHe had a bout of appendicitis followed by surgery for his hemorrhoid in December .\\nRepeat surgery was required for another hemorrhoid .\\nThe month of admission he had an anal fissure repaired and then began to have more significant problems with urinary retention requiring catheterization for control , although he had noticed some problems with urinary retention up to two months ago .\\nOn admission he complained of right lateral thigh , buttock , \\\" nerve \\\" pain .\\nHe complained of fevers , chills and night sweats and a 20 pound weight loss , dyspnea on exertion lasting less than five minutes .\\nHis last bowel movement was one week prior to admission .\\nHe has no chest pain , abdominal pain , nausea , vomiting or diarrhea .\\nALLERGIES :\\nHe has no known drug allergies .\\nSOCIAL HISTORY :\\nHe is a former software engineer .\\nHe is married and has two children .\\nFAMILY HISTORY :\\nNoncontributory .\\nHis problem list is as per the problem list .\\nPERTINENT PHYSICAL FINDINGS ON ADMISSION :\\nVITAL SIGNS :\\nBlood pressure 153/92 , pulse 102 , respirations 20 , temperature 99 degrees Fahrenheit , satting 93 to 94% on room air .\\nGENERAL :\\nThe patient was awake and alert , in no acute distress .\\nHEENT :\\nPupils were equal , round , reactive to light .\\nHis extraocular movements were intact .\\nHis oropharynx was somewhat dry , but otherwise clear .\\nNECK :\\nHe had no lymphadenopathy .\\nHEART :\\nHis heart was regular rate and rhythm without gallops , however , II-III / VI systolic ejection murmur was heard .\\nLUNGS :\\nHis lungs were bilaterally clear to auscultation .\\nABDOMEN :\\nHis abdomen was benign .\\nEXTREMITIES :\\nThere was no edema of his extremities .\\nHis strength was 5/5 throughout .\\nSensation was intact grossly .\\nHe had 2+ symmetric reflexes with down-going toes bilaterally .\\nNEUROLOGIC :\\nHis cranial nerves were intact .\\nLABORATORY RESULTS ON ADMISSION :\\nSodium 133 , potassium 3.7 , creatinine 0.6 with a BUN of 5 , glucose 151 .\\nAlkaline phosphatase was 392 .\\nWhite count was 7 .\\nHematocrit was 24.6 .\\nHis INR was 1.3 with a PTT of 101 .\\nCalcium was 8.4 , phosphate 2.8 , mag 1.8 .\\nUA showed 30 to 40 red blood cells but had a negative dip stick .\\nHis chest X-ray showed elevation of the right hemidiaphragm with the colon of normal diameter , his new left rib fracture and soft tissue densities at the second rib and lateral sixth rib and then upper thoracic compression fracture .\\nThere were no complications of his admission .\\nHOSPITAL COURSE BY PROBLEM :\\nProblem number 1 , multiple myeloma .\\nThe patient was re-staged during his admission with a urine and serum electroimmunophoresis and a full skeletal survey .\\nHe also received a four-day Decadron burst .\\nThe patient had pain in the L3 distribution .\\nHis MRI of the spine showed no clear reason for the pain and thus , a pelvic CT was obtained showing a large right pelvic mass that likely was causing his leg pain .\\nRadiation oncology was scheduled for next Tuesday to irradiate the mass .\\nUrinary retention .\\nAlthough there was a T5 compression fracture compressing the cord without signal change , there was no evidence that this lesion could be causing his urinary retention ; and it was felt that the pelvic mass more likely accounted for his urinary retention .\\nFevers .\\nHis blood and urine cultures were obtained and remained negative throughout admission .\\nHis chest X-ray did not reveal source of his fevers .\\nThe patient was placed on Levaquin .\\nShortness of breath .\\nThe patient had a V-Q scan on admission that was low probability for PE .\\nThe patient had no evidence of acute pulmonary embolus and his shortness of breath resolved over the course of his admission .\\nThe patient had a T5 compression fracture with cord deformity .\\nNeurosurgery was consulted .\\nNo steroids were recommended .\\nA brace was ordered to stabilize the spine when the patient was up more than 10 minutes .\\nSurgical intervention per Dr. Jescneighagne was being evaluated and considered for the compression following his radiation therapy .\\nPosterior fossa mass .\\nThis mass was found on a screening MRI of the head per neurosurgery .\\nRadiation oncology also plans radiation to that lesion while he is getting radiation for the pelvic mass .\\nThe patient had no evidence of cerebellar dysfunction on discharge .\\nDISCHARGE MEDICATIONS :\\n1. Colace 100 mg p.o. b.i.d.\\n2. Zantac 150 mg p.o. b.i.d.\\n3. Senna tablets two tabs p.o. b.i.d.\\n4. MS Contin 30 mg p.o. b.i.d.\\n5. Neurontin 300 mg p.o. t.i.d.\\n6. Levofloxacin 500 mg p.o. q.d.\\n7. Decadron 40 mg x one day .\\n8. Lactulose 30 ml p.o. q.6h. p.r.n. constipation .\\n9. Flomax 0.4 mg p.o. q.d.\\n10. MSIR 5 to 10 mg q.4-6h. p.r.n. break-through pain .\\nThe patient 's discharge condition was satisfactory .\\nThe patient 's disposition was to home with nursing services for home safety and medication education .\\nThe patient is to follow up on Tuesday on Ven Hospital on Tuesday , February 15 .\\nThe patient is to follow up with Dr. Jescneighagne , neurosurgeon .\\nHe will call for an appointment to immediately follow his radiation therapy .\\nFinally , he will follow up with his outpatient oncologist , Dr. Shuffzeln as directed .\\nDictated By :\\nAVEJOH IRY WIERST , M.D. EH60\\nAttending :\\nTELSHEY SWATLLEEBTIK , M.D. QM04 BS287/919896\\nBatch :\\n82503\\nIndex No.\\nD2ZP7I6 SFO\\nD :\\n02/11/02\\nT :\\n02/11/02\\nCC :\\n1. STA O. BODEJOVE , M.D.\\n3. NALEO JESCNEIGHAGNE , M.D.\\n4. VEN HOSPITAL\\n[ report_end ]\",\n          \"895872725 ELMVH\\n99080881\\n979718\\n5/25/2002 12:00:00 AM\\nChest pain\\nDIS\\nAdmission Date :\\n05/25/2002\\nReport Status :\\nDischarge Date :\\n05/27/2002\\n****** DISCHARGE ORDERS ******\\nFYFEWIERST , MIER\\n799-99-77-2 X12\\nRoom :\\n33C-139\\nService :\\nCAR\\nDISCHARGE PATIENT ON :\\n05/27/02 AT 04:00 PM\\nCONTINGENT UPON\\nNot Applicable\\nWILL D / C ORDER BE USED AS THE D / C SUMMARY :\\nYES\\nAttending :\\nSAGELYSS , TYTUMZE VACHOLLE , M.D.\\nDISPOSITION :\\nHome\\nDISCHARGE MEDICATIONS :\\nLOPRESSOR ( METOPROLOL TARTRATE ) 12.5 MG PO BID\\nFood / Drug Interaction Instruction\\nTake consistently with meals or on empty stomach .\\nENALAPRIL MALEATE 20\\nMG PO BID DIET :\\nHouse / Low chol / low sat. fat\\nActivity - As tolerated\\nRETURN TO WORK :\\nAfter Appt with local physician\\nFOLLOW UP APPOINTMENT ( S ) :\\nDr. Hashimoto , No Known Allergies\\nADMIT DIAGNOSIS :\\nchest pressure ; r / o mi\\nPRINCIPAL DISCHARGE DIAGNOSIS ;\\nResponsible After Study for Causing Admission ) Chest pain\\nOTHER DIAGNOSIS ;\\nConditions , Infections , Complications , affecting Treatment / Stay\\nChest pain ; R / o\\nMI\\nOPERATIONS AND PROCEDURES :\\nOTHER TREATMENTS / PROCEDURES ( NOT IN O.R. )\\nEchocardiogram MRA Kidney\\nBRIEF RESUME OF HOSPITAL COURSE :\\n51 yo F h / o HTN , hyperchol , p / w SS chest pressure x 3 days .\\nUSOH until 3 day PTa , dev new SS chest pressure sometimes rad to back and L neck / jaw .\\nNot assoc with exertion ( pt has active lifestyle ) .\\nPressure lasted for hours at a time .\\nVariably assoc with SOB , nausea , palpitations , tremulousness , diaphoresis .\\nPt has HTN , measured BP home 200/100 .\\nReported to a local ED was found to have BP up to 200/100 .\\nPut on NTG drip without relief .\\nPain 2/10 persisted , relieved by MSO4 .\\nAt ELMVH ED , BP 160/87 .\\nNow adm for r / o MI , eval of ? demand ischemia , plus w / u of HTN urgency ( which may be very new in onset ) .\\nPE T97.5 P59 BP ( l ) 180/86 ( r ) 186/98 RR20 98% 2L .\\nExam only notable for II / VI systolic murmur .\\nLabs only notable for CK 54 ( nl ) , Trop 0.03 , Hct 35.6 MCV 79 .\\nEKG LBBB NSR .\\nCXR negative .\\nPlan ROMI protocol .\\nCP protocol .\\nCaptopril and nitropaste to control pressure .\\nMSO4 for CP .\\nEcho , MRA ( r / o dissection ) , urine catecholamines and VMA .\\nGuaiac all stools , check iron studies .\\nHOSPITAL COURSE\\n1. Chest Pain\\n- Pt placed on captopril 25 tid , lopressor 12.5 BID and NTG paste SS , achieving normal BP w / in 5 hrs of adm to floor .\\nHer CPress dissappeared over the same timeframe .\\n- pt r'd / o for mi by CPK ( 54-> 38-> 33 ) and TPN ( 0.03 ) , and stable EKG .\\n2. Hypertension\\n- controlled on captopril + lopressor to 110-130s ; NTG paste causing 30 pt drop so d / c'd .\\n- MRA kidney :\\nno stenosis ; no parenchymal lesions\\n- CXR :\\nno obvious mediastinal widening , but no comp arison film ; wnl\\n- echo :\\nprelim :\\nEF 55-60 , ? septal flattening , mild TR and MR , trace effusion -24h urine study :\\npending .\\nADDITIONAL COMMENTS :\\nDISCHARGE CONDITION :\\nSatisfactory\\nTO DO / PLAN :\\nNo dictated summary\\nENTERED BY :\\nMEED , CILE PRILARA , M.D. , PH.D. ( RG185 ) 05/27/02 05:35 PM\\n****** END OF DISCHARGE ORDERS ******\\n[ report_end ]\",\n          \"186890029\\nSH\\n58809909\\n1/5/1994 12:00:00 AM\\nDischarge Summary\\nSigned\\nDIS\\nAdmission Date :\\n01/05/1994\\nReport Status :\\nSigned\\nDischarge Date :\\n01/25/1994\\nPRINCIPLE DIAGNOSIS :\\nMETASTATIC ADENOCARCINOMA OF THE BREAST .\\nOTHER PROBLEMS :\\n1. HYPONATREMIA , 1-13-94 .\\n2. PULMONARY EMBOLUS , 1-14-94 .\\n3. DIARRHEA , NAUSEA AND VOMITING , FEVER .\\n4. HISTORY OF OVARIAN CYST RESECTION , 1975 .\\nHISTORY OF PRESENT ILLNESS :\\nThe patient is a 49 year old woman with a metastatic adenocarcinoma of the breast who is status post high dose chemotherapy with PBSE and CCSS support ending June 1994 .\\nShe was admitted on 1-5-94 for fever , chest wall ulceration , cellulitis and pain control .\\nThe patient first presented in October 1991 with a tender right axillary mass .\\nA mammogram done in November 1990 was negative .\\nHowever , mammography repeated in October 1991 showed bilateral breast masses , suspicious for carcinoma .\\nFine needle aspiration on October 23 , 1991 demonstrated atypical cells which occurred singly and in clusters .\\nStaging evaluation included normal liver function tests , normal blood counts and normal chest x-ray .\\nBone scan showed degenerative joint disease in the shoulders and lumbar spine as well as increased radio chaser uptake in the breast bilaterally .\\nDr. Berca Gachfrum performed a right modified mastectomy and left simple mastectomy on November 4 , 1991 .\\nThe right modified radical mastectomy contained a 5.5 cm poorly differentiated , Grade III out of III infiltrating ductal carcinoma .\\nThe margins were free of tumor , but 10 out of 21 lymph nodes were positive for metastatic carcinoma .\\nFurthermore there was a mass on the right pectoralis muscle which is supposed to be metastatic cancer .\\nThe left simple mastectomy also contained 5.5 cm poorly differentiated infiltrating ductal and intraductal carcinoma with extensive lymphatic vessel invasion .\\nEstrogen receptor was 0% by ERICA .\\nThe patient developed a large hematoma requiring surgical drainage .\\nTherefore she had a Stage III-A adenocarcinoma of the breast .\\nSince she was at high risk for both local and metastatic recurrence of her tumor , she received both systemic chemotherapy and radiation therapy .\\nThe patient was treated with CMSAP , which is Cytoxan , Methotrexate , Leukovoranrescue , 5-FU , Adriamycin and Prednisone for four cycles .\\nThere were no dose reductions for mucositis or myelosuppression .\\nHowever , following cycle 4 , she developed a flu-like illness , followed by fever , nonproductive cough and dyspnea on exertion .\\nABGs showed a pO2 of 79 , pH 7.44 , pO2 33 .\\nChest x-ray showed diffuse interstitial infiltrates .\\nThe differential diagnosis included viral pneumonitis , Mycoplasma , Chlamydia .\\nBasically in December 1993 , she returned to the Hem / Onc Clinic with chest wall nodules which turned out to be tumor recurrences and biopsied .\\nAlthough she had mediastinal recurrence , bone scan , head and liver CT were negative for metastatic disease .\\nShe was thus started on a Protocol of high dose chemotherapy with GCSF and peripheral stem cell support .\\nComplications has mainly included myelosuppression and mucositis .\\nShe also developed Klebsiella UTI after the second cycle of high dose chemotherapy .\\nIt was treated with gent and Cipro .\\nRe-staging done in April 1993 showed a decrease in the pretracheal nodes with question of some lymphangitic spread versus some pneumonitis .\\nIn May 1994 she received her first course of thiotepa and Velban and Methotrexate , which required some red cell transfusions .\\nIn mid May she was admitted for fever and neutropenia and at that time had a UTI with blood clots in the urine .\\nThe patient presents today with complaints of fever and a temperature of 100 .\\nShe has also been having diarrhea since November and her other complaints of admission include confusion , nausea and vomiting .\\nWe will include a very thorough HPI with this dictation that was done by Dr. Wedleung .\\nPAST MEDICAL HISTORY :\\nSignificant for metastatic breast cancer , complicated by fever and neutropenia .\\nUTIs , obstruction of the right subclavian vein and right brachial cephalic vein , herpes zoster .\\nStatus post ovarian cyst resection in 1975 .\\nShe had menarche at age 15 .\\nShe used the pill for five years in the past .\\nShe is G 2 , P 2 with spontaneous vaginal deliveries .\\nShe has a history of easy bruis ability .\\nShe is allergic to Augmentin which gives her a rash .\\nMEDICATIONS :\\nMS Contin , MSIR , and Percocet .\\nFAMILY HISTORY :\\nNoncontributory .\\nSOCIAL HISTORY :\\nMarried with two children .\\nShe worked as an occupational therapist at a professional center for handicapped children .\\nShe denies tobacco and drug use and drinks ethanol socially .\\nPHYSICAL EXAMINATION :\\nA cachectic white female .\\nT 100.1 , P 104 , blood pressure 130/90 , heart rate of 16 , she was sating 95% on room air .\\nHEENT - Pupils were miotic , measuring 2 mm but responsive to light .\\nNeck - Tender on the leftside with no lymphadenopathy or thyromegaly .\\nLungs were clear .\\nChest actually had a 5 x 7 cm necrotic area on the left chest wall with some pus .\\nCardiovascular - Normal .\\nAbdomen - Normal .\\nThere was no HSM .\\nExtremities - Her left arm was very swollen .\\nIt was tested with no voluntary movement except at the finger tips .\\nThere was no edema elsewhere in her extremities , only the left arm .\\nNeuro - The patient was oriented to place , but had difficulty with recent memory .\\nShe also had mild weakness in the left extremities , both upper and lower .\\nCranial nerves II - XII were grossly intact .\\nToes were downgoing .\\nLABORATORY DATA :\\nOf note - Na 133 , K 4 , WBC 8.82 , hematocrit 35.1 , platelets 229 .\\nPT 13.8 with an INR of 1.3 , PTT 25.5 , total protein was 6.2 , albumin 3.4 , globulin of 2.8 , calcium of 9.1 , phos 2.7 , mag 2.1 , urea 3.7 .\\nALT was elevated at 240 , AST 85 , LDH 305 , alk phos 85 , total bilirubin was 1.3 , direct bili was .8 .\\nCholesterol 188 , triglyceride was 127 .\\nUA - trace protein , trace ketones , positive for bilirubin and nitrogen and also 4 to 6 wbcs with 1+ bacteria .\\nChest x-ray - Showed a left paratracheal adenopathy and small left pleural effusion with no evidence of pneumonia .\\nIn summary , the patient is a 49 year old woman with metastatic breast cell CA , status post chemotherapy with CMSAP and PVSC and XRT who presented with fever , four days of diarrhea , nausea and vomiting and had been on Keflex for an erythema on her left chest wall .\\nThe Keflex was stopped when she developed the diarrhea .\\nWhen she arrived the plan was to go ahead and treat here rythematous induration and possible cellulitis with IV antibiotics .\\nSo she was put on dicloxicillin and we did local wound care with an agent called Santyl , which is a collagenace ondebrided which worked very well for her .\\nAlso at the time of admission we were also considering palliative Taxol chemotherapy , which the patient declined .\\nShe refused the Taxol therapy so that was not done .\\nAnother major issue with this patient was pain control .\\nShe had been in a whole lot of pain from her left arm lesion .\\nSo pain control was a big issue so she was on MS Contin and MSIR at home she thought that clouded her thinking , so we tried different things for pain management .\\nOne of them was to do a subarachnoid neurologic block at C6-C7 interface on 1-6-94 .\\nAfter that the patient had minimal relief of pain .\\nHowever , she declined further blocks , which were offered to her .\\nSo accepted to be on dilaudid p.o. which was started at a dosage of 2-4 meg but since then we have tapered it up .\\nShe is now getting dilaudid 8 mg q2h and in addition she has been on fentanyl patch .\\nShe is now getting 75 micrograms per hour of the fentanyl patch which is changed every 72 hours .\\nWe can go up by 25 mg on the fentanyl patch as needed to control her pain and we can always go up on the dilaudid because she is still in considerable amount of pain .\\nOther things that happened during this admission - we obtained ahead CT for her on the 8th of January because of her clouded thinking and altered mental status , which was probably due to the morphine that she was taking .\\nWe went ahead and got a head CT scanand it showed no enhancing lesions .\\nIn addition her liver transaminases were elevated , we thought about doing further work-up , but that was deferred because the patient wanted to wait on that .\\nThat has been stable .\\nThe patient on January 13 became hyponatremic .\\nHer sodium went down to 121 and before that on admission she was 133 .\\nA renal consult was obtained and their assessment was that this was probably a mixture of hypovolemia as well as SIADH .\\nWe proceeded to do for her hyponatremia - we gave her some fluid and her urine sodium became higher than her serum sodium ; we stopped it .\\nWe had given her some normal saline and then we proceeded to just do fluid restriction .\\nIn addition we gave her a sodium chloride one gram per day and that also helped , so that now at the time of discharge , the patient 's sodium is between 126 and 129 ; prior to that it had gone down to as low 116.\\nSo that has really improved .\\nWe suggest continuing increased salt intake in her diet and also continuing with the fluid restriction of free water intake to one liter per day .\\nOn the 14th of January , the patient developed increased shortness of breath and chest x-ray was taken showed a wedge shaped infiltrate in the right upper lobe which was consistent with Hampton 's hump .\\nAlso a VQ scan obtained the next day showed high probability for PE .\\nSo we proceeded to put her on heparin for anticoagulation and then when she was therapeutic on heparin , we went ahead and started her on coumadin and she is currently on coumadin at 2.5 mg q.h.s.\\nHer INR is 2.3 .\\nWe want her INR to remain between 2 and 3 .\\nSo if it goes much lower than 2 , then we would consider increasing it to perhaps coumadin 2.5 and 5 alternating every other night .\\nHowever , we would leave it at 2.5 for now .\\nOther major issues - As a result of all the things happened and with her hyponatremia and also the other problems , her blood pressure was elevated also .\\nWe put her on nifedipine IR , SL and that was not enough to control her blood pressure which was in the 200s in the systolic , so we had started her on atenolol .\\nSo on discharge she is on atenolol 100 .\\nIf needed to you can give her some nifedipine SL to decrease her blood pressure .\\nThe patient also has significant edema in both arms now and also some mild edema in the lower extremities , so I think that fluid restriction should help with that .\\nShe is also a little dry .\\nThe patient is on oxygen .\\nEver since the pulmonary embolus she has been on oxygen .\\nShe was on 4 liters ; now she is on 5 liters , sating 94 to 96% on 5 liters .\\nWe would like for her to remain on the oxygen as well .\\nThe complications that I have listed include the hyponatremia , pulmonary embolus and also the elevatd blood pressure .\\nDISPOSITION :\\nDischarge medications - Baclofen 10 p.o. t.i.d. , MVI one tablet p.o. q.d. , Mycostatin powder TP q.d. to be applied to the rash in her left groin area , also dilaudid 8 mg p.o. q2h , Colace 100 mg p.o. b.i.d. , coumadin 2.5 mg p.o. q.h.s. fentanyl patch 75 micrograms per hour topical q72 hours , atenolol 100 mg p.o. q.d.\\nCONDITION ON DISCHARGE :\\nFair .\\nShe remains very weak and will most likely benefit from some physical therapy andshe still has the bilateral edema .\\nShe is to go to the Necsoncardel Medical Center for more chronic care .\\nFollow-up is with Dr. Wedleung in the Hem / Onc in two weeks .\\nThe appointment has already been made .\\nThe patient is very limited in how much she can do right now because of her pain primarily and her difficulty breathing .\\nDictated By :\\nJEABRIHARL FIGEFREIERMFOTHGRENDCAJAQUE , M.D.\\nAttending :\\nLA INEMACISTIN PRONTMANDES , M.D. HD45 SY882/1177\\nBatch :\\n020\\nIndex No.\\nYJQI3J9VU6\\nD :\\n01/25/94\\nT :\\n01/25/94\\n[ report_end ]\"\n        ],\n        \"semantic_type\": \"\",\n        \"description\": \"\"\n      }\n    },\n    {\n      \"column\": \"CLEAN_TEXT\",\n      \"properties\": {\n        \"dtype\": \"string\",\n        \"num_unique_values\": 398,\n        \"samples\": [\n          \"448099088\\ngh\\n32371118\\n2/1/2002 12:00:00 am\\nmultiple myeloma , shortness of breath\\nsigned\\ndis\\nadmission date :\\n02/01/2002\\nreport status :\\nsigned\\ndischarge date :\\n02/11/2002\\nthe patient received care on oncology a .\\ndischarge diagnoses :\\n1. multiple myeloma .\\n2. plasmacytoma .\\npatient problem list :\\n1. kappa lyte chain multiple myeloma .\\n2. status post hemorrhoidectomy .\\n3. status post sphincterectomy .\\n4. urinary retention .\\n5. bone marrow transplant in 2000 .\\n6. appendectomy .\\n7. history of pulmonary embolism .\\nhistory of present illness :\\nmr. chysfreierm is a 53-year-old man with kappa lyte chain multiple myeloma admitted with pain , shortness of breath , fevers and weight loss .\\nhe was diagnosed with multiple myeloma in 1999 .\\nhe underwent radiation and vad complicated by pulmonary embolus .\\nthis was followed by bone marrow transplant in 2000 .\\nhe relapsed and underwent imiv-3 , cytoxan and finally ps-341 , which brought his disease to excellent control during may to october , 2002 .\\nin november he began to experience rectal pain , was diagnosed with a prolapsed hemorrhoid .\\nhe had a bout of appendicitis followed by surgery for his hemorrhoid in december .\\nrepeat surgery was required for another hemorrhoid .\\nthe month of admission he had an anal fissure repaired and then began to have more significant problems with urinary retention requiring catheterization for control , although he had noticed some problems with urinary retention up to two months ago .\\non admission he complained of right lateral thigh , buttock , \\\" nerve \\\" pain .\\nhe complained of fevers , chills and night sweats and a 20 pound weight loss , dyspnea on exertion lasting less than five minutes .\\nhis last bowel movement was one week prior to admission .\\nhe has no chest pain , abdominal pain , nausea , vomiting or diarrhea .\\nallergies :\\nhe has no known drug allergies .\\nsocial history :\\nhe is a former software engineer .\\nhe is married and has two children .\\nfamily history :\\nnoncontributory .\\nhis problem list is as per the problem list .\\npertinent physical findings on admission :\\nvital signs :\\nblood pressure 153/92 , pulse 102 , respirations 20 , temperature 99 degrees fahrenheit , satting 93 to 94% on room air .\\ngeneral :\\nthe patient was awake and alert , in no acute distress .\\nheent :\\npupils were equal , round , reactive to light .\\nhis extraocular movements were intact .\\nhis oropharynx was somewhat dry , but otherwise clear .\\nneck :\\nhe had no lymphadenopathy .\\nheart :\\nhis heart was regular rate and rhythm without gallops , however , ii-iii / vi systolic ejection murmur was heard .\\nlungs :\\nhis lungs were bilaterally clear to auscultation .\\nabdomen :\\nhis abdomen was benign .\\nextremities :\\nthere was no edema of his extremities .\\nhis strength was 5/5 throughout .\\nsensation was intact grossly .\\nhe had 2+ symmetric reflexes with down-going toes bilaterally .\\nneurologic :\\nhis cranial nerves were intact .\\nlaboratory results on admission :\\nsodium 133 , potassium 3.7 , creatinine 0.6 with a bun of 5 , glucose 151 .\\nalkaline phosphatase was 392 .\\nwhite count was 7 .\\nhematocrit was 24.6 .\\nhis inr was 1.3 with a ptt of 101 .\\ncalcium was 8.4 , phosphate 2.8 , mag 1.8 .\\nua showed 30 to 40 red blood cells but had a negative dip stick .\\nhis chest x-ray showed elevation of the right hemidiaphragm with the colon of normal diameter , his new left rib fracture and soft tissue densities at the second rib and lateral sixth rib and then upper thoracic compression fracture .\\nthere were no complications of his admission .\\nhospital course by problem :\\nproblem number 1 , multiple myeloma .\\nthe patient was re-staged during his admission with a urine and serum electroimmunophoresis and a full skeletal survey .\\nhe also received a four-day decadron burst .\\nthe patient had pain in the l3 distribution .\\nhis mri of the spine showed no clear reason for the pain and thus , a pelvic ct was obtained showing a large right pelvic mass that likely was causing his leg pain .\\nradiation oncology was scheduled for next tuesday to irradiate the mass .\\nurinary retention .\\nalthough there was a t5 compression fracture compressing the cord without signal change , there was no evidence that this lesion could be causing his urinary retention ; and it was felt that the pelvic mass more likely accounted for his urinary retention .\\nfevers .\\nhis blood and urine cultures were obtained and remained negative throughout admission .\\nhis chest x-ray did not reveal source of his fevers .\\nthe patient was placed on levaquin .\\nshortness of breath .\\nthe patient had a v-q scan on admission that was low probability for pe .\\nthe patient had no evidence of acute pulmonary embolus and his shortness of breath resolved over the course of his admission .\\nthe patient had a t5 compression fracture with cord deformity .\\nneurosurgery was consulted .\\nno steroids were recommended .\\na brace was ordered to stabilize the spine when the patient was up more than 10 minutes .\\nsurgical intervention per dr. jescneighagne was being evaluated and considered for the compression following his radiation therapy .\\nposterior fossa mass .\\nthis mass was found on a screening mri of the head per neurosurgery .\\nradiation oncology also plans radiation to that lesion while he is getting radiation for the pelvic mass .\\nthe patient had no evidence of cerebellar dysfunction on discharge .\\ndischarge medications :\\n1. colace 100 mg p.o. b.i.d.\\n2. zantac 150 mg p.o. b.i.d.\\n3. senna tablets two tabs p.o. b.i.d.\\n4. ms contin 30 mg p.o. b.i.d.\\n5. neurontin 300 mg p.o. t.i.d.\\n6. levofloxacin 500 mg p.o. q.d.\\n7. decadron 40 mg x one day .\\n8. lactulose 30 ml p.o. q.6h. p.r.n. constipation .\\n9. flomax 0.4 mg p.o. q.d.\\n10. msir 5 to 10 mg q.4-6h. p.r.n. break-through pain .\\nthe patient 's discharge condition was satisfactory .\\nthe patient 's disposition was to home with nursing services for home safety and medication education .\\nthe patient is to follow up on tuesday on ven hospital on tuesday , february 15 .\\nthe patient is to follow up with dr. jescneighagne , neurosurgeon .\\nhe will call for an appointment to immediately follow his radiation therapy .\\nfinally , he will follow up with his outpatient oncologist , dr. shuffzeln as directed .\\ndictated by :\\navejoh iry wierst , m.d. eh60\\nattending :\\ntelshey swatlleebtik , m.d. qm04 bs287/919896\\nbatch :\\n82503\\nindex no.\\nd2zp7i6 sfo\\nd :\\n02/11/02\\nt :\\n02/11/02\\ncc :\\n1. sta o. bodejove , m.d.\\n3. naleo jescneighagne , m.d.\\n4. ven hospital\\n[ report_end ]\",\n          \"895872725 elmvh\\n99080881\\n979718\\n5/25/2002 12:00:00 am\\nchest pain\\ndis\\nadmission date :\\n05/25/2002\\nreport status :\\ndischarge date :\\n05/27/2002\\n****** discharge orders ******\\nfyfewierst , mier\\n799-99-77-2 x12\\nroom :\\n33c-139\\nservice :\\ncar\\ndischarge patient on :\\n05/27/02 at 04:00 pm\\ncontingent upon\\nnot applicable\\nwill d / c order be used as the d / c summary :\\nyes\\nattending :\\nsagelyss , tytumze vacholle , m.d.\\ndisposition :\\nhome\\ndischarge medications :\\nlopressor ( metoprolol tartrate ) 12.5 mg po bid\\nfood / drug interaction instruction\\ntake consistently with meals or on empty stomach .\\nenalapril maleate 20\\nmg po bid diet :\\nhouse / low chol / low sat. fat\\nactivity - as tolerated\\nreturn to work :\\nafter appt with local physician\\nfollow up appointment ( s ) :\\ndr. hashimoto , no known allergies\\nadmit diagnosis :\\nchest pressure ; r / o mi\\nprincipal discharge diagnosis ;\\nresponsible after study for causing admission ) chest pain\\nother diagnosis ;\\nconditions , infections , complications , affecting treatment / stay\\nchest pain ; r / o\\nmi\\noperations and procedures :\\nother treatments / procedures ( not in o.r. )\\nechocardiogram mra kidney\\nbrief resume of hospital course :\\n51 yo f h / o htn , hyperchol , p / w ss chest pressure x 3 days .\\nusoh until 3 day pta , dev new ss chest pressure sometimes rad to back and l neck / jaw .\\nnot assoc with exertion ( pt has active lifestyle ) .\\npressure lasted for hours at a time .\\nvariably assoc with sob , nausea , palpitations , tremulousness , diaphoresis .\\npt has htn , measured bp home 200/100 .\\nreported to a local ed was found to have bp up to 200/100 .\\nput on ntg drip without relief .\\npain 2/10 persisted , relieved by mso4 .\\nat elmvh ed , bp 160/87 .\\nnow adm for r / o mi , eval of ? demand ischemia , plus w / u of htn urgency ( which may be very new in onset ) .\\npe t97.5 p59 bp ( l ) 180/86 ( r ) 186/98 rr20 98% 2l .\\nexam only notable for ii / vi systolic murmur .\\nlabs only notable for ck 54 ( nl ) , trop 0.03 , hct 35.6 mcv 79 .\\nekg lbbb nsr .\\ncxr negative .\\nplan romi protocol .\\ncp protocol .\\ncaptopril and nitropaste to control pressure .\\nmso4 for cp .\\necho , mra ( r / o dissection ) , urine catecholamines and vma .\\nguaiac all stools , check iron studies .\\nhospital course\\n1. chest pain\\n- pt placed on captopril 25 tid , lopressor 12.5 bid and ntg paste ss , achieving normal bp w / in 5 hrs of adm to floor .\\nher cpress dissappeared over the same timeframe .\\n- pt r'd / o for mi by cpk ( 54-> 38-> 33 ) and tpn ( 0.03 ) , and stable ekg .\\n2. hypertension\\n- controlled on captopril + lopressor to 110-130s ; ntg paste causing 30 pt drop so d / c'd .\\n- mra kidney :\\nno stenosis ; no parenchymal lesions\\n- cxr :\\nno obvious mediastinal widening , but no comp arison film ; wnl\\n- echo :\\nprelim :\\nef 55-60 , ? septal flattening , mild tr and mr , trace effusion -24h urine study :\\npending .\\nadditional comments :\\ndischarge condition :\\nsatisfactory\\nto do / plan :\\nno dictated summary\\nentered by :\\nmeed , cile prilara , m.d. , ph.d. ( rg185 ) 05/27/02 05:35 pm\\n****** end of discharge orders ******\\n[ report_end ]\",\n          \"186890029\\nsh\\n58809909\\n1/5/1994 12:00:00 am\\ndischarge summary\\nsigned\\ndis\\nadmission date :\\n01/05/1994\\nreport status :\\nsigned\\ndischarge date :\\n01/25/1994\\nprinciple diagnosis :\\nmetastatic adenocarcinoma of the breast .\\nother problems :\\n1. hyponatremia , 1-13-94 .\\n2. pulmonary embolus , 1-14-94 .\\n3. diarrhea , nausea and vomiting , fever .\\n4. history of ovarian cyst resection , 1975 .\\nhistory of present illness :\\nthe patient is a 49 year old woman with a metastatic adenocarcinoma of the breast who is status post high dose chemotherapy with pbse and ccss support ending june 1994 .\\nshe was admitted on 1-5-94 for fever , chest wall ulceration , cellulitis and pain control .\\nthe patient first presented in october 1991 with a tender right axillary mass .\\na mammogram done in november 1990 was negative .\\nhowever , mammography repeated in october 1991 showed bilateral breast masses , suspicious for carcinoma .\\nfine needle aspiration on october 23 , 1991 demonstrated atypical cells which occurred singly and in clusters .\\nstaging evaluation included normal liver function tests , normal blood counts and normal chest x-ray .\\nbone scan showed degenerative joint disease in the shoulders and lumbar spine as well as increased radio chaser uptake in the breast bilaterally .\\ndr. berca gachfrum performed a right modified mastectomy and left simple mastectomy on november 4 , 1991 .\\nthe right modified radical mastectomy contained a 5.5 cm poorly differentiated , grade iii out of iii infiltrating ductal carcinoma .\\nthe margins were free of tumor , but 10 out of 21 lymph nodes were positive for metastatic carcinoma .\\nfurthermore there was a mass on the right pectoralis muscle which is supposed to be metastatic cancer .\\nthe left simple mastectomy also contained 5.5 cm poorly differentiated infiltrating ductal and intraductal carcinoma with extensive lymphatic vessel invasion .\\nestrogen receptor was 0% by erica .\\nthe patient developed a large hematoma requiring surgical drainage .\\ntherefore she had a stage iii-a adenocarcinoma of the breast .\\nsince she was at high risk for both local and metastatic recurrence of her tumor , she received both systemic chemotherapy and radiation therapy .\\nthe patient was treated with cmsap , which is cytoxan , methotrexate , leukovoranrescue , 5-fu , adriamycin and prednisone for four cycles .\\nthere were no dose reductions for mucositis or myelosuppression .\\nhowever , following cycle 4 , she developed a flu-like illness , followed by fever , nonproductive cough and dyspnea on exertion .\\nabgs showed a po2 of 79 , ph 7.44 , po2 33 .\\nchest x-ray showed diffuse interstitial infiltrates .\\nthe differential diagnosis included viral pneumonitis , mycoplasma , chlamydia .\\nbasically in december 1993 , she returned to the hem / onc clinic with chest wall nodules which turned out to be tumor recurrences and biopsied .\\nalthough she had mediastinal recurrence , bone scan , head and liver ct were negative for metastatic disease .\\nshe was thus started on a protocol of high dose chemotherapy with gcsf and peripheral stem cell support .\\ncomplications has mainly included myelosuppression and mucositis .\\nshe also developed klebsiella uti after the second cycle of high dose chemotherapy .\\nit was treated with gent and cipro .\\nre-staging done in april 1993 showed a decrease in the pretracheal nodes with question of some lymphangitic spread versus some pneumonitis .\\nin may 1994 she received her first course of thiotepa and velban and methotrexate , which required some red cell transfusions .\\nin mid may she was admitted for fever and neutropenia and at that time had a uti with blood clots in the urine .\\nthe patient presents today with complaints of fever and a temperature of 100 .\\nshe has also been having diarrhea since november and her other complaints of admission include confusion , nausea and vomiting .\\nwe will include a very thorough hpi with this dictation that was done by dr. wedleung .\\npast medical history :\\nsignificant for metastatic breast cancer , complicated by fever and neutropenia .\\nutis , obstruction of the right subclavian vein and right brachial cephalic vein , herpes zoster .\\nstatus post ovarian cyst resection in 1975 .\\nshe had menarche at age 15 .\\nshe used the pill for five years in the past .\\nshe is g 2 , p 2 with spontaneous vaginal deliveries .\\nshe has a history of easy bruis ability .\\nshe is allergic to augmentin which gives her a rash .\\nmedications :\\nms contin , msir , and percocet .\\nfamily history :\\nnoncontributory .\\nsocial history :\\nmarried with two children .\\nshe worked as an occupational therapist at a professional center for handicapped children .\\nshe denies tobacco and drug use and drinks ethanol socially .\\nphysical examination :\\na cachectic white female .\\nt 100.1 , p 104 , blood pressure 130/90 , heart rate of 16 , she was sating 95% on room air .\\nheent - pupils were miotic , measuring 2 mm but responsive to light .\\nneck - tender on the leftside with no lymphadenopathy or thyromegaly .\\nlungs were clear .\\nchest actually had a 5 x 7 cm necrotic area on the left chest wall with some pus .\\ncardiovascular - normal .\\nabdomen - normal .\\nthere was no hsm .\\nextremities - her left arm was very swollen .\\nit was tested with no voluntary movement except at the finger tips .\\nthere was no edema elsewhere in her extremities , only the left arm .\\nneuro - the patient was oriented to place , but had difficulty with recent memory .\\nshe also had mild weakness in the left extremities , both upper and lower .\\ncranial nerves ii - xii were grossly intact .\\ntoes were downgoing .\\nlaboratory data :\\nof note - na 133 , k 4 , wbc 8.82 , hematocrit 35.1 , platelets 229 .\\npt 13.8 with an inr of 1.3 , ptt 25.5 , total protein was 6.2 , albumin 3.4 , globulin of 2.8 , calcium of 9.1 , phos 2.7 , mag 2.1 , urea 3.7 .\\nalt was elevated at 240 , ast 85 , ldh 305 , alk phos 85 , total bilirubin was 1.3 , direct bili was .8 .\\ncholesterol 188 , triglyceride was 127 .\\nua - trace protein , trace ketones , positive for bilirubin and nitrogen and also 4 to 6 wbcs with 1+ bacteria .\\nchest x-ray - showed a left paratracheal adenopathy and small left pleural effusion with no evidence of pneumonia .\\nin summary , the patient is a 49 year old woman with metastatic breast cell ca , status post chemotherapy with cmsap and pvsc and xrt who presented with fever , four days of diarrhea , nausea and vomiting and had been on keflex for an erythema on her left chest wall .\\nthe keflex was stopped when she developed the diarrhea .\\nwhen she arrived the plan was to go ahead and treat here rythematous induration and possible cellulitis with iv antibiotics .\\nso she was put on dicloxicillin and we did local wound care with an agent called santyl , which is a collagenace ondebrided which worked very well for her .\\nalso at the time of admission we were also considering palliative taxol chemotherapy , which the patient declined .\\nshe refused the taxol therapy so that was not done .\\nanother major issue with this patient was pain control .\\nshe had been in a whole lot of pain from her left arm lesion .\\nso pain control was a big issue so she was on ms contin and msir at home she thought that clouded her thinking , so we tried different things for pain management .\\none of them was to do a subarachnoid neurologic block at c6-c7 interface on 1-6-94 .\\nafter that the patient had minimal relief of pain .\\nhowever , she declined further blocks , which were offered to her .\\nso accepted to be on dilaudid p.o. which was started at a dosage of 2-4 meg but since then we have tapered it up .\\nshe is now getting dilaudid 8 mg q2h and in addition she has been on fentanyl patch .\\nshe is now getting 75 micrograms per hour of the fentanyl patch which is changed every 72 hours .\\nwe can go up by 25 mg on the fentanyl patch as needed to control her pain and we can always go up on the dilaudid because she is still in considerable amount of pain .\\nother things that happened during this admission - we obtained ahead ct for her on the 8th of january because of her clouded thinking and altered mental status , which was probably due to the morphine that she was taking .\\nwe went ahead and got a head ct scanand it showed no enhancing lesions .\\nin addition her liver transaminases were elevated , we thought about doing further work-up , but that was deferred because the patient wanted to wait on that .\\nthat has been stable .\\nthe patient on january 13 became hyponatremic .\\nher sodium went down to 121 and before that on admission she was 133 .\\na renal consult was obtained and their assessment was that this was probably a mixture of hypovolemia as well as siadh .\\nwe proceeded to do for her hyponatremia - we gave her some fluid and her urine sodium became higher than her serum sodium ; we stopped it .\\nwe had given her some normal saline and then we proceeded to just do fluid restriction .\\nin addition we gave her a sodium chloride one gram per day and that also helped , so that now at the time of discharge , the patient 's sodium is between 126 and 129 ; prior to that it had gone down to as low 116.\\nso that has really improved .\\nwe suggest continuing increased salt intake in her diet and also continuing with the fluid restriction of free water intake to one liter per day .\\non the 14th of january , the patient developed increased shortness of breath and chest x-ray was taken showed a wedge shaped infiltrate in the right upper lobe which was consistent with hampton 's hump .\\nalso a vq scan obtained the next day showed high probability for pe .\\nso we proceeded to put her on heparin for anticoagulation and then when she was therapeutic on heparin , we went ahead and started her on coumadin and she is currently on coumadin at 2.5 mg q.h.s.\\nher inr is 2.3 .\\nwe want her inr to remain between 2 and 3 .\\nso if it goes much lower than 2 , then we would consider increasing it to perhaps coumadin 2.5 and 5 alternating every other night .\\nhowever , we would leave it at 2.5 for now .\\nother major issues - as a result of all the things happened and with her hyponatremia and also the other problems , her blood pressure was elevated also .\\nwe put her on nifedipine ir , sl and that was not enough to control her blood pressure which was in the 200s in the systolic , so we had started her on atenolol .\\nso on discharge she is on atenolol 100 .\\nif needed to you can give her some nifedipine sl to decrease her blood pressure .\\nthe patient also has significant edema in both arms now and also some mild edema in the lower extremities , so i think that fluid restriction should help with that .\\nshe is also a little dry .\\nthe patient is on oxygen .\\never since the pulmonary embolus she has been on oxygen .\\nshe was on 4 liters ; now she is on 5 liters , sating 94 to 96% on 5 liters .\\nwe would like for her to remain on the oxygen as well .\\nthe complications that i have listed include the hyponatremia , pulmonary embolus and also the elevatd blood pressure .\\ndisposition :\\ndischarge medications - baclofen 10 p.o. t.i.d. , mvi one tablet p.o. q.d. , mycostatin powder tp q.d. to be applied to the rash in her left groin area , also dilaudid 8 mg p.o. q2h , colace 100 mg p.o. b.i.d. , coumadin 2.5 mg p.o. q.h.s. fentanyl patch 75 micrograms per hour topical q72 hours , atenolol 100 mg p.o. q.d.\\ncondition on discharge :\\nfair .\\nshe remains very weak and will most likely benefit from some physical therapy andshe still has the bilateral edema .\\nshe is to go to the necsoncardel medical center for more chronic care .\\nfollow-up is with dr. wedleung in the hem / onc in two weeks .\\nthe appointment has already been made .\\nthe patient is very limited in how much she can do right now because of her pain primarily and her difficulty breathing .\\ndictated by :\\njeabriharl figefreiermfothgrendcajaque , m.d.\\nattending :\\nla inemacistin prontmandes , m.d. hd45 sy882/1177\\nbatch :\\n020\\nindex no.\\nyjqi3j9vu6\\nd :\\n01/25/94\\nt :\\n01/25/94\\n[ report_end ]\"\n        ],\n        \"semantic_type\": \"\",\n        \"description\": \"\"\n      }\n    }\n  ]\n}"
            }
          },
          "metadata": {},
          "execution_count": 9
        }
      ]
    },
    {
      "cell_type": "markdown",
      "source": [
        "Removal of Punctuations"
      ],
      "metadata": {
        "id": "06B6LoqDwnz0"
      }
    },
    {
      "cell_type": "code",
      "source": [
        "print('Punctuations:  ',string.punctuation)\n",
        "def remove_punctuations(text):\n",
        "  punctuation=string.punctuation\n",
        "  return text.translate(str.maketrans('','',punctuation))\n",
        "\n",
        "smoking_df['CLEAN_TEXT']=smoking_df['CLEAN_TEXT'].apply(lambda x:remove_punctuations(x))\n",
        "smoking_df.head()"
      ],
      "metadata": {
        "colab": {
          "base_uri": "https://localhost:8080/",
          "height": 224
        },
        "id": "Ik_OZkdnsbnu",
        "outputId": "4b69c37f-6a53-42a0-8391-092580bf3e8c"
      },
      "execution_count": null,
      "outputs": [
        {
          "output_type": "stream",
          "name": "stdout",
          "text": [
            "Punctuations:   !\"#$%&'()*+,-./:;<=>?@[\\]^_`{|}~\n"
          ]
        },
        {
          "output_type": "execute_result",
          "data": {
            "text/plain": [
              "    ID          STATUS                                               TEXT  \\\n",
              "0  641  CURRENT SMOKER  977146916\\nHLGMC\\n2878891\\n022690\\n01/27/1997 ...   \n",
              "1  643  CURRENT SMOKER  026738007\\nCMC\\n15319689\\n3/25/1998 12:00:00 A...   \n",
              "2  681  CURRENT SMOKER  071962960\\nBH\\n4236518\\n417454\\n12/10/2001 12:...   \n",
              "3  704  CURRENT SMOKER  418520250\\nNVH\\n61562872\\n3/11/1995 12:00:00 A...   \n",
              "4  757  CURRENT SMOKER  301443520\\nCTMC\\n49020928\\n448922\\n1/11/1990 1...   \n",
              "\n",
              "                                          CLEAN_TEXT  \n",
              "0  977146916\\nhlgmc\\n2878891\\n022690\\n01271997 12...  \n",
              "1  026738007\\ncmc\\n15319689\\n3251998 120000 am\\nm...  \n",
              "2  071962960\\nbh\\n4236518\\n417454\\n12102001 12000...  \n",
              "3  418520250\\nnvh\\n61562872\\n3111995 120000 am\\nd...  \n",
              "4  301443520\\nctmc\\n49020928\\n448922\\n1111990 120...  "
            ],
            "text/html": [
              "\n",
              "  <div id=\"df-76d74c74-1e20-48e6-838d-7c88ba5d0b96\" class=\"colab-df-container\">\n",
              "    <div>\n",
              "<style scoped>\n",
              "    .dataframe tbody tr th:only-of-type {\n",
              "        vertical-align: middle;\n",
              "    }\n",
              "\n",
              "    .dataframe tbody tr th {\n",
              "        vertical-align: top;\n",
              "    }\n",
              "\n",
              "    .dataframe thead th {\n",
              "        text-align: right;\n",
              "    }\n",
              "</style>\n",
              "<table border=\"1\" class=\"dataframe\">\n",
              "  <thead>\n",
              "    <tr style=\"text-align: right;\">\n",
              "      <th></th>\n",
              "      <th>ID</th>\n",
              "      <th>STATUS</th>\n",
              "      <th>TEXT</th>\n",
              "      <th>CLEAN_TEXT</th>\n",
              "    </tr>\n",
              "  </thead>\n",
              "  <tbody>\n",
              "    <tr>\n",
              "      <th>0</th>\n",
              "      <td>641</td>\n",
              "      <td>CURRENT SMOKER</td>\n",
              "      <td>977146916\\nHLGMC\\n2878891\\n022690\\n01/27/1997 ...</td>\n",
              "      <td>977146916\\nhlgmc\\n2878891\\n022690\\n01271997 12...</td>\n",
              "    </tr>\n",
              "    <tr>\n",
              "      <th>1</th>\n",
              "      <td>643</td>\n",
              "      <td>CURRENT SMOKER</td>\n",
              "      <td>026738007\\nCMC\\n15319689\\n3/25/1998 12:00:00 A...</td>\n",
              "      <td>026738007\\ncmc\\n15319689\\n3251998 120000 am\\nm...</td>\n",
              "    </tr>\n",
              "    <tr>\n",
              "      <th>2</th>\n",
              "      <td>681</td>\n",
              "      <td>CURRENT SMOKER</td>\n",
              "      <td>071962960\\nBH\\n4236518\\n417454\\n12/10/2001 12:...</td>\n",
              "      <td>071962960\\nbh\\n4236518\\n417454\\n12102001 12000...</td>\n",
              "    </tr>\n",
              "    <tr>\n",
              "      <th>3</th>\n",
              "      <td>704</td>\n",
              "      <td>CURRENT SMOKER</td>\n",
              "      <td>418520250\\nNVH\\n61562872\\n3/11/1995 12:00:00 A...</td>\n",
              "      <td>418520250\\nnvh\\n61562872\\n3111995 120000 am\\nd...</td>\n",
              "    </tr>\n",
              "    <tr>\n",
              "      <th>4</th>\n",
              "      <td>757</td>\n",
              "      <td>CURRENT SMOKER</td>\n",
              "      <td>301443520\\nCTMC\\n49020928\\n448922\\n1/11/1990 1...</td>\n",
              "      <td>301443520\\nctmc\\n49020928\\n448922\\n1111990 120...</td>\n",
              "    </tr>\n",
              "  </tbody>\n",
              "</table>\n",
              "</div>\n",
              "    <div class=\"colab-df-buttons\">\n",
              "\n",
              "  <div class=\"colab-df-container\">\n",
              "    <button class=\"colab-df-convert\" onclick=\"convertToInteractive('df-76d74c74-1e20-48e6-838d-7c88ba5d0b96')\"\n",
              "            title=\"Convert this dataframe to an interactive table.\"\n",
              "            style=\"display:none;\">\n",
              "\n",
              "  <svg xmlns=\"http://www.w3.org/2000/svg\" height=\"24px\" viewBox=\"0 -960 960 960\">\n",
              "    <path d=\"M120-120v-720h720v720H120Zm60-500h600v-160H180v160Zm220 220h160v-160H400v160Zm0 220h160v-160H400v160ZM180-400h160v-160H180v160Zm440 0h160v-160H620v160ZM180-180h160v-160H180v160Zm440 0h160v-160H620v160Z\"/>\n",
              "  </svg>\n",
              "    </button>\n",
              "\n",
              "  <style>\n",
              "    .colab-df-container {\n",
              "      display:flex;\n",
              "      gap: 12px;\n",
              "    }\n",
              "\n",
              "    .colab-df-convert {\n",
              "      background-color: #E8F0FE;\n",
              "      border: none;\n",
              "      border-radius: 50%;\n",
              "      cursor: pointer;\n",
              "      display: none;\n",
              "      fill: #1967D2;\n",
              "      height: 32px;\n",
              "      padding: 0 0 0 0;\n",
              "      width: 32px;\n",
              "    }\n",
              "\n",
              "    .colab-df-convert:hover {\n",
              "      background-color: #E2EBFA;\n",
              "      box-shadow: 0px 1px 2px rgba(60, 64, 67, 0.3), 0px 1px 3px 1px rgba(60, 64, 67, 0.15);\n",
              "      fill: #174EA6;\n",
              "    }\n",
              "\n",
              "    .colab-df-buttons div {\n",
              "      margin-bottom: 4px;\n",
              "    }\n",
              "\n",
              "    [theme=dark] .colab-df-convert {\n",
              "      background-color: #3B4455;\n",
              "      fill: #D2E3FC;\n",
              "    }\n",
              "\n",
              "    [theme=dark] .colab-df-convert:hover {\n",
              "      background-color: #434B5C;\n",
              "      box-shadow: 0px 1px 3px 1px rgba(0, 0, 0, 0.15);\n",
              "      filter: drop-shadow(0px 1px 2px rgba(0, 0, 0, 0.3));\n",
              "      fill: #FFFFFF;\n",
              "    }\n",
              "  </style>\n",
              "\n",
              "    <script>\n",
              "      const buttonEl =\n",
              "        document.querySelector('#df-76d74c74-1e20-48e6-838d-7c88ba5d0b96 button.colab-df-convert');\n",
              "      buttonEl.style.display =\n",
              "        google.colab.kernel.accessAllowed ? 'block' : 'none';\n",
              "\n",
              "      async function convertToInteractive(key) {\n",
              "        const element = document.querySelector('#df-76d74c74-1e20-48e6-838d-7c88ba5d0b96');\n",
              "        const dataTable =\n",
              "          await google.colab.kernel.invokeFunction('convertToInteractive',\n",
              "                                                    [key], {});\n",
              "        if (!dataTable) return;\n",
              "\n",
              "        const docLinkHtml = 'Like what you see? Visit the ' +\n",
              "          '<a target=\"_blank\" href=https://colab.research.google.com/notebooks/data_table.ipynb>data table notebook</a>'\n",
              "          + ' to learn more about interactive tables.';\n",
              "        element.innerHTML = '';\n",
              "        dataTable['output_type'] = 'display_data';\n",
              "        await google.colab.output.renderOutput(dataTable, element);\n",
              "        const docLink = document.createElement('div');\n",
              "        docLink.innerHTML = docLinkHtml;\n",
              "        element.appendChild(docLink);\n",
              "      }\n",
              "    </script>\n",
              "  </div>\n",
              "\n",
              "\n",
              "<div id=\"df-fd06291c-b1f7-442e-9c5c-efa2d6e566e0\">\n",
              "  <button class=\"colab-df-quickchart\" onclick=\"quickchart('df-fd06291c-b1f7-442e-9c5c-efa2d6e566e0')\"\n",
              "            title=\"Suggest charts\"\n",
              "            style=\"display:none;\">\n",
              "\n",
              "<svg xmlns=\"http://www.w3.org/2000/svg\" height=\"24px\"viewBox=\"0 0 24 24\"\n",
              "     width=\"24px\">\n",
              "    <g>\n",
              "        <path d=\"M19 3H5c-1.1 0-2 .9-2 2v14c0 1.1.9 2 2 2h14c1.1 0 2-.9 2-2V5c0-1.1-.9-2-2-2zM9 17H7v-7h2v7zm4 0h-2V7h2v10zm4 0h-2v-4h2v4z\"/>\n",
              "    </g>\n",
              "</svg>\n",
              "  </button>\n",
              "\n",
              "<style>\n",
              "  .colab-df-quickchart {\n",
              "      --bg-color: #E8F0FE;\n",
              "      --fill-color: #1967D2;\n",
              "      --hover-bg-color: #E2EBFA;\n",
              "      --hover-fill-color: #174EA6;\n",
              "      --disabled-fill-color: #AAA;\n",
              "      --disabled-bg-color: #DDD;\n",
              "  }\n",
              "\n",
              "  [theme=dark] .colab-df-quickchart {\n",
              "      --bg-color: #3B4455;\n",
              "      --fill-color: #D2E3FC;\n",
              "      --hover-bg-color: #434B5C;\n",
              "      --hover-fill-color: #FFFFFF;\n",
              "      --disabled-bg-color: #3B4455;\n",
              "      --disabled-fill-color: #666;\n",
              "  }\n",
              "\n",
              "  .colab-df-quickchart {\n",
              "    background-color: var(--bg-color);\n",
              "    border: none;\n",
              "    border-radius: 50%;\n",
              "    cursor: pointer;\n",
              "    display: none;\n",
              "    fill: var(--fill-color);\n",
              "    height: 32px;\n",
              "    padding: 0;\n",
              "    width: 32px;\n",
              "  }\n",
              "\n",
              "  .colab-df-quickchart:hover {\n",
              "    background-color: var(--hover-bg-color);\n",
              "    box-shadow: 0 1px 2px rgba(60, 64, 67, 0.3), 0 1px 3px 1px rgba(60, 64, 67, 0.15);\n",
              "    fill: var(--button-hover-fill-color);\n",
              "  }\n",
              "\n",
              "  .colab-df-quickchart-complete:disabled,\n",
              "  .colab-df-quickchart-complete:disabled:hover {\n",
              "    background-color: var(--disabled-bg-color);\n",
              "    fill: var(--disabled-fill-color);\n",
              "    box-shadow: none;\n",
              "  }\n",
              "\n",
              "  .colab-df-spinner {\n",
              "    border: 2px solid var(--fill-color);\n",
              "    border-color: transparent;\n",
              "    border-bottom-color: var(--fill-color);\n",
              "    animation:\n",
              "      spin 1s steps(1) infinite;\n",
              "  }\n",
              "\n",
              "  @keyframes spin {\n",
              "    0% {\n",
              "      border-color: transparent;\n",
              "      border-bottom-color: var(--fill-color);\n",
              "      border-left-color: var(--fill-color);\n",
              "    }\n",
              "    20% {\n",
              "      border-color: transparent;\n",
              "      border-left-color: var(--fill-color);\n",
              "      border-top-color: var(--fill-color);\n",
              "    }\n",
              "    30% {\n",
              "      border-color: transparent;\n",
              "      border-left-color: var(--fill-color);\n",
              "      border-top-color: var(--fill-color);\n",
              "      border-right-color: var(--fill-color);\n",
              "    }\n",
              "    40% {\n",
              "      border-color: transparent;\n",
              "      border-right-color: var(--fill-color);\n",
              "      border-top-color: var(--fill-color);\n",
              "    }\n",
              "    60% {\n",
              "      border-color: transparent;\n",
              "      border-right-color: var(--fill-color);\n",
              "    }\n",
              "    80% {\n",
              "      border-color: transparent;\n",
              "      border-right-color: var(--fill-color);\n",
              "      border-bottom-color: var(--fill-color);\n",
              "    }\n",
              "    90% {\n",
              "      border-color: transparent;\n",
              "      border-bottom-color: var(--fill-color);\n",
              "    }\n",
              "  }\n",
              "</style>\n",
              "\n",
              "  <script>\n",
              "    async function quickchart(key) {\n",
              "      const quickchartButtonEl =\n",
              "        document.querySelector('#' + key + ' button');\n",
              "      quickchartButtonEl.disabled = true;  // To prevent multiple clicks.\n",
              "      quickchartButtonEl.classList.add('colab-df-spinner');\n",
              "      try {\n",
              "        const charts = await google.colab.kernel.invokeFunction(\n",
              "            'suggestCharts', [key], {});\n",
              "      } catch (error) {\n",
              "        console.error('Error during call to suggestCharts:', error);\n",
              "      }\n",
              "      quickchartButtonEl.classList.remove('colab-df-spinner');\n",
              "      quickchartButtonEl.classList.add('colab-df-quickchart-complete');\n",
              "    }\n",
              "    (() => {\n",
              "      let quickchartButtonEl =\n",
              "        document.querySelector('#df-fd06291c-b1f7-442e-9c5c-efa2d6e566e0 button');\n",
              "      quickchartButtonEl.style.display =\n",
              "        google.colab.kernel.accessAllowed ? 'block' : 'none';\n",
              "    })();\n",
              "  </script>\n",
              "</div>\n",
              "\n",
              "    </div>\n",
              "  </div>\n"
            ],
            "application/vnd.google.colaboratory.intrinsic+json": {
              "type": "dataframe",
              "variable_name": "smoking_df",
              "summary": "{\n  \"name\": \"smoking_df\",\n  \"rows\": 398,\n  \"fields\": [\n    {\n      \"column\": \"ID\",\n      \"properties\": {\n        \"dtype\": \"number\",\n        \"std\": 253,\n        \"min\": 2,\n        \"max\": 921,\n        \"num_unique_values\": 398,\n        \"samples\": [\n          920,\n          417,\n          865\n        ],\n        \"semantic_type\": \"\",\n        \"description\": \"\"\n      }\n    },\n    {\n      \"column\": \"STATUS\",\n      \"properties\": {\n        \"dtype\": \"category\",\n        \"num_unique_values\": 5,\n        \"samples\": [\n          \"NON-SMOKER\",\n          \"UNKNOWN\",\n          \"PAST SMOKER\"\n        ],\n        \"semantic_type\": \"\",\n        \"description\": \"\"\n      }\n    },\n    {\n      \"column\": \"TEXT\",\n      \"properties\": {\n        \"dtype\": \"string\",\n        \"num_unique_values\": 398,\n        \"samples\": [\n          \"448099088\\nGH\\n32371118\\n2/1/2002 12:00:00 AM\\nMULTIPLE MYELOMA , SHORTNESS OF BREATH\\nSigned\\nDIS\\nAdmission Date :\\n02/01/2002\\nReport Status :\\nSigned\\nDischarge Date :\\n02/11/2002\\nThe patient received care on Oncology A .\\nDISCHARGE DIAGNOSES :\\n1. MULTIPLE MYELOMA .\\n2. PLASMACYTOMA .\\nPATIENT PROBLEM LIST :\\n1. Kappa lyte chain multiple myeloma .\\n2. Status post hemorrhoidectomy .\\n3. Status post sphincterectomy .\\n4. Urinary retention .\\n5. Bone marrow transplant in 2000 .\\n6. Appendectomy .\\n7. History of pulmonary embolism .\\nHISTORY OF PRESENT ILLNESS :\\nMr. Chysfreierm is a 53-year-old man with Kappa lyte chain multiple myeloma admitted with pain , shortness of breath , fevers and weight loss .\\nHe was diagnosed with multiple myeloma in 1999 .\\nHe underwent radiation and VAD complicated by pulmonary embolus .\\nThis was followed by bone marrow transplant in 2000 .\\nHe relapsed and underwent IMIV-3 , Cytoxan and finally PS-341 , which brought his disease to excellent control during May to October , 2002 .\\nIn November he began to experience rectal pain , was diagnosed with a prolapsed hemorrhoid .\\nHe had a bout of appendicitis followed by surgery for his hemorrhoid in December .\\nRepeat surgery was required for another hemorrhoid .\\nThe month of admission he had an anal fissure repaired and then began to have more significant problems with urinary retention requiring catheterization for control , although he had noticed some problems with urinary retention up to two months ago .\\nOn admission he complained of right lateral thigh , buttock , \\\" nerve \\\" pain .\\nHe complained of fevers , chills and night sweats and a 20 pound weight loss , dyspnea on exertion lasting less than five minutes .\\nHis last bowel movement was one week prior to admission .\\nHe has no chest pain , abdominal pain , nausea , vomiting or diarrhea .\\nALLERGIES :\\nHe has no known drug allergies .\\nSOCIAL HISTORY :\\nHe is a former software engineer .\\nHe is married and has two children .\\nFAMILY HISTORY :\\nNoncontributory .\\nHis problem list is as per the problem list .\\nPERTINENT PHYSICAL FINDINGS ON ADMISSION :\\nVITAL SIGNS :\\nBlood pressure 153/92 , pulse 102 , respirations 20 , temperature 99 degrees Fahrenheit , satting 93 to 94% on room air .\\nGENERAL :\\nThe patient was awake and alert , in no acute distress .\\nHEENT :\\nPupils were equal , round , reactive to light .\\nHis extraocular movements were intact .\\nHis oropharynx was somewhat dry , but otherwise clear .\\nNECK :\\nHe had no lymphadenopathy .\\nHEART :\\nHis heart was regular rate and rhythm without gallops , however , II-III / VI systolic ejection murmur was heard .\\nLUNGS :\\nHis lungs were bilaterally clear to auscultation .\\nABDOMEN :\\nHis abdomen was benign .\\nEXTREMITIES :\\nThere was no edema of his extremities .\\nHis strength was 5/5 throughout .\\nSensation was intact grossly .\\nHe had 2+ symmetric reflexes with down-going toes bilaterally .\\nNEUROLOGIC :\\nHis cranial nerves were intact .\\nLABORATORY RESULTS ON ADMISSION :\\nSodium 133 , potassium 3.7 , creatinine 0.6 with a BUN of 5 , glucose 151 .\\nAlkaline phosphatase was 392 .\\nWhite count was 7 .\\nHematocrit was 24.6 .\\nHis INR was 1.3 with a PTT of 101 .\\nCalcium was 8.4 , phosphate 2.8 , mag 1.8 .\\nUA showed 30 to 40 red blood cells but had a negative dip stick .\\nHis chest X-ray showed elevation of the right hemidiaphragm with the colon of normal diameter , his new left rib fracture and soft tissue densities at the second rib and lateral sixth rib and then upper thoracic compression fracture .\\nThere were no complications of his admission .\\nHOSPITAL COURSE BY PROBLEM :\\nProblem number 1 , multiple myeloma .\\nThe patient was re-staged during his admission with a urine and serum electroimmunophoresis and a full skeletal survey .\\nHe also received a four-day Decadron burst .\\nThe patient had pain in the L3 distribution .\\nHis MRI of the spine showed no clear reason for the pain and thus , a pelvic CT was obtained showing a large right pelvic mass that likely was causing his leg pain .\\nRadiation oncology was scheduled for next Tuesday to irradiate the mass .\\nUrinary retention .\\nAlthough there was a T5 compression fracture compressing the cord without signal change , there was no evidence that this lesion could be causing his urinary retention ; and it was felt that the pelvic mass more likely accounted for his urinary retention .\\nFevers .\\nHis blood and urine cultures were obtained and remained negative throughout admission .\\nHis chest X-ray did not reveal source of his fevers .\\nThe patient was placed on Levaquin .\\nShortness of breath .\\nThe patient had a V-Q scan on admission that was low probability for PE .\\nThe patient had no evidence of acute pulmonary embolus and his shortness of breath resolved over the course of his admission .\\nThe patient had a T5 compression fracture with cord deformity .\\nNeurosurgery was consulted .\\nNo steroids were recommended .\\nA brace was ordered to stabilize the spine when the patient was up more than 10 minutes .\\nSurgical intervention per Dr. Jescneighagne was being evaluated and considered for the compression following his radiation therapy .\\nPosterior fossa mass .\\nThis mass was found on a screening MRI of the head per neurosurgery .\\nRadiation oncology also plans radiation to that lesion while he is getting radiation for the pelvic mass .\\nThe patient had no evidence of cerebellar dysfunction on discharge .\\nDISCHARGE MEDICATIONS :\\n1. Colace 100 mg p.o. b.i.d.\\n2. Zantac 150 mg p.o. b.i.d.\\n3. Senna tablets two tabs p.o. b.i.d.\\n4. MS Contin 30 mg p.o. b.i.d.\\n5. Neurontin 300 mg p.o. t.i.d.\\n6. Levofloxacin 500 mg p.o. q.d.\\n7. Decadron 40 mg x one day .\\n8. Lactulose 30 ml p.o. q.6h. p.r.n. constipation .\\n9. Flomax 0.4 mg p.o. q.d.\\n10. MSIR 5 to 10 mg q.4-6h. p.r.n. break-through pain .\\nThe patient 's discharge condition was satisfactory .\\nThe patient 's disposition was to home with nursing services for home safety and medication education .\\nThe patient is to follow up on Tuesday on Ven Hospital on Tuesday , February 15 .\\nThe patient is to follow up with Dr. Jescneighagne , neurosurgeon .\\nHe will call for an appointment to immediately follow his radiation therapy .\\nFinally , he will follow up with his outpatient oncologist , Dr. Shuffzeln as directed .\\nDictated By :\\nAVEJOH IRY WIERST , M.D. EH60\\nAttending :\\nTELSHEY SWATLLEEBTIK , M.D. QM04 BS287/919896\\nBatch :\\n82503\\nIndex No.\\nD2ZP7I6 SFO\\nD :\\n02/11/02\\nT :\\n02/11/02\\nCC :\\n1. STA O. BODEJOVE , M.D.\\n3. NALEO JESCNEIGHAGNE , M.D.\\n4. VEN HOSPITAL\\n[ report_end ]\",\n          \"895872725 ELMVH\\n99080881\\n979718\\n5/25/2002 12:00:00 AM\\nChest pain\\nDIS\\nAdmission Date :\\n05/25/2002\\nReport Status :\\nDischarge Date :\\n05/27/2002\\n****** DISCHARGE ORDERS ******\\nFYFEWIERST , MIER\\n799-99-77-2 X12\\nRoom :\\n33C-139\\nService :\\nCAR\\nDISCHARGE PATIENT ON :\\n05/27/02 AT 04:00 PM\\nCONTINGENT UPON\\nNot Applicable\\nWILL D / C ORDER BE USED AS THE D / C SUMMARY :\\nYES\\nAttending :\\nSAGELYSS , TYTUMZE VACHOLLE , M.D.\\nDISPOSITION :\\nHome\\nDISCHARGE MEDICATIONS :\\nLOPRESSOR ( METOPROLOL TARTRATE ) 12.5 MG PO BID\\nFood / Drug Interaction Instruction\\nTake consistently with meals or on empty stomach .\\nENALAPRIL MALEATE 20\\nMG PO BID DIET :\\nHouse / Low chol / low sat. fat\\nActivity - As tolerated\\nRETURN TO WORK :\\nAfter Appt with local physician\\nFOLLOW UP APPOINTMENT ( S ) :\\nDr. Hashimoto , No Known Allergies\\nADMIT DIAGNOSIS :\\nchest pressure ; r / o mi\\nPRINCIPAL DISCHARGE DIAGNOSIS ;\\nResponsible After Study for Causing Admission ) Chest pain\\nOTHER DIAGNOSIS ;\\nConditions , Infections , Complications , affecting Treatment / Stay\\nChest pain ; R / o\\nMI\\nOPERATIONS AND PROCEDURES :\\nOTHER TREATMENTS / PROCEDURES ( NOT IN O.R. )\\nEchocardiogram MRA Kidney\\nBRIEF RESUME OF HOSPITAL COURSE :\\n51 yo F h / o HTN , hyperchol , p / w SS chest pressure x 3 days .\\nUSOH until 3 day PTa , dev new SS chest pressure sometimes rad to back and L neck / jaw .\\nNot assoc with exertion ( pt has active lifestyle ) .\\nPressure lasted for hours at a time .\\nVariably assoc with SOB , nausea , palpitations , tremulousness , diaphoresis .\\nPt has HTN , measured BP home 200/100 .\\nReported to a local ED was found to have BP up to 200/100 .\\nPut on NTG drip without relief .\\nPain 2/10 persisted , relieved by MSO4 .\\nAt ELMVH ED , BP 160/87 .\\nNow adm for r / o MI , eval of ? demand ischemia , plus w / u of HTN urgency ( which may be very new in onset ) .\\nPE T97.5 P59 BP ( l ) 180/86 ( r ) 186/98 RR20 98% 2L .\\nExam only notable for II / VI systolic murmur .\\nLabs only notable for CK 54 ( nl ) , Trop 0.03 , Hct 35.6 MCV 79 .\\nEKG LBBB NSR .\\nCXR negative .\\nPlan ROMI protocol .\\nCP protocol .\\nCaptopril and nitropaste to control pressure .\\nMSO4 for CP .\\nEcho , MRA ( r / o dissection ) , urine catecholamines and VMA .\\nGuaiac all stools , check iron studies .\\nHOSPITAL COURSE\\n1. Chest Pain\\n- Pt placed on captopril 25 tid , lopressor 12.5 BID and NTG paste SS , achieving normal BP w / in 5 hrs of adm to floor .\\nHer CPress dissappeared over the same timeframe .\\n- pt r'd / o for mi by CPK ( 54-> 38-> 33 ) and TPN ( 0.03 ) , and stable EKG .\\n2. Hypertension\\n- controlled on captopril + lopressor to 110-130s ; NTG paste causing 30 pt drop so d / c'd .\\n- MRA kidney :\\nno stenosis ; no parenchymal lesions\\n- CXR :\\nno obvious mediastinal widening , but no comp arison film ; wnl\\n- echo :\\nprelim :\\nEF 55-60 , ? septal flattening , mild TR and MR , trace effusion -24h urine study :\\npending .\\nADDITIONAL COMMENTS :\\nDISCHARGE CONDITION :\\nSatisfactory\\nTO DO / PLAN :\\nNo dictated summary\\nENTERED BY :\\nMEED , CILE PRILARA , M.D. , PH.D. ( RG185 ) 05/27/02 05:35 PM\\n****** END OF DISCHARGE ORDERS ******\\n[ report_end ]\",\n          \"186890029\\nSH\\n58809909\\n1/5/1994 12:00:00 AM\\nDischarge Summary\\nSigned\\nDIS\\nAdmission Date :\\n01/05/1994\\nReport Status :\\nSigned\\nDischarge Date :\\n01/25/1994\\nPRINCIPLE DIAGNOSIS :\\nMETASTATIC ADENOCARCINOMA OF THE BREAST .\\nOTHER PROBLEMS :\\n1. HYPONATREMIA , 1-13-94 .\\n2. PULMONARY EMBOLUS , 1-14-94 .\\n3. DIARRHEA , NAUSEA AND VOMITING , FEVER .\\n4. HISTORY OF OVARIAN CYST RESECTION , 1975 .\\nHISTORY OF PRESENT ILLNESS :\\nThe patient is a 49 year old woman with a metastatic adenocarcinoma of the breast who is status post high dose chemotherapy with PBSE and CCSS support ending June 1994 .\\nShe was admitted on 1-5-94 for fever , chest wall ulceration , cellulitis and pain control .\\nThe patient first presented in October 1991 with a tender right axillary mass .\\nA mammogram done in November 1990 was negative .\\nHowever , mammography repeated in October 1991 showed bilateral breast masses , suspicious for carcinoma .\\nFine needle aspiration on October 23 , 1991 demonstrated atypical cells which occurred singly and in clusters .\\nStaging evaluation included normal liver function tests , normal blood counts and normal chest x-ray .\\nBone scan showed degenerative joint disease in the shoulders and lumbar spine as well as increased radio chaser uptake in the breast bilaterally .\\nDr. Berca Gachfrum performed a right modified mastectomy and left simple mastectomy on November 4 , 1991 .\\nThe right modified radical mastectomy contained a 5.5 cm poorly differentiated , Grade III out of III infiltrating ductal carcinoma .\\nThe margins were free of tumor , but 10 out of 21 lymph nodes were positive for metastatic carcinoma .\\nFurthermore there was a mass on the right pectoralis muscle which is supposed to be metastatic cancer .\\nThe left simple mastectomy also contained 5.5 cm poorly differentiated infiltrating ductal and intraductal carcinoma with extensive lymphatic vessel invasion .\\nEstrogen receptor was 0% by ERICA .\\nThe patient developed a large hematoma requiring surgical drainage .\\nTherefore she had a Stage III-A adenocarcinoma of the breast .\\nSince she was at high risk for both local and metastatic recurrence of her tumor , she received both systemic chemotherapy and radiation therapy .\\nThe patient was treated with CMSAP , which is Cytoxan , Methotrexate , Leukovoranrescue , 5-FU , Adriamycin and Prednisone for four cycles .\\nThere were no dose reductions for mucositis or myelosuppression .\\nHowever , following cycle 4 , she developed a flu-like illness , followed by fever , nonproductive cough and dyspnea on exertion .\\nABGs showed a pO2 of 79 , pH 7.44 , pO2 33 .\\nChest x-ray showed diffuse interstitial infiltrates .\\nThe differential diagnosis included viral pneumonitis , Mycoplasma , Chlamydia .\\nBasically in December 1993 , she returned to the Hem / Onc Clinic with chest wall nodules which turned out to be tumor recurrences and biopsied .\\nAlthough she had mediastinal recurrence , bone scan , head and liver CT were negative for metastatic disease .\\nShe was thus started on a Protocol of high dose chemotherapy with GCSF and peripheral stem cell support .\\nComplications has mainly included myelosuppression and mucositis .\\nShe also developed Klebsiella UTI after the second cycle of high dose chemotherapy .\\nIt was treated with gent and Cipro .\\nRe-staging done in April 1993 showed a decrease in the pretracheal nodes with question of some lymphangitic spread versus some pneumonitis .\\nIn May 1994 she received her first course of thiotepa and Velban and Methotrexate , which required some red cell transfusions .\\nIn mid May she was admitted for fever and neutropenia and at that time had a UTI with blood clots in the urine .\\nThe patient presents today with complaints of fever and a temperature of 100 .\\nShe has also been having diarrhea since November and her other complaints of admission include confusion , nausea and vomiting .\\nWe will include a very thorough HPI with this dictation that was done by Dr. Wedleung .\\nPAST MEDICAL HISTORY :\\nSignificant for metastatic breast cancer , complicated by fever and neutropenia .\\nUTIs , obstruction of the right subclavian vein and right brachial cephalic vein , herpes zoster .\\nStatus post ovarian cyst resection in 1975 .\\nShe had menarche at age 15 .\\nShe used the pill for five years in the past .\\nShe is G 2 , P 2 with spontaneous vaginal deliveries .\\nShe has a history of easy bruis ability .\\nShe is allergic to Augmentin which gives her a rash .\\nMEDICATIONS :\\nMS Contin , MSIR , and Percocet .\\nFAMILY HISTORY :\\nNoncontributory .\\nSOCIAL HISTORY :\\nMarried with two children .\\nShe worked as an occupational therapist at a professional center for handicapped children .\\nShe denies tobacco and drug use and drinks ethanol socially .\\nPHYSICAL EXAMINATION :\\nA cachectic white female .\\nT 100.1 , P 104 , blood pressure 130/90 , heart rate of 16 , she was sating 95% on room air .\\nHEENT - Pupils were miotic , measuring 2 mm but responsive to light .\\nNeck - Tender on the leftside with no lymphadenopathy or thyromegaly .\\nLungs were clear .\\nChest actually had a 5 x 7 cm necrotic area on the left chest wall with some pus .\\nCardiovascular - Normal .\\nAbdomen - Normal .\\nThere was no HSM .\\nExtremities - Her left arm was very swollen .\\nIt was tested with no voluntary movement except at the finger tips .\\nThere was no edema elsewhere in her extremities , only the left arm .\\nNeuro - The patient was oriented to place , but had difficulty with recent memory .\\nShe also had mild weakness in the left extremities , both upper and lower .\\nCranial nerves II - XII were grossly intact .\\nToes were downgoing .\\nLABORATORY DATA :\\nOf note - Na 133 , K 4 , WBC 8.82 , hematocrit 35.1 , platelets 229 .\\nPT 13.8 with an INR of 1.3 , PTT 25.5 , total protein was 6.2 , albumin 3.4 , globulin of 2.8 , calcium of 9.1 , phos 2.7 , mag 2.1 , urea 3.7 .\\nALT was elevated at 240 , AST 85 , LDH 305 , alk phos 85 , total bilirubin was 1.3 , direct bili was .8 .\\nCholesterol 188 , triglyceride was 127 .\\nUA - trace protein , trace ketones , positive for bilirubin and nitrogen and also 4 to 6 wbcs with 1+ bacteria .\\nChest x-ray - Showed a left paratracheal adenopathy and small left pleural effusion with no evidence of pneumonia .\\nIn summary , the patient is a 49 year old woman with metastatic breast cell CA , status post chemotherapy with CMSAP and PVSC and XRT who presented with fever , four days of diarrhea , nausea and vomiting and had been on Keflex for an erythema on her left chest wall .\\nThe Keflex was stopped when she developed the diarrhea .\\nWhen she arrived the plan was to go ahead and treat here rythematous induration and possible cellulitis with IV antibiotics .\\nSo she was put on dicloxicillin and we did local wound care with an agent called Santyl , which is a collagenace ondebrided which worked very well for her .\\nAlso at the time of admission we were also considering palliative Taxol chemotherapy , which the patient declined .\\nShe refused the Taxol therapy so that was not done .\\nAnother major issue with this patient was pain control .\\nShe had been in a whole lot of pain from her left arm lesion .\\nSo pain control was a big issue so she was on MS Contin and MSIR at home she thought that clouded her thinking , so we tried different things for pain management .\\nOne of them was to do a subarachnoid neurologic block at C6-C7 interface on 1-6-94 .\\nAfter that the patient had minimal relief of pain .\\nHowever , she declined further blocks , which were offered to her .\\nSo accepted to be on dilaudid p.o. which was started at a dosage of 2-4 meg but since then we have tapered it up .\\nShe is now getting dilaudid 8 mg q2h and in addition she has been on fentanyl patch .\\nShe is now getting 75 micrograms per hour of the fentanyl patch which is changed every 72 hours .\\nWe can go up by 25 mg on the fentanyl patch as needed to control her pain and we can always go up on the dilaudid because she is still in considerable amount of pain .\\nOther things that happened during this admission - we obtained ahead CT for her on the 8th of January because of her clouded thinking and altered mental status , which was probably due to the morphine that she was taking .\\nWe went ahead and got a head CT scanand it showed no enhancing lesions .\\nIn addition her liver transaminases were elevated , we thought about doing further work-up , but that was deferred because the patient wanted to wait on that .\\nThat has been stable .\\nThe patient on January 13 became hyponatremic .\\nHer sodium went down to 121 and before that on admission she was 133 .\\nA renal consult was obtained and their assessment was that this was probably a mixture of hypovolemia as well as SIADH .\\nWe proceeded to do for her hyponatremia - we gave her some fluid and her urine sodium became higher than her serum sodium ; we stopped it .\\nWe had given her some normal saline and then we proceeded to just do fluid restriction .\\nIn addition we gave her a sodium chloride one gram per day and that also helped , so that now at the time of discharge , the patient 's sodium is between 126 and 129 ; prior to that it had gone down to as low 116.\\nSo that has really improved .\\nWe suggest continuing increased salt intake in her diet and also continuing with the fluid restriction of free water intake to one liter per day .\\nOn the 14th of January , the patient developed increased shortness of breath and chest x-ray was taken showed a wedge shaped infiltrate in the right upper lobe which was consistent with Hampton 's hump .\\nAlso a VQ scan obtained the next day showed high probability for PE .\\nSo we proceeded to put her on heparin for anticoagulation and then when she was therapeutic on heparin , we went ahead and started her on coumadin and she is currently on coumadin at 2.5 mg q.h.s.\\nHer INR is 2.3 .\\nWe want her INR to remain between 2 and 3 .\\nSo if it goes much lower than 2 , then we would consider increasing it to perhaps coumadin 2.5 and 5 alternating every other night .\\nHowever , we would leave it at 2.5 for now .\\nOther major issues - As a result of all the things happened and with her hyponatremia and also the other problems , her blood pressure was elevated also .\\nWe put her on nifedipine IR , SL and that was not enough to control her blood pressure which was in the 200s in the systolic , so we had started her on atenolol .\\nSo on discharge she is on atenolol 100 .\\nIf needed to you can give her some nifedipine SL to decrease her blood pressure .\\nThe patient also has significant edema in both arms now and also some mild edema in the lower extremities , so I think that fluid restriction should help with that .\\nShe is also a little dry .\\nThe patient is on oxygen .\\nEver since the pulmonary embolus she has been on oxygen .\\nShe was on 4 liters ; now she is on 5 liters , sating 94 to 96% on 5 liters .\\nWe would like for her to remain on the oxygen as well .\\nThe complications that I have listed include the hyponatremia , pulmonary embolus and also the elevatd blood pressure .\\nDISPOSITION :\\nDischarge medications - Baclofen 10 p.o. t.i.d. , MVI one tablet p.o. q.d. , Mycostatin powder TP q.d. to be applied to the rash in her left groin area , also dilaudid 8 mg p.o. q2h , Colace 100 mg p.o. b.i.d. , coumadin 2.5 mg p.o. q.h.s. fentanyl patch 75 micrograms per hour topical q72 hours , atenolol 100 mg p.o. q.d.\\nCONDITION ON DISCHARGE :\\nFair .\\nShe remains very weak and will most likely benefit from some physical therapy andshe still has the bilateral edema .\\nShe is to go to the Necsoncardel Medical Center for more chronic care .\\nFollow-up is with Dr. Wedleung in the Hem / Onc in two weeks .\\nThe appointment has already been made .\\nThe patient is very limited in how much she can do right now because of her pain primarily and her difficulty breathing .\\nDictated By :\\nJEABRIHARL FIGEFREIERMFOTHGRENDCAJAQUE , M.D.\\nAttending :\\nLA INEMACISTIN PRONTMANDES , M.D. HD45 SY882/1177\\nBatch :\\n020\\nIndex No.\\nYJQI3J9VU6\\nD :\\n01/25/94\\nT :\\n01/25/94\\n[ report_end ]\"\n        ],\n        \"semantic_type\": \"\",\n        \"description\": \"\"\n      }\n    },\n    {\n      \"column\": \"CLEAN_TEXT\",\n      \"properties\": {\n        \"dtype\": \"string\",\n        \"num_unique_values\": 398,\n        \"samples\": [\n          \"448099088\\ngh\\n32371118\\n212002 120000 am\\nmultiple myeloma  shortness of breath\\nsigned\\ndis\\nadmission date \\n02012002\\nreport status \\nsigned\\ndischarge date \\n02112002\\nthe patient received care on oncology a \\ndischarge diagnoses \\n1 multiple myeloma \\n2 plasmacytoma \\npatient problem list \\n1 kappa lyte chain multiple myeloma \\n2 status post hemorrhoidectomy \\n3 status post sphincterectomy \\n4 urinary retention \\n5 bone marrow transplant in 2000 \\n6 appendectomy \\n7 history of pulmonary embolism \\nhistory of present illness \\nmr chysfreierm is a 53yearold man with kappa lyte chain multiple myeloma admitted with pain  shortness of breath  fevers and weight loss \\nhe was diagnosed with multiple myeloma in 1999 \\nhe underwent radiation and vad complicated by pulmonary embolus \\nthis was followed by bone marrow transplant in 2000 \\nhe relapsed and underwent imiv3  cytoxan and finally ps341  which brought his disease to excellent control during may to october  2002 \\nin november he began to experience rectal pain  was diagnosed with a prolapsed hemorrhoid \\nhe had a bout of appendicitis followed by surgery for his hemorrhoid in december \\nrepeat surgery was required for another hemorrhoid \\nthe month of admission he had an anal fissure repaired and then began to have more significant problems with urinary retention requiring catheterization for control  although he had noticed some problems with urinary retention up to two months ago \\non admission he complained of right lateral thigh  buttock   nerve  pain \\nhe complained of fevers  chills and night sweats and a 20 pound weight loss  dyspnea on exertion lasting less than five minutes \\nhis last bowel movement was one week prior to admission \\nhe has no chest pain  abdominal pain  nausea  vomiting or diarrhea \\nallergies \\nhe has no known drug allergies \\nsocial history \\nhe is a former software engineer \\nhe is married and has two children \\nfamily history \\nnoncontributory \\nhis problem list is as per the problem list \\npertinent physical findings on admission \\nvital signs \\nblood pressure 15392  pulse 102  respirations 20  temperature 99 degrees fahrenheit  satting 93 to 94 on room air \\ngeneral \\nthe patient was awake and alert  in no acute distress \\nheent \\npupils were equal  round  reactive to light \\nhis extraocular movements were intact \\nhis oropharynx was somewhat dry  but otherwise clear \\nneck \\nhe had no lymphadenopathy \\nheart \\nhis heart was regular rate and rhythm without gallops  however  iiiii  vi systolic ejection murmur was heard \\nlungs \\nhis lungs were bilaterally clear to auscultation \\nabdomen \\nhis abdomen was benign \\nextremities \\nthere was no edema of his extremities \\nhis strength was 55 throughout \\nsensation was intact grossly \\nhe had 2 symmetric reflexes with downgoing toes bilaterally \\nneurologic \\nhis cranial nerves were intact \\nlaboratory results on admission \\nsodium 133  potassium 37  creatinine 06 with a bun of 5  glucose 151 \\nalkaline phosphatase was 392 \\nwhite count was 7 \\nhematocrit was 246 \\nhis inr was 13 with a ptt of 101 \\ncalcium was 84  phosphate 28  mag 18 \\nua showed 30 to 40 red blood cells but had a negative dip stick \\nhis chest xray showed elevation of the right hemidiaphragm with the colon of normal diameter  his new left rib fracture and soft tissue densities at the second rib and lateral sixth rib and then upper thoracic compression fracture \\nthere were no complications of his admission \\nhospital course by problem \\nproblem number 1  multiple myeloma \\nthe patient was restaged during his admission with a urine and serum electroimmunophoresis and a full skeletal survey \\nhe also received a fourday decadron burst \\nthe patient had pain in the l3 distribution \\nhis mri of the spine showed no clear reason for the pain and thus  a pelvic ct was obtained showing a large right pelvic mass that likely was causing his leg pain \\nradiation oncology was scheduled for next tuesday to irradiate the mass \\nurinary retention \\nalthough there was a t5 compression fracture compressing the cord without signal change  there was no evidence that this lesion could be causing his urinary retention  and it was felt that the pelvic mass more likely accounted for his urinary retention \\nfevers \\nhis blood and urine cultures were obtained and remained negative throughout admission \\nhis chest xray did not reveal source of his fevers \\nthe patient was placed on levaquin \\nshortness of breath \\nthe patient had a vq scan on admission that was low probability for pe \\nthe patient had no evidence of acute pulmonary embolus and his shortness of breath resolved over the course of his admission \\nthe patient had a t5 compression fracture with cord deformity \\nneurosurgery was consulted \\nno steroids were recommended \\na brace was ordered to stabilize the spine when the patient was up more than 10 minutes \\nsurgical intervention per dr jescneighagne was being evaluated and considered for the compression following his radiation therapy \\nposterior fossa mass \\nthis mass was found on a screening mri of the head per neurosurgery \\nradiation oncology also plans radiation to that lesion while he is getting radiation for the pelvic mass \\nthe patient had no evidence of cerebellar dysfunction on discharge \\ndischarge medications \\n1 colace 100 mg po bid\\n2 zantac 150 mg po bid\\n3 senna tablets two tabs po bid\\n4 ms contin 30 mg po bid\\n5 neurontin 300 mg po tid\\n6 levofloxacin 500 mg po qd\\n7 decadron 40 mg x one day \\n8 lactulose 30 ml po q6h prn constipation \\n9 flomax 04 mg po qd\\n10 msir 5 to 10 mg q46h prn breakthrough pain \\nthe patient s discharge condition was satisfactory \\nthe patient s disposition was to home with nursing services for home safety and medication education \\nthe patient is to follow up on tuesday on ven hospital on tuesday  february 15 \\nthe patient is to follow up with dr jescneighagne  neurosurgeon \\nhe will call for an appointment to immediately follow his radiation therapy \\nfinally  he will follow up with his outpatient oncologist  dr shuffzeln as directed \\ndictated by \\navejoh iry wierst  md eh60\\nattending \\ntelshey swatlleebtik  md qm04 bs287919896\\nbatch \\n82503\\nindex no\\nd2zp7i6 sfo\\nd \\n021102\\nt \\n021102\\ncc \\n1 sta o bodejove  md\\n3 naleo jescneighagne  md\\n4 ven hospital\\n reportend \",\n          \"895872725 elmvh\\n99080881\\n979718\\n5252002 120000 am\\nchest pain\\ndis\\nadmission date \\n05252002\\nreport status \\ndischarge date \\n05272002\\n discharge orders \\nfyfewierst  mier\\n79999772 x12\\nroom \\n33c139\\nservice \\ncar\\ndischarge patient on \\n052702 at 0400 pm\\ncontingent upon\\nnot applicable\\nwill d  c order be used as the d  c summary \\nyes\\nattending \\nsagelyss  tytumze vacholle  md\\ndisposition \\nhome\\ndischarge medications \\nlopressor  metoprolol tartrate  125 mg po bid\\nfood  drug interaction instruction\\ntake consistently with meals or on empty stomach \\nenalapril maleate 20\\nmg po bid diet \\nhouse  low chol  low sat fat\\nactivity  as tolerated\\nreturn to work \\nafter appt with local physician\\nfollow up appointment  s  \\ndr hashimoto  no known allergies\\nadmit diagnosis \\nchest pressure  r  o mi\\nprincipal discharge diagnosis \\nresponsible after study for causing admission  chest pain\\nother diagnosis \\nconditions  infections  complications  affecting treatment  stay\\nchest pain  r  o\\nmi\\noperations and procedures \\nother treatments  procedures  not in or \\nechocardiogram mra kidney\\nbrief resume of hospital course \\n51 yo f h  o htn  hyperchol  p  w ss chest pressure x 3 days \\nusoh until 3 day pta  dev new ss chest pressure sometimes rad to back and l neck  jaw \\nnot assoc with exertion  pt has active lifestyle  \\npressure lasted for hours at a time \\nvariably assoc with sob  nausea  palpitations  tremulousness  diaphoresis \\npt has htn  measured bp home 200100 \\nreported to a local ed was found to have bp up to 200100 \\nput on ntg drip without relief \\npain 210 persisted  relieved by mso4 \\nat elmvh ed  bp 16087 \\nnow adm for r  o mi  eval of  demand ischemia  plus w  u of htn urgency  which may be very new in onset  \\npe t975 p59 bp  l  18086  r  18698 rr20 98 2l \\nexam only notable for ii  vi systolic murmur \\nlabs only notable for ck 54  nl   trop 003  hct 356 mcv 79 \\nekg lbbb nsr \\ncxr negative \\nplan romi protocol \\ncp protocol \\ncaptopril and nitropaste to control pressure \\nmso4 for cp \\necho  mra  r  o dissection   urine catecholamines and vma \\nguaiac all stools  check iron studies \\nhospital course\\n1 chest pain\\n pt placed on captopril 25 tid  lopressor 125 bid and ntg paste ss  achieving normal bp w  in 5 hrs of adm to floor \\nher cpress dissappeared over the same timeframe \\n pt rd  o for mi by cpk  54 38 33  and tpn  003   and stable ekg \\n2 hypertension\\n controlled on captopril  lopressor to 110130s  ntg paste causing 30 pt drop so d  cd \\n mra kidney \\nno stenosis  no parenchymal lesions\\n cxr \\nno obvious mediastinal widening  but no comp arison film  wnl\\n echo \\nprelim \\nef 5560   septal flattening  mild tr and mr  trace effusion 24h urine study \\npending \\nadditional comments \\ndischarge condition \\nsatisfactory\\nto do  plan \\nno dictated summary\\nentered by \\nmeed  cile prilara  md  phd  rg185  052702 0535 pm\\n end of discharge orders \\n reportend \",\n          \"186890029\\nsh\\n58809909\\n151994 120000 am\\ndischarge summary\\nsigned\\ndis\\nadmission date \\n01051994\\nreport status \\nsigned\\ndischarge date \\n01251994\\nprinciple diagnosis \\nmetastatic adenocarcinoma of the breast \\nother problems \\n1 hyponatremia  11394 \\n2 pulmonary embolus  11494 \\n3 diarrhea  nausea and vomiting  fever \\n4 history of ovarian cyst resection  1975 \\nhistory of present illness \\nthe patient is a 49 year old woman with a metastatic adenocarcinoma of the breast who is status post high dose chemotherapy with pbse and ccss support ending june 1994 \\nshe was admitted on 1594 for fever  chest wall ulceration  cellulitis and pain control \\nthe patient first presented in october 1991 with a tender right axillary mass \\na mammogram done in november 1990 was negative \\nhowever  mammography repeated in october 1991 showed bilateral breast masses  suspicious for carcinoma \\nfine needle aspiration on october 23  1991 demonstrated atypical cells which occurred singly and in clusters \\nstaging evaluation included normal liver function tests  normal blood counts and normal chest xray \\nbone scan showed degenerative joint disease in the shoulders and lumbar spine as well as increased radio chaser uptake in the breast bilaterally \\ndr berca gachfrum performed a right modified mastectomy and left simple mastectomy on november 4  1991 \\nthe right modified radical mastectomy contained a 55 cm poorly differentiated  grade iii out of iii infiltrating ductal carcinoma \\nthe margins were free of tumor  but 10 out of 21 lymph nodes were positive for metastatic carcinoma \\nfurthermore there was a mass on the right pectoralis muscle which is supposed to be metastatic cancer \\nthe left simple mastectomy also contained 55 cm poorly differentiated infiltrating ductal and intraductal carcinoma with extensive lymphatic vessel invasion \\nestrogen receptor was 0 by erica \\nthe patient developed a large hematoma requiring surgical drainage \\ntherefore she had a stage iiia adenocarcinoma of the breast \\nsince she was at high risk for both local and metastatic recurrence of her tumor  she received both systemic chemotherapy and radiation therapy \\nthe patient was treated with cmsap  which is cytoxan  methotrexate  leukovoranrescue  5fu  adriamycin and prednisone for four cycles \\nthere were no dose reductions for mucositis or myelosuppression \\nhowever  following cycle 4  she developed a flulike illness  followed by fever  nonproductive cough and dyspnea on exertion \\nabgs showed a po2 of 79  ph 744  po2 33 \\nchest xray showed diffuse interstitial infiltrates \\nthe differential diagnosis included viral pneumonitis  mycoplasma  chlamydia \\nbasically in december 1993  she returned to the hem  onc clinic with chest wall nodules which turned out to be tumor recurrences and biopsied \\nalthough she had mediastinal recurrence  bone scan  head and liver ct were negative for metastatic disease \\nshe was thus started on a protocol of high dose chemotherapy with gcsf and peripheral stem cell support \\ncomplications has mainly included myelosuppression and mucositis \\nshe also developed klebsiella uti after the second cycle of high dose chemotherapy \\nit was treated with gent and cipro \\nrestaging done in april 1993 showed a decrease in the pretracheal nodes with question of some lymphangitic spread versus some pneumonitis \\nin may 1994 she received her first course of thiotepa and velban and methotrexate  which required some red cell transfusions \\nin mid may she was admitted for fever and neutropenia and at that time had a uti with blood clots in the urine \\nthe patient presents today with complaints of fever and a temperature of 100 \\nshe has also been having diarrhea since november and her other complaints of admission include confusion  nausea and vomiting \\nwe will include a very thorough hpi with this dictation that was done by dr wedleung \\npast medical history \\nsignificant for metastatic breast cancer  complicated by fever and neutropenia \\nutis  obstruction of the right subclavian vein and right brachial cephalic vein  herpes zoster \\nstatus post ovarian cyst resection in 1975 \\nshe had menarche at age 15 \\nshe used the pill for five years in the past \\nshe is g 2  p 2 with spontaneous vaginal deliveries \\nshe has a history of easy bruis ability \\nshe is allergic to augmentin which gives her a rash \\nmedications \\nms contin  msir  and percocet \\nfamily history \\nnoncontributory \\nsocial history \\nmarried with two children \\nshe worked as an occupational therapist at a professional center for handicapped children \\nshe denies tobacco and drug use and drinks ethanol socially \\nphysical examination \\na cachectic white female \\nt 1001  p 104  blood pressure 13090  heart rate of 16  she was sating 95 on room air \\nheent  pupils were miotic  measuring 2 mm but responsive to light \\nneck  tender on the leftside with no lymphadenopathy or thyromegaly \\nlungs were clear \\nchest actually had a 5 x 7 cm necrotic area on the left chest wall with some pus \\ncardiovascular  normal \\nabdomen  normal \\nthere was no hsm \\nextremities  her left arm was very swollen \\nit was tested with no voluntary movement except at the finger tips \\nthere was no edema elsewhere in her extremities  only the left arm \\nneuro  the patient was oriented to place  but had difficulty with recent memory \\nshe also had mild weakness in the left extremities  both upper and lower \\ncranial nerves ii  xii were grossly intact \\ntoes were downgoing \\nlaboratory data \\nof note  na 133  k 4  wbc 882  hematocrit 351  platelets 229 \\npt 138 with an inr of 13  ptt 255  total protein was 62  albumin 34  globulin of 28  calcium of 91  phos 27  mag 21  urea 37 \\nalt was elevated at 240  ast 85  ldh 305  alk phos 85  total bilirubin was 13  direct bili was 8 \\ncholesterol 188  triglyceride was 127 \\nua  trace protein  trace ketones  positive for bilirubin and nitrogen and also 4 to 6 wbcs with 1 bacteria \\nchest xray  showed a left paratracheal adenopathy and small left pleural effusion with no evidence of pneumonia \\nin summary  the patient is a 49 year old woman with metastatic breast cell ca  status post chemotherapy with cmsap and pvsc and xrt who presented with fever  four days of diarrhea  nausea and vomiting and had been on keflex for an erythema on her left chest wall \\nthe keflex was stopped when she developed the diarrhea \\nwhen she arrived the plan was to go ahead and treat here rythematous induration and possible cellulitis with iv antibiotics \\nso she was put on dicloxicillin and we did local wound care with an agent called santyl  which is a collagenace ondebrided which worked very well for her \\nalso at the time of admission we were also considering palliative taxol chemotherapy  which the patient declined \\nshe refused the taxol therapy so that was not done \\nanother major issue with this patient was pain control \\nshe had been in a whole lot of pain from her left arm lesion \\nso pain control was a big issue so she was on ms contin and msir at home she thought that clouded her thinking  so we tried different things for pain management \\none of them was to do a subarachnoid neurologic block at c6c7 interface on 1694 \\nafter that the patient had minimal relief of pain \\nhowever  she declined further blocks  which were offered to her \\nso accepted to be on dilaudid po which was started at a dosage of 24 meg but since then we have tapered it up \\nshe is now getting dilaudid 8 mg q2h and in addition she has been on fentanyl patch \\nshe is now getting 75 micrograms per hour of the fentanyl patch which is changed every 72 hours \\nwe can go up by 25 mg on the fentanyl patch as needed to control her pain and we can always go up on the dilaudid because she is still in considerable amount of pain \\nother things that happened during this admission  we obtained ahead ct for her on the 8th of january because of her clouded thinking and altered mental status  which was probably due to the morphine that she was taking \\nwe went ahead and got a head ct scanand it showed no enhancing lesions \\nin addition her liver transaminases were elevated  we thought about doing further workup  but that was deferred because the patient wanted to wait on that \\nthat has been stable \\nthe patient on january 13 became hyponatremic \\nher sodium went down to 121 and before that on admission she was 133 \\na renal consult was obtained and their assessment was that this was probably a mixture of hypovolemia as well as siadh \\nwe proceeded to do for her hyponatremia  we gave her some fluid and her urine sodium became higher than her serum sodium  we stopped it \\nwe had given her some normal saline and then we proceeded to just do fluid restriction \\nin addition we gave her a sodium chloride one gram per day and that also helped  so that now at the time of discharge  the patient s sodium is between 126 and 129  prior to that it had gone down to as low 116\\nso that has really improved \\nwe suggest continuing increased salt intake in her diet and also continuing with the fluid restriction of free water intake to one liter per day \\non the 14th of january  the patient developed increased shortness of breath and chest xray was taken showed a wedge shaped infiltrate in the right upper lobe which was consistent with hampton s hump \\nalso a vq scan obtained the next day showed high probability for pe \\nso we proceeded to put her on heparin for anticoagulation and then when she was therapeutic on heparin  we went ahead and started her on coumadin and she is currently on coumadin at 25 mg qhs\\nher inr is 23 \\nwe want her inr to remain between 2 and 3 \\nso if it goes much lower than 2  then we would consider increasing it to perhaps coumadin 25 and 5 alternating every other night \\nhowever  we would leave it at 25 for now \\nother major issues  as a result of all the things happened and with her hyponatremia and also the other problems  her blood pressure was elevated also \\nwe put her on nifedipine ir  sl and that was not enough to control her blood pressure which was in the 200s in the systolic  so we had started her on atenolol \\nso on discharge she is on atenolol 100 \\nif needed to you can give her some nifedipine sl to decrease her blood pressure \\nthe patient also has significant edema in both arms now and also some mild edema in the lower extremities  so i think that fluid restriction should help with that \\nshe is also a little dry \\nthe patient is on oxygen \\never since the pulmonary embolus she has been on oxygen \\nshe was on 4 liters  now she is on 5 liters  sating 94 to 96 on 5 liters \\nwe would like for her to remain on the oxygen as well \\nthe complications that i have listed include the hyponatremia  pulmonary embolus and also the elevatd blood pressure \\ndisposition \\ndischarge medications  baclofen 10 po tid  mvi one tablet po qd  mycostatin powder tp qd to be applied to the rash in her left groin area  also dilaudid 8 mg po q2h  colace 100 mg po bid  coumadin 25 mg po qhs fentanyl patch 75 micrograms per hour topical q72 hours  atenolol 100 mg po qd\\ncondition on discharge \\nfair \\nshe remains very weak and will most likely benefit from some physical therapy andshe still has the bilateral edema \\nshe is to go to the necsoncardel medical center for more chronic care \\nfollowup is with dr wedleung in the hem  onc in two weeks \\nthe appointment has already been made \\nthe patient is very limited in how much she can do right now because of her pain primarily and her difficulty breathing \\ndictated by \\njeabriharl figefreiermfothgrendcajaque  md\\nattending \\nla inemacistin prontmandes  md hd45 sy8821177\\nbatch \\n020\\nindex no\\nyjqi3j9vu6\\nd \\n012594\\nt \\n012594\\n reportend \"\n        ],\n        \"semantic_type\": \"\",\n        \"description\": \"\"\n      }\n    }\n  ]\n}"
            }
          },
          "metadata": {},
          "execution_count": 10
        }
      ]
    },
    {
      "cell_type": "markdown",
      "source": [
        "Removal of Special Characters"
      ],
      "metadata": {
        "id": "ajHdNQ6V6Ym5"
      }
    },
    {
      "cell_type": "code",
      "source": [
        "import re\n",
        "def remove_splchars(text):\n",
        "  text=re.sub('[^A-Za-z0-9]',' ',text)\n",
        "  text=re.sub('\\s+',' ',text)\n",
        "  return text\n",
        "\n",
        "smoking_df['CLEAN_TEXT']=smoking_df['CLEAN_TEXT'].apply(lambda x:remove_splchars(x))\n",
        "smoking_df.head()\n",
        "\n"
      ],
      "metadata": {
        "colab": {
          "base_uri": "https://localhost:8080/",
          "height": 206
        },
        "id": "A-Spld-i6uKy",
        "outputId": "a8c87846-3ab5-424c-bb69-487625e9a61d"
      },
      "execution_count": null,
      "outputs": [
        {
          "output_type": "execute_result",
          "data": {
            "text/plain": [
              "    ID          STATUS                                               TEXT  \\\n",
              "0  641  CURRENT SMOKER  977146916\\nHLGMC\\n2878891\\n022690\\n01/27/1997 ...   \n",
              "1  643  CURRENT SMOKER  026738007\\nCMC\\n15319689\\n3/25/1998 12:00:00 A...   \n",
              "2  681  CURRENT SMOKER  071962960\\nBH\\n4236518\\n417454\\n12/10/2001 12:...   \n",
              "3  704  CURRENT SMOKER  418520250\\nNVH\\n61562872\\n3/11/1995 12:00:00 A...   \n",
              "4  757  CURRENT SMOKER  301443520\\nCTMC\\n49020928\\n448922\\n1/11/1990 1...   \n",
              "\n",
              "                                          CLEAN_TEXT  \n",
              "0  977146916 hlgmc 2878891 022690 01271997 120000...  \n",
              "1  026738007 cmc 15319689 3251998 120000 am media...  \n",
              "2  071962960 bh 4236518 417454 12102001 120000 am...  \n",
              "3  418520250 nvh 61562872 3111995 120000 am disch...  \n",
              "4  301443520 ctmc 49020928 448922 1111990 120000 ...  "
            ],
            "text/html": [
              "\n",
              "  <div id=\"df-c1686405-d663-4372-9043-3c79a2a62d40\" class=\"colab-df-container\">\n",
              "    <div>\n",
              "<style scoped>\n",
              "    .dataframe tbody tr th:only-of-type {\n",
              "        vertical-align: middle;\n",
              "    }\n",
              "\n",
              "    .dataframe tbody tr th {\n",
              "        vertical-align: top;\n",
              "    }\n",
              "\n",
              "    .dataframe thead th {\n",
              "        text-align: right;\n",
              "    }\n",
              "</style>\n",
              "<table border=\"1\" class=\"dataframe\">\n",
              "  <thead>\n",
              "    <tr style=\"text-align: right;\">\n",
              "      <th></th>\n",
              "      <th>ID</th>\n",
              "      <th>STATUS</th>\n",
              "      <th>TEXT</th>\n",
              "      <th>CLEAN_TEXT</th>\n",
              "    </tr>\n",
              "  </thead>\n",
              "  <tbody>\n",
              "    <tr>\n",
              "      <th>0</th>\n",
              "      <td>641</td>\n",
              "      <td>CURRENT SMOKER</td>\n",
              "      <td>977146916\\nHLGMC\\n2878891\\n022690\\n01/27/1997 ...</td>\n",
              "      <td>977146916 hlgmc 2878891 022690 01271997 120000...</td>\n",
              "    </tr>\n",
              "    <tr>\n",
              "      <th>1</th>\n",
              "      <td>643</td>\n",
              "      <td>CURRENT SMOKER</td>\n",
              "      <td>026738007\\nCMC\\n15319689\\n3/25/1998 12:00:00 A...</td>\n",
              "      <td>026738007 cmc 15319689 3251998 120000 am media...</td>\n",
              "    </tr>\n",
              "    <tr>\n",
              "      <th>2</th>\n",
              "      <td>681</td>\n",
              "      <td>CURRENT SMOKER</td>\n",
              "      <td>071962960\\nBH\\n4236518\\n417454\\n12/10/2001 12:...</td>\n",
              "      <td>071962960 bh 4236518 417454 12102001 120000 am...</td>\n",
              "    </tr>\n",
              "    <tr>\n",
              "      <th>3</th>\n",
              "      <td>704</td>\n",
              "      <td>CURRENT SMOKER</td>\n",
              "      <td>418520250\\nNVH\\n61562872\\n3/11/1995 12:00:00 A...</td>\n",
              "      <td>418520250 nvh 61562872 3111995 120000 am disch...</td>\n",
              "    </tr>\n",
              "    <tr>\n",
              "      <th>4</th>\n",
              "      <td>757</td>\n",
              "      <td>CURRENT SMOKER</td>\n",
              "      <td>301443520\\nCTMC\\n49020928\\n448922\\n1/11/1990 1...</td>\n",
              "      <td>301443520 ctmc 49020928 448922 1111990 120000 ...</td>\n",
              "    </tr>\n",
              "  </tbody>\n",
              "</table>\n",
              "</div>\n",
              "    <div class=\"colab-df-buttons\">\n",
              "\n",
              "  <div class=\"colab-df-container\">\n",
              "    <button class=\"colab-df-convert\" onclick=\"convertToInteractive('df-c1686405-d663-4372-9043-3c79a2a62d40')\"\n",
              "            title=\"Convert this dataframe to an interactive table.\"\n",
              "            style=\"display:none;\">\n",
              "\n",
              "  <svg xmlns=\"http://www.w3.org/2000/svg\" height=\"24px\" viewBox=\"0 -960 960 960\">\n",
              "    <path d=\"M120-120v-720h720v720H120Zm60-500h600v-160H180v160Zm220 220h160v-160H400v160Zm0 220h160v-160H400v160ZM180-400h160v-160H180v160Zm440 0h160v-160H620v160ZM180-180h160v-160H180v160Zm440 0h160v-160H620v160Z\"/>\n",
              "  </svg>\n",
              "    </button>\n",
              "\n",
              "  <style>\n",
              "    .colab-df-container {\n",
              "      display:flex;\n",
              "      gap: 12px;\n",
              "    }\n",
              "\n",
              "    .colab-df-convert {\n",
              "      background-color: #E8F0FE;\n",
              "      border: none;\n",
              "      border-radius: 50%;\n",
              "      cursor: pointer;\n",
              "      display: none;\n",
              "      fill: #1967D2;\n",
              "      height: 32px;\n",
              "      padding: 0 0 0 0;\n",
              "      width: 32px;\n",
              "    }\n",
              "\n",
              "    .colab-df-convert:hover {\n",
              "      background-color: #E2EBFA;\n",
              "      box-shadow: 0px 1px 2px rgba(60, 64, 67, 0.3), 0px 1px 3px 1px rgba(60, 64, 67, 0.15);\n",
              "      fill: #174EA6;\n",
              "    }\n",
              "\n",
              "    .colab-df-buttons div {\n",
              "      margin-bottom: 4px;\n",
              "    }\n",
              "\n",
              "    [theme=dark] .colab-df-convert {\n",
              "      background-color: #3B4455;\n",
              "      fill: #D2E3FC;\n",
              "    }\n",
              "\n",
              "    [theme=dark] .colab-df-convert:hover {\n",
              "      background-color: #434B5C;\n",
              "      box-shadow: 0px 1px 3px 1px rgba(0, 0, 0, 0.15);\n",
              "      filter: drop-shadow(0px 1px 2px rgba(0, 0, 0, 0.3));\n",
              "      fill: #FFFFFF;\n",
              "    }\n",
              "  </style>\n",
              "\n",
              "    <script>\n",
              "      const buttonEl =\n",
              "        document.querySelector('#df-c1686405-d663-4372-9043-3c79a2a62d40 button.colab-df-convert');\n",
              "      buttonEl.style.display =\n",
              "        google.colab.kernel.accessAllowed ? 'block' : 'none';\n",
              "\n",
              "      async function convertToInteractive(key) {\n",
              "        const element = document.querySelector('#df-c1686405-d663-4372-9043-3c79a2a62d40');\n",
              "        const dataTable =\n",
              "          await google.colab.kernel.invokeFunction('convertToInteractive',\n",
              "                                                    [key], {});\n",
              "        if (!dataTable) return;\n",
              "\n",
              "        const docLinkHtml = 'Like what you see? Visit the ' +\n",
              "          '<a target=\"_blank\" href=https://colab.research.google.com/notebooks/data_table.ipynb>data table notebook</a>'\n",
              "          + ' to learn more about interactive tables.';\n",
              "        element.innerHTML = '';\n",
              "        dataTable['output_type'] = 'display_data';\n",
              "        await google.colab.output.renderOutput(dataTable, element);\n",
              "        const docLink = document.createElement('div');\n",
              "        docLink.innerHTML = docLinkHtml;\n",
              "        element.appendChild(docLink);\n",
              "      }\n",
              "    </script>\n",
              "  </div>\n",
              "\n",
              "\n",
              "<div id=\"df-aad570dd-4ec9-4a5b-a8d7-9d2d80c8e032\">\n",
              "  <button class=\"colab-df-quickchart\" onclick=\"quickchart('df-aad570dd-4ec9-4a5b-a8d7-9d2d80c8e032')\"\n",
              "            title=\"Suggest charts\"\n",
              "            style=\"display:none;\">\n",
              "\n",
              "<svg xmlns=\"http://www.w3.org/2000/svg\" height=\"24px\"viewBox=\"0 0 24 24\"\n",
              "     width=\"24px\">\n",
              "    <g>\n",
              "        <path d=\"M19 3H5c-1.1 0-2 .9-2 2v14c0 1.1.9 2 2 2h14c1.1 0 2-.9 2-2V5c0-1.1-.9-2-2-2zM9 17H7v-7h2v7zm4 0h-2V7h2v10zm4 0h-2v-4h2v4z\"/>\n",
              "    </g>\n",
              "</svg>\n",
              "  </button>\n",
              "\n",
              "<style>\n",
              "  .colab-df-quickchart {\n",
              "      --bg-color: #E8F0FE;\n",
              "      --fill-color: #1967D2;\n",
              "      --hover-bg-color: #E2EBFA;\n",
              "      --hover-fill-color: #174EA6;\n",
              "      --disabled-fill-color: #AAA;\n",
              "      --disabled-bg-color: #DDD;\n",
              "  }\n",
              "\n",
              "  [theme=dark] .colab-df-quickchart {\n",
              "      --bg-color: #3B4455;\n",
              "      --fill-color: #D2E3FC;\n",
              "      --hover-bg-color: #434B5C;\n",
              "      --hover-fill-color: #FFFFFF;\n",
              "      --disabled-bg-color: #3B4455;\n",
              "      --disabled-fill-color: #666;\n",
              "  }\n",
              "\n",
              "  .colab-df-quickchart {\n",
              "    background-color: var(--bg-color);\n",
              "    border: none;\n",
              "    border-radius: 50%;\n",
              "    cursor: pointer;\n",
              "    display: none;\n",
              "    fill: var(--fill-color);\n",
              "    height: 32px;\n",
              "    padding: 0;\n",
              "    width: 32px;\n",
              "  }\n",
              "\n",
              "  .colab-df-quickchart:hover {\n",
              "    background-color: var(--hover-bg-color);\n",
              "    box-shadow: 0 1px 2px rgba(60, 64, 67, 0.3), 0 1px 3px 1px rgba(60, 64, 67, 0.15);\n",
              "    fill: var(--button-hover-fill-color);\n",
              "  }\n",
              "\n",
              "  .colab-df-quickchart-complete:disabled,\n",
              "  .colab-df-quickchart-complete:disabled:hover {\n",
              "    background-color: var(--disabled-bg-color);\n",
              "    fill: var(--disabled-fill-color);\n",
              "    box-shadow: none;\n",
              "  }\n",
              "\n",
              "  .colab-df-spinner {\n",
              "    border: 2px solid var(--fill-color);\n",
              "    border-color: transparent;\n",
              "    border-bottom-color: var(--fill-color);\n",
              "    animation:\n",
              "      spin 1s steps(1) infinite;\n",
              "  }\n",
              "\n",
              "  @keyframes spin {\n",
              "    0% {\n",
              "      border-color: transparent;\n",
              "      border-bottom-color: var(--fill-color);\n",
              "      border-left-color: var(--fill-color);\n",
              "    }\n",
              "    20% {\n",
              "      border-color: transparent;\n",
              "      border-left-color: var(--fill-color);\n",
              "      border-top-color: var(--fill-color);\n",
              "    }\n",
              "    30% {\n",
              "      border-color: transparent;\n",
              "      border-left-color: var(--fill-color);\n",
              "      border-top-color: var(--fill-color);\n",
              "      border-right-color: var(--fill-color);\n",
              "    }\n",
              "    40% {\n",
              "      border-color: transparent;\n",
              "      border-right-color: var(--fill-color);\n",
              "      border-top-color: var(--fill-color);\n",
              "    }\n",
              "    60% {\n",
              "      border-color: transparent;\n",
              "      border-right-color: var(--fill-color);\n",
              "    }\n",
              "    80% {\n",
              "      border-color: transparent;\n",
              "      border-right-color: var(--fill-color);\n",
              "      border-bottom-color: var(--fill-color);\n",
              "    }\n",
              "    90% {\n",
              "      border-color: transparent;\n",
              "      border-bottom-color: var(--fill-color);\n",
              "    }\n",
              "  }\n",
              "</style>\n",
              "\n",
              "  <script>\n",
              "    async function quickchart(key) {\n",
              "      const quickchartButtonEl =\n",
              "        document.querySelector('#' + key + ' button');\n",
              "      quickchartButtonEl.disabled = true;  // To prevent multiple clicks.\n",
              "      quickchartButtonEl.classList.add('colab-df-spinner');\n",
              "      try {\n",
              "        const charts = await google.colab.kernel.invokeFunction(\n",
              "            'suggestCharts', [key], {});\n",
              "      } catch (error) {\n",
              "        console.error('Error during call to suggestCharts:', error);\n",
              "      }\n",
              "      quickchartButtonEl.classList.remove('colab-df-spinner');\n",
              "      quickchartButtonEl.classList.add('colab-df-quickchart-complete');\n",
              "    }\n",
              "    (() => {\n",
              "      let quickchartButtonEl =\n",
              "        document.querySelector('#df-aad570dd-4ec9-4a5b-a8d7-9d2d80c8e032 button');\n",
              "      quickchartButtonEl.style.display =\n",
              "        google.colab.kernel.accessAllowed ? 'block' : 'none';\n",
              "    })();\n",
              "  </script>\n",
              "</div>\n",
              "\n",
              "    </div>\n",
              "  </div>\n"
            ],
            "application/vnd.google.colaboratory.intrinsic+json": {
              "type": "dataframe",
              "variable_name": "smoking_df",
              "summary": "{\n  \"name\": \"smoking_df\",\n  \"rows\": 398,\n  \"fields\": [\n    {\n      \"column\": \"ID\",\n      \"properties\": {\n        \"dtype\": \"number\",\n        \"std\": 253,\n        \"min\": 2,\n        \"max\": 921,\n        \"num_unique_values\": 398,\n        \"samples\": [\n          920,\n          417,\n          865\n        ],\n        \"semantic_type\": \"\",\n        \"description\": \"\"\n      }\n    },\n    {\n      \"column\": \"STATUS\",\n      \"properties\": {\n        \"dtype\": \"category\",\n        \"num_unique_values\": 5,\n        \"samples\": [\n          \"NON-SMOKER\",\n          \"UNKNOWN\",\n          \"PAST SMOKER\"\n        ],\n        \"semantic_type\": \"\",\n        \"description\": \"\"\n      }\n    },\n    {\n      \"column\": \"TEXT\",\n      \"properties\": {\n        \"dtype\": \"string\",\n        \"num_unique_values\": 398,\n        \"samples\": [\n          \"448099088\\nGH\\n32371118\\n2/1/2002 12:00:00 AM\\nMULTIPLE MYELOMA , SHORTNESS OF BREATH\\nSigned\\nDIS\\nAdmission Date :\\n02/01/2002\\nReport Status :\\nSigned\\nDischarge Date :\\n02/11/2002\\nThe patient received care on Oncology A .\\nDISCHARGE DIAGNOSES :\\n1. MULTIPLE MYELOMA .\\n2. PLASMACYTOMA .\\nPATIENT PROBLEM LIST :\\n1. Kappa lyte chain multiple myeloma .\\n2. Status post hemorrhoidectomy .\\n3. Status post sphincterectomy .\\n4. Urinary retention .\\n5. Bone marrow transplant in 2000 .\\n6. Appendectomy .\\n7. History of pulmonary embolism .\\nHISTORY OF PRESENT ILLNESS :\\nMr. Chysfreierm is a 53-year-old man with Kappa lyte chain multiple myeloma admitted with pain , shortness of breath , fevers and weight loss .\\nHe was diagnosed with multiple myeloma in 1999 .\\nHe underwent radiation and VAD complicated by pulmonary embolus .\\nThis was followed by bone marrow transplant in 2000 .\\nHe relapsed and underwent IMIV-3 , Cytoxan and finally PS-341 , which brought his disease to excellent control during May to October , 2002 .\\nIn November he began to experience rectal pain , was diagnosed with a prolapsed hemorrhoid .\\nHe had a bout of appendicitis followed by surgery for his hemorrhoid in December .\\nRepeat surgery was required for another hemorrhoid .\\nThe month of admission he had an anal fissure repaired and then began to have more significant problems with urinary retention requiring catheterization for control , although he had noticed some problems with urinary retention up to two months ago .\\nOn admission he complained of right lateral thigh , buttock , \\\" nerve \\\" pain .\\nHe complained of fevers , chills and night sweats and a 20 pound weight loss , dyspnea on exertion lasting less than five minutes .\\nHis last bowel movement was one week prior to admission .\\nHe has no chest pain , abdominal pain , nausea , vomiting or diarrhea .\\nALLERGIES :\\nHe has no known drug allergies .\\nSOCIAL HISTORY :\\nHe is a former software engineer .\\nHe is married and has two children .\\nFAMILY HISTORY :\\nNoncontributory .\\nHis problem list is as per the problem list .\\nPERTINENT PHYSICAL FINDINGS ON ADMISSION :\\nVITAL SIGNS :\\nBlood pressure 153/92 , pulse 102 , respirations 20 , temperature 99 degrees Fahrenheit , satting 93 to 94% on room air .\\nGENERAL :\\nThe patient was awake and alert , in no acute distress .\\nHEENT :\\nPupils were equal , round , reactive to light .\\nHis extraocular movements were intact .\\nHis oropharynx was somewhat dry , but otherwise clear .\\nNECK :\\nHe had no lymphadenopathy .\\nHEART :\\nHis heart was regular rate and rhythm without gallops , however , II-III / VI systolic ejection murmur was heard .\\nLUNGS :\\nHis lungs were bilaterally clear to auscultation .\\nABDOMEN :\\nHis abdomen was benign .\\nEXTREMITIES :\\nThere was no edema of his extremities .\\nHis strength was 5/5 throughout .\\nSensation was intact grossly .\\nHe had 2+ symmetric reflexes with down-going toes bilaterally .\\nNEUROLOGIC :\\nHis cranial nerves were intact .\\nLABORATORY RESULTS ON ADMISSION :\\nSodium 133 , potassium 3.7 , creatinine 0.6 with a BUN of 5 , glucose 151 .\\nAlkaline phosphatase was 392 .\\nWhite count was 7 .\\nHematocrit was 24.6 .\\nHis INR was 1.3 with a PTT of 101 .\\nCalcium was 8.4 , phosphate 2.8 , mag 1.8 .\\nUA showed 30 to 40 red blood cells but had a negative dip stick .\\nHis chest X-ray showed elevation of the right hemidiaphragm with the colon of normal diameter , his new left rib fracture and soft tissue densities at the second rib and lateral sixth rib and then upper thoracic compression fracture .\\nThere were no complications of his admission .\\nHOSPITAL COURSE BY PROBLEM :\\nProblem number 1 , multiple myeloma .\\nThe patient was re-staged during his admission with a urine and serum electroimmunophoresis and a full skeletal survey .\\nHe also received a four-day Decadron burst .\\nThe patient had pain in the L3 distribution .\\nHis MRI of the spine showed no clear reason for the pain and thus , a pelvic CT was obtained showing a large right pelvic mass that likely was causing his leg pain .\\nRadiation oncology was scheduled for next Tuesday to irradiate the mass .\\nUrinary retention .\\nAlthough there was a T5 compression fracture compressing the cord without signal change , there was no evidence that this lesion could be causing his urinary retention ; and it was felt that the pelvic mass more likely accounted for his urinary retention .\\nFevers .\\nHis blood and urine cultures were obtained and remained negative throughout admission .\\nHis chest X-ray did not reveal source of his fevers .\\nThe patient was placed on Levaquin .\\nShortness of breath .\\nThe patient had a V-Q scan on admission that was low probability for PE .\\nThe patient had no evidence of acute pulmonary embolus and his shortness of breath resolved over the course of his admission .\\nThe patient had a T5 compression fracture with cord deformity .\\nNeurosurgery was consulted .\\nNo steroids were recommended .\\nA brace was ordered to stabilize the spine when the patient was up more than 10 minutes .\\nSurgical intervention per Dr. Jescneighagne was being evaluated and considered for the compression following his radiation therapy .\\nPosterior fossa mass .\\nThis mass was found on a screening MRI of the head per neurosurgery .\\nRadiation oncology also plans radiation to that lesion while he is getting radiation for the pelvic mass .\\nThe patient had no evidence of cerebellar dysfunction on discharge .\\nDISCHARGE MEDICATIONS :\\n1. Colace 100 mg p.o. b.i.d.\\n2. Zantac 150 mg p.o. b.i.d.\\n3. Senna tablets two tabs p.o. b.i.d.\\n4. MS Contin 30 mg p.o. b.i.d.\\n5. Neurontin 300 mg p.o. t.i.d.\\n6. Levofloxacin 500 mg p.o. q.d.\\n7. Decadron 40 mg x one day .\\n8. Lactulose 30 ml p.o. q.6h. p.r.n. constipation .\\n9. Flomax 0.4 mg p.o. q.d.\\n10. MSIR 5 to 10 mg q.4-6h. p.r.n. break-through pain .\\nThe patient 's discharge condition was satisfactory .\\nThe patient 's disposition was to home with nursing services for home safety and medication education .\\nThe patient is to follow up on Tuesday on Ven Hospital on Tuesday , February 15 .\\nThe patient is to follow up with Dr. Jescneighagne , neurosurgeon .\\nHe will call for an appointment to immediately follow his radiation therapy .\\nFinally , he will follow up with his outpatient oncologist , Dr. Shuffzeln as directed .\\nDictated By :\\nAVEJOH IRY WIERST , M.D. EH60\\nAttending :\\nTELSHEY SWATLLEEBTIK , M.D. QM04 BS287/919896\\nBatch :\\n82503\\nIndex No.\\nD2ZP7I6 SFO\\nD :\\n02/11/02\\nT :\\n02/11/02\\nCC :\\n1. STA O. BODEJOVE , M.D.\\n3. NALEO JESCNEIGHAGNE , M.D.\\n4. VEN HOSPITAL\\n[ report_end ]\",\n          \"895872725 ELMVH\\n99080881\\n979718\\n5/25/2002 12:00:00 AM\\nChest pain\\nDIS\\nAdmission Date :\\n05/25/2002\\nReport Status :\\nDischarge Date :\\n05/27/2002\\n****** DISCHARGE ORDERS ******\\nFYFEWIERST , MIER\\n799-99-77-2 X12\\nRoom :\\n33C-139\\nService :\\nCAR\\nDISCHARGE PATIENT ON :\\n05/27/02 AT 04:00 PM\\nCONTINGENT UPON\\nNot Applicable\\nWILL D / C ORDER BE USED AS THE D / C SUMMARY :\\nYES\\nAttending :\\nSAGELYSS , TYTUMZE VACHOLLE , M.D.\\nDISPOSITION :\\nHome\\nDISCHARGE MEDICATIONS :\\nLOPRESSOR ( METOPROLOL TARTRATE ) 12.5 MG PO BID\\nFood / Drug Interaction Instruction\\nTake consistently with meals or on empty stomach .\\nENALAPRIL MALEATE 20\\nMG PO BID DIET :\\nHouse / Low chol / low sat. fat\\nActivity - As tolerated\\nRETURN TO WORK :\\nAfter Appt with local physician\\nFOLLOW UP APPOINTMENT ( S ) :\\nDr. Hashimoto , No Known Allergies\\nADMIT DIAGNOSIS :\\nchest pressure ; r / o mi\\nPRINCIPAL DISCHARGE DIAGNOSIS ;\\nResponsible After Study for Causing Admission ) Chest pain\\nOTHER DIAGNOSIS ;\\nConditions , Infections , Complications , affecting Treatment / Stay\\nChest pain ; R / o\\nMI\\nOPERATIONS AND PROCEDURES :\\nOTHER TREATMENTS / PROCEDURES ( NOT IN O.R. )\\nEchocardiogram MRA Kidney\\nBRIEF RESUME OF HOSPITAL COURSE :\\n51 yo F h / o HTN , hyperchol , p / w SS chest pressure x 3 days .\\nUSOH until 3 day PTa , dev new SS chest pressure sometimes rad to back and L neck / jaw .\\nNot assoc with exertion ( pt has active lifestyle ) .\\nPressure lasted for hours at a time .\\nVariably assoc with SOB , nausea , palpitations , tremulousness , diaphoresis .\\nPt has HTN , measured BP home 200/100 .\\nReported to a local ED was found to have BP up to 200/100 .\\nPut on NTG drip without relief .\\nPain 2/10 persisted , relieved by MSO4 .\\nAt ELMVH ED , BP 160/87 .\\nNow adm for r / o MI , eval of ? demand ischemia , plus w / u of HTN urgency ( which may be very new in onset ) .\\nPE T97.5 P59 BP ( l ) 180/86 ( r ) 186/98 RR20 98% 2L .\\nExam only notable for II / VI systolic murmur .\\nLabs only notable for CK 54 ( nl ) , Trop 0.03 , Hct 35.6 MCV 79 .\\nEKG LBBB NSR .\\nCXR negative .\\nPlan ROMI protocol .\\nCP protocol .\\nCaptopril and nitropaste to control pressure .\\nMSO4 for CP .\\nEcho , MRA ( r / o dissection ) , urine catecholamines and VMA .\\nGuaiac all stools , check iron studies .\\nHOSPITAL COURSE\\n1. Chest Pain\\n- Pt placed on captopril 25 tid , lopressor 12.5 BID and NTG paste SS , achieving normal BP w / in 5 hrs of adm to floor .\\nHer CPress dissappeared over the same timeframe .\\n- pt r'd / o for mi by CPK ( 54-> 38-> 33 ) and TPN ( 0.03 ) , and stable EKG .\\n2. Hypertension\\n- controlled on captopril + lopressor to 110-130s ; NTG paste causing 30 pt drop so d / c'd .\\n- MRA kidney :\\nno stenosis ; no parenchymal lesions\\n- CXR :\\nno obvious mediastinal widening , but no comp arison film ; wnl\\n- echo :\\nprelim :\\nEF 55-60 , ? septal flattening , mild TR and MR , trace effusion -24h urine study :\\npending .\\nADDITIONAL COMMENTS :\\nDISCHARGE CONDITION :\\nSatisfactory\\nTO DO / PLAN :\\nNo dictated summary\\nENTERED BY :\\nMEED , CILE PRILARA , M.D. , PH.D. ( RG185 ) 05/27/02 05:35 PM\\n****** END OF DISCHARGE ORDERS ******\\n[ report_end ]\",\n          \"186890029\\nSH\\n58809909\\n1/5/1994 12:00:00 AM\\nDischarge Summary\\nSigned\\nDIS\\nAdmission Date :\\n01/05/1994\\nReport Status :\\nSigned\\nDischarge Date :\\n01/25/1994\\nPRINCIPLE DIAGNOSIS :\\nMETASTATIC ADENOCARCINOMA OF THE BREAST .\\nOTHER PROBLEMS :\\n1. HYPONATREMIA , 1-13-94 .\\n2. PULMONARY EMBOLUS , 1-14-94 .\\n3. DIARRHEA , NAUSEA AND VOMITING , FEVER .\\n4. HISTORY OF OVARIAN CYST RESECTION , 1975 .\\nHISTORY OF PRESENT ILLNESS :\\nThe patient is a 49 year old woman with a metastatic adenocarcinoma of the breast who is status post high dose chemotherapy with PBSE and CCSS support ending June 1994 .\\nShe was admitted on 1-5-94 for fever , chest wall ulceration , cellulitis and pain control .\\nThe patient first presented in October 1991 with a tender right axillary mass .\\nA mammogram done in November 1990 was negative .\\nHowever , mammography repeated in October 1991 showed bilateral breast masses , suspicious for carcinoma .\\nFine needle aspiration on October 23 , 1991 demonstrated atypical cells which occurred singly and in clusters .\\nStaging evaluation included normal liver function tests , normal blood counts and normal chest x-ray .\\nBone scan showed degenerative joint disease in the shoulders and lumbar spine as well as increased radio chaser uptake in the breast bilaterally .\\nDr. Berca Gachfrum performed a right modified mastectomy and left simple mastectomy on November 4 , 1991 .\\nThe right modified radical mastectomy contained a 5.5 cm poorly differentiated , Grade III out of III infiltrating ductal carcinoma .\\nThe margins were free of tumor , but 10 out of 21 lymph nodes were positive for metastatic carcinoma .\\nFurthermore there was a mass on the right pectoralis muscle which is supposed to be metastatic cancer .\\nThe left simple mastectomy also contained 5.5 cm poorly differentiated infiltrating ductal and intraductal carcinoma with extensive lymphatic vessel invasion .\\nEstrogen receptor was 0% by ERICA .\\nThe patient developed a large hematoma requiring surgical drainage .\\nTherefore she had a Stage III-A adenocarcinoma of the breast .\\nSince she was at high risk for both local and metastatic recurrence of her tumor , she received both systemic chemotherapy and radiation therapy .\\nThe patient was treated with CMSAP , which is Cytoxan , Methotrexate , Leukovoranrescue , 5-FU , Adriamycin and Prednisone for four cycles .\\nThere were no dose reductions for mucositis or myelosuppression .\\nHowever , following cycle 4 , she developed a flu-like illness , followed by fever , nonproductive cough and dyspnea on exertion .\\nABGs showed a pO2 of 79 , pH 7.44 , pO2 33 .\\nChest x-ray showed diffuse interstitial infiltrates .\\nThe differential diagnosis included viral pneumonitis , Mycoplasma , Chlamydia .\\nBasically in December 1993 , she returned to the Hem / Onc Clinic with chest wall nodules which turned out to be tumor recurrences and biopsied .\\nAlthough she had mediastinal recurrence , bone scan , head and liver CT were negative for metastatic disease .\\nShe was thus started on a Protocol of high dose chemotherapy with GCSF and peripheral stem cell support .\\nComplications has mainly included myelosuppression and mucositis .\\nShe also developed Klebsiella UTI after the second cycle of high dose chemotherapy .\\nIt was treated with gent and Cipro .\\nRe-staging done in April 1993 showed a decrease in the pretracheal nodes with question of some lymphangitic spread versus some pneumonitis .\\nIn May 1994 she received her first course of thiotepa and Velban and Methotrexate , which required some red cell transfusions .\\nIn mid May she was admitted for fever and neutropenia and at that time had a UTI with blood clots in the urine .\\nThe patient presents today with complaints of fever and a temperature of 100 .\\nShe has also been having diarrhea since November and her other complaints of admission include confusion , nausea and vomiting .\\nWe will include a very thorough HPI with this dictation that was done by Dr. Wedleung .\\nPAST MEDICAL HISTORY :\\nSignificant for metastatic breast cancer , complicated by fever and neutropenia .\\nUTIs , obstruction of the right subclavian vein and right brachial cephalic vein , herpes zoster .\\nStatus post ovarian cyst resection in 1975 .\\nShe had menarche at age 15 .\\nShe used the pill for five years in the past .\\nShe is G 2 , P 2 with spontaneous vaginal deliveries .\\nShe has a history of easy bruis ability .\\nShe is allergic to Augmentin which gives her a rash .\\nMEDICATIONS :\\nMS Contin , MSIR , and Percocet .\\nFAMILY HISTORY :\\nNoncontributory .\\nSOCIAL HISTORY :\\nMarried with two children .\\nShe worked as an occupational therapist at a professional center for handicapped children .\\nShe denies tobacco and drug use and drinks ethanol socially .\\nPHYSICAL EXAMINATION :\\nA cachectic white female .\\nT 100.1 , P 104 , blood pressure 130/90 , heart rate of 16 , she was sating 95% on room air .\\nHEENT - Pupils were miotic , measuring 2 mm but responsive to light .\\nNeck - Tender on the leftside with no lymphadenopathy or thyromegaly .\\nLungs were clear .\\nChest actually had a 5 x 7 cm necrotic area on the left chest wall with some pus .\\nCardiovascular - Normal .\\nAbdomen - Normal .\\nThere was no HSM .\\nExtremities - Her left arm was very swollen .\\nIt was tested with no voluntary movement except at the finger tips .\\nThere was no edema elsewhere in her extremities , only the left arm .\\nNeuro - The patient was oriented to place , but had difficulty with recent memory .\\nShe also had mild weakness in the left extremities , both upper and lower .\\nCranial nerves II - XII were grossly intact .\\nToes were downgoing .\\nLABORATORY DATA :\\nOf note - Na 133 , K 4 , WBC 8.82 , hematocrit 35.1 , platelets 229 .\\nPT 13.8 with an INR of 1.3 , PTT 25.5 , total protein was 6.2 , albumin 3.4 , globulin of 2.8 , calcium of 9.1 , phos 2.7 , mag 2.1 , urea 3.7 .\\nALT was elevated at 240 , AST 85 , LDH 305 , alk phos 85 , total bilirubin was 1.3 , direct bili was .8 .\\nCholesterol 188 , triglyceride was 127 .\\nUA - trace protein , trace ketones , positive for bilirubin and nitrogen and also 4 to 6 wbcs with 1+ bacteria .\\nChest x-ray - Showed a left paratracheal adenopathy and small left pleural effusion with no evidence of pneumonia .\\nIn summary , the patient is a 49 year old woman with metastatic breast cell CA , status post chemotherapy with CMSAP and PVSC and XRT who presented with fever , four days of diarrhea , nausea and vomiting and had been on Keflex for an erythema on her left chest wall .\\nThe Keflex was stopped when she developed the diarrhea .\\nWhen she arrived the plan was to go ahead and treat here rythematous induration and possible cellulitis with IV antibiotics .\\nSo she was put on dicloxicillin and we did local wound care with an agent called Santyl , which is a collagenace ondebrided which worked very well for her .\\nAlso at the time of admission we were also considering palliative Taxol chemotherapy , which the patient declined .\\nShe refused the Taxol therapy so that was not done .\\nAnother major issue with this patient was pain control .\\nShe had been in a whole lot of pain from her left arm lesion .\\nSo pain control was a big issue so she was on MS Contin and MSIR at home she thought that clouded her thinking , so we tried different things for pain management .\\nOne of them was to do a subarachnoid neurologic block at C6-C7 interface on 1-6-94 .\\nAfter that the patient had minimal relief of pain .\\nHowever , she declined further blocks , which were offered to her .\\nSo accepted to be on dilaudid p.o. which was started at a dosage of 2-4 meg but since then we have tapered it up .\\nShe is now getting dilaudid 8 mg q2h and in addition she has been on fentanyl patch .\\nShe is now getting 75 micrograms per hour of the fentanyl patch which is changed every 72 hours .\\nWe can go up by 25 mg on the fentanyl patch as needed to control her pain and we can always go up on the dilaudid because she is still in considerable amount of pain .\\nOther things that happened during this admission - we obtained ahead CT for her on the 8th of January because of her clouded thinking and altered mental status , which was probably due to the morphine that she was taking .\\nWe went ahead and got a head CT scanand it showed no enhancing lesions .\\nIn addition her liver transaminases were elevated , we thought about doing further work-up , but that was deferred because the patient wanted to wait on that .\\nThat has been stable .\\nThe patient on January 13 became hyponatremic .\\nHer sodium went down to 121 and before that on admission she was 133 .\\nA renal consult was obtained and their assessment was that this was probably a mixture of hypovolemia as well as SIADH .\\nWe proceeded to do for her hyponatremia - we gave her some fluid and her urine sodium became higher than her serum sodium ; we stopped it .\\nWe had given her some normal saline and then we proceeded to just do fluid restriction .\\nIn addition we gave her a sodium chloride one gram per day and that also helped , so that now at the time of discharge , the patient 's sodium is between 126 and 129 ; prior to that it had gone down to as low 116.\\nSo that has really improved .\\nWe suggest continuing increased salt intake in her diet and also continuing with the fluid restriction of free water intake to one liter per day .\\nOn the 14th of January , the patient developed increased shortness of breath and chest x-ray was taken showed a wedge shaped infiltrate in the right upper lobe which was consistent with Hampton 's hump .\\nAlso a VQ scan obtained the next day showed high probability for PE .\\nSo we proceeded to put her on heparin for anticoagulation and then when she was therapeutic on heparin , we went ahead and started her on coumadin and she is currently on coumadin at 2.5 mg q.h.s.\\nHer INR is 2.3 .\\nWe want her INR to remain between 2 and 3 .\\nSo if it goes much lower than 2 , then we would consider increasing it to perhaps coumadin 2.5 and 5 alternating every other night .\\nHowever , we would leave it at 2.5 for now .\\nOther major issues - As a result of all the things happened and with her hyponatremia and also the other problems , her blood pressure was elevated also .\\nWe put her on nifedipine IR , SL and that was not enough to control her blood pressure which was in the 200s in the systolic , so we had started her on atenolol .\\nSo on discharge she is on atenolol 100 .\\nIf needed to you can give her some nifedipine SL to decrease her blood pressure .\\nThe patient also has significant edema in both arms now and also some mild edema in the lower extremities , so I think that fluid restriction should help with that .\\nShe is also a little dry .\\nThe patient is on oxygen .\\nEver since the pulmonary embolus she has been on oxygen .\\nShe was on 4 liters ; now she is on 5 liters , sating 94 to 96% on 5 liters .\\nWe would like for her to remain on the oxygen as well .\\nThe complications that I have listed include the hyponatremia , pulmonary embolus and also the elevatd blood pressure .\\nDISPOSITION :\\nDischarge medications - Baclofen 10 p.o. t.i.d. , MVI one tablet p.o. q.d. , Mycostatin powder TP q.d. to be applied to the rash in her left groin area , also dilaudid 8 mg p.o. q2h , Colace 100 mg p.o. b.i.d. , coumadin 2.5 mg p.o. q.h.s. fentanyl patch 75 micrograms per hour topical q72 hours , atenolol 100 mg p.o. q.d.\\nCONDITION ON DISCHARGE :\\nFair .\\nShe remains very weak and will most likely benefit from some physical therapy andshe still has the bilateral edema .\\nShe is to go to the Necsoncardel Medical Center for more chronic care .\\nFollow-up is with Dr. Wedleung in the Hem / Onc in two weeks .\\nThe appointment has already been made .\\nThe patient is very limited in how much she can do right now because of her pain primarily and her difficulty breathing .\\nDictated By :\\nJEABRIHARL FIGEFREIERMFOTHGRENDCAJAQUE , M.D.\\nAttending :\\nLA INEMACISTIN PRONTMANDES , M.D. HD45 SY882/1177\\nBatch :\\n020\\nIndex No.\\nYJQI3J9VU6\\nD :\\n01/25/94\\nT :\\n01/25/94\\n[ report_end ]\"\n        ],\n        \"semantic_type\": \"\",\n        \"description\": \"\"\n      }\n    },\n    {\n      \"column\": \"CLEAN_TEXT\",\n      \"properties\": {\n        \"dtype\": \"string\",\n        \"num_unique_values\": 398,\n        \"samples\": [\n          \"448099088 gh 32371118 212002 120000 am multiple myeloma shortness of breath signed dis admission date 02012002 report status signed discharge date 02112002 the patient received care on oncology a discharge diagnoses 1 multiple myeloma 2 plasmacytoma patient problem list 1 kappa lyte chain multiple myeloma 2 status post hemorrhoidectomy 3 status post sphincterectomy 4 urinary retention 5 bone marrow transplant in 2000 6 appendectomy 7 history of pulmonary embolism history of present illness mr chysfreierm is a 53yearold man with kappa lyte chain multiple myeloma admitted with pain shortness of breath fevers and weight loss he was diagnosed with multiple myeloma in 1999 he underwent radiation and vad complicated by pulmonary embolus this was followed by bone marrow transplant in 2000 he relapsed and underwent imiv3 cytoxan and finally ps341 which brought his disease to excellent control during may to october 2002 in november he began to experience rectal pain was diagnosed with a prolapsed hemorrhoid he had a bout of appendicitis followed by surgery for his hemorrhoid in december repeat surgery was required for another hemorrhoid the month of admission he had an anal fissure repaired and then began to have more significant problems with urinary retention requiring catheterization for control although he had noticed some problems with urinary retention up to two months ago on admission he complained of right lateral thigh buttock nerve pain he complained of fevers chills and night sweats and a 20 pound weight loss dyspnea on exertion lasting less than five minutes his last bowel movement was one week prior to admission he has no chest pain abdominal pain nausea vomiting or diarrhea allergies he has no known drug allergies social history he is a former software engineer he is married and has two children family history noncontributory his problem list is as per the problem list pertinent physical findings on admission vital signs blood pressure 15392 pulse 102 respirations 20 temperature 99 degrees fahrenheit satting 93 to 94 on room air general the patient was awake and alert in no acute distress heent pupils were equal round reactive to light his extraocular movements were intact his oropharynx was somewhat dry but otherwise clear neck he had no lymphadenopathy heart his heart was regular rate and rhythm without gallops however iiiii vi systolic ejection murmur was heard lungs his lungs were bilaterally clear to auscultation abdomen his abdomen was benign extremities there was no edema of his extremities his strength was 55 throughout sensation was intact grossly he had 2 symmetric reflexes with downgoing toes bilaterally neurologic his cranial nerves were intact laboratory results on admission sodium 133 potassium 37 creatinine 06 with a bun of 5 glucose 151 alkaline phosphatase was 392 white count was 7 hematocrit was 246 his inr was 13 with a ptt of 101 calcium was 84 phosphate 28 mag 18 ua showed 30 to 40 red blood cells but had a negative dip stick his chest xray showed elevation of the right hemidiaphragm with the colon of normal diameter his new left rib fracture and soft tissue densities at the second rib and lateral sixth rib and then upper thoracic compression fracture there were no complications of his admission hospital course by problem problem number 1 multiple myeloma the patient was restaged during his admission with a urine and serum electroimmunophoresis and a full skeletal survey he also received a fourday decadron burst the patient had pain in the l3 distribution his mri of the spine showed no clear reason for the pain and thus a pelvic ct was obtained showing a large right pelvic mass that likely was causing his leg pain radiation oncology was scheduled for next tuesday to irradiate the mass urinary retention although there was a t5 compression fracture compressing the cord without signal change there was no evidence that this lesion could be causing his urinary retention and it was felt that the pelvic mass more likely accounted for his urinary retention fevers his blood and urine cultures were obtained and remained negative throughout admission his chest xray did not reveal source of his fevers the patient was placed on levaquin shortness of breath the patient had a vq scan on admission that was low probability for pe the patient had no evidence of acute pulmonary embolus and his shortness of breath resolved over the course of his admission the patient had a t5 compression fracture with cord deformity neurosurgery was consulted no steroids were recommended a brace was ordered to stabilize the spine when the patient was up more than 10 minutes surgical intervention per dr jescneighagne was being evaluated and considered for the compression following his radiation therapy posterior fossa mass this mass was found on a screening mri of the head per neurosurgery radiation oncology also plans radiation to that lesion while he is getting radiation for the pelvic mass the patient had no evidence of cerebellar dysfunction on discharge discharge medications 1 colace 100 mg po bid 2 zantac 150 mg po bid 3 senna tablets two tabs po bid 4 ms contin 30 mg po bid 5 neurontin 300 mg po tid 6 levofloxacin 500 mg po qd 7 decadron 40 mg x one day 8 lactulose 30 ml po q6h prn constipation 9 flomax 04 mg po qd 10 msir 5 to 10 mg q46h prn breakthrough pain the patient s discharge condition was satisfactory the patient s disposition was to home with nursing services for home safety and medication education the patient is to follow up on tuesday on ven hospital on tuesday february 15 the patient is to follow up with dr jescneighagne neurosurgeon he will call for an appointment to immediately follow his radiation therapy finally he will follow up with his outpatient oncologist dr shuffzeln as directed dictated by avejoh iry wierst md eh60 attending telshey swatlleebtik md qm04 bs287919896 batch 82503 index no d2zp7i6 sfo d 021102 t 021102 cc 1 sta o bodejove md 3 naleo jescneighagne md 4 ven hospital reportend \",\n          \"895872725 elmvh 99080881 979718 5252002 120000 am chest pain dis admission date 05252002 report status discharge date 05272002 discharge orders fyfewierst mier 79999772 x12 room 33c139 service car discharge patient on 052702 at 0400 pm contingent upon not applicable will d c order be used as the d c summary yes attending sagelyss tytumze vacholle md disposition home discharge medications lopressor metoprolol tartrate 125 mg po bid food drug interaction instruction take consistently with meals or on empty stomach enalapril maleate 20 mg po bid diet house low chol low sat fat activity as tolerated return to work after appt with local physician follow up appointment s dr hashimoto no known allergies admit diagnosis chest pressure r o mi principal discharge diagnosis responsible after study for causing admission chest pain other diagnosis conditions infections complications affecting treatment stay chest pain r o mi operations and procedures other treatments procedures not in or echocardiogram mra kidney brief resume of hospital course 51 yo f h o htn hyperchol p w ss chest pressure x 3 days usoh until 3 day pta dev new ss chest pressure sometimes rad to back and l neck jaw not assoc with exertion pt has active lifestyle pressure lasted for hours at a time variably assoc with sob nausea palpitations tremulousness diaphoresis pt has htn measured bp home 200100 reported to a local ed was found to have bp up to 200100 put on ntg drip without relief pain 210 persisted relieved by mso4 at elmvh ed bp 16087 now adm for r o mi eval of demand ischemia plus w u of htn urgency which may be very new in onset pe t975 p59 bp l 18086 r 18698 rr20 98 2l exam only notable for ii vi systolic murmur labs only notable for ck 54 nl trop 003 hct 356 mcv 79 ekg lbbb nsr cxr negative plan romi protocol cp protocol captopril and nitropaste to control pressure mso4 for cp echo mra r o dissection urine catecholamines and vma guaiac all stools check iron studies hospital course 1 chest pain pt placed on captopril 25 tid lopressor 125 bid and ntg paste ss achieving normal bp w in 5 hrs of adm to floor her cpress dissappeared over the same timeframe pt rd o for mi by cpk 54 38 33 and tpn 003 and stable ekg 2 hypertension controlled on captopril lopressor to 110130s ntg paste causing 30 pt drop so d cd mra kidney no stenosis no parenchymal lesions cxr no obvious mediastinal widening but no comp arison film wnl echo prelim ef 5560 septal flattening mild tr and mr trace effusion 24h urine study pending additional comments discharge condition satisfactory to do plan no dictated summary entered by meed cile prilara md phd rg185 052702 0535 pm end of discharge orders reportend \",\n          \"186890029 sh 58809909 151994 120000 am discharge summary signed dis admission date 01051994 report status signed discharge date 01251994 principle diagnosis metastatic adenocarcinoma of the breast other problems 1 hyponatremia 11394 2 pulmonary embolus 11494 3 diarrhea nausea and vomiting fever 4 history of ovarian cyst resection 1975 history of present illness the patient is a 49 year old woman with a metastatic adenocarcinoma of the breast who is status post high dose chemotherapy with pbse and ccss support ending june 1994 she was admitted on 1594 for fever chest wall ulceration cellulitis and pain control the patient first presented in october 1991 with a tender right axillary mass a mammogram done in november 1990 was negative however mammography repeated in october 1991 showed bilateral breast masses suspicious for carcinoma fine needle aspiration on october 23 1991 demonstrated atypical cells which occurred singly and in clusters staging evaluation included normal liver function tests normal blood counts and normal chest xray bone scan showed degenerative joint disease in the shoulders and lumbar spine as well as increased radio chaser uptake in the breast bilaterally dr berca gachfrum performed a right modified mastectomy and left simple mastectomy on november 4 1991 the right modified radical mastectomy contained a 55 cm poorly differentiated grade iii out of iii infiltrating ductal carcinoma the margins were free of tumor but 10 out of 21 lymph nodes were positive for metastatic carcinoma furthermore there was a mass on the right pectoralis muscle which is supposed to be metastatic cancer the left simple mastectomy also contained 55 cm poorly differentiated infiltrating ductal and intraductal carcinoma with extensive lymphatic vessel invasion estrogen receptor was 0 by erica the patient developed a large hematoma requiring surgical drainage therefore she had a stage iiia adenocarcinoma of the breast since she was at high risk for both local and metastatic recurrence of her tumor she received both systemic chemotherapy and radiation therapy the patient was treated with cmsap which is cytoxan methotrexate leukovoranrescue 5fu adriamycin and prednisone for four cycles there were no dose reductions for mucositis or myelosuppression however following cycle 4 she developed a flulike illness followed by fever nonproductive cough and dyspnea on exertion abgs showed a po2 of 79 ph 744 po2 33 chest xray showed diffuse interstitial infiltrates the differential diagnosis included viral pneumonitis mycoplasma chlamydia basically in december 1993 she returned to the hem onc clinic with chest wall nodules which turned out to be tumor recurrences and biopsied although she had mediastinal recurrence bone scan head and liver ct were negative for metastatic disease she was thus started on a protocol of high dose chemotherapy with gcsf and peripheral stem cell support complications has mainly included myelosuppression and mucositis she also developed klebsiella uti after the second cycle of high dose chemotherapy it was treated with gent and cipro restaging done in april 1993 showed a decrease in the pretracheal nodes with question of some lymphangitic spread versus some pneumonitis in may 1994 she received her first course of thiotepa and velban and methotrexate which required some red cell transfusions in mid may she was admitted for fever and neutropenia and at that time had a uti with blood clots in the urine the patient presents today with complaints of fever and a temperature of 100 she has also been having diarrhea since november and her other complaints of admission include confusion nausea and vomiting we will include a very thorough hpi with this dictation that was done by dr wedleung past medical history significant for metastatic breast cancer complicated by fever and neutropenia utis obstruction of the right subclavian vein and right brachial cephalic vein herpes zoster status post ovarian cyst resection in 1975 she had menarche at age 15 she used the pill for five years in the past she is g 2 p 2 with spontaneous vaginal deliveries she has a history of easy bruis ability she is allergic to augmentin which gives her a rash medications ms contin msir and percocet family history noncontributory social history married with two children she worked as an occupational therapist at a professional center for handicapped children she denies tobacco and drug use and drinks ethanol socially physical examination a cachectic white female t 1001 p 104 blood pressure 13090 heart rate of 16 she was sating 95 on room air heent pupils were miotic measuring 2 mm but responsive to light neck tender on the leftside with no lymphadenopathy or thyromegaly lungs were clear chest actually had a 5 x 7 cm necrotic area on the left chest wall with some pus cardiovascular normal abdomen normal there was no hsm extremities her left arm was very swollen it was tested with no voluntary movement except at the finger tips there was no edema elsewhere in her extremities only the left arm neuro the patient was oriented to place but had difficulty with recent memory she also had mild weakness in the left extremities both upper and lower cranial nerves ii xii were grossly intact toes were downgoing laboratory data of note na 133 k 4 wbc 882 hematocrit 351 platelets 229 pt 138 with an inr of 13 ptt 255 total protein was 62 albumin 34 globulin of 28 calcium of 91 phos 27 mag 21 urea 37 alt was elevated at 240 ast 85 ldh 305 alk phos 85 total bilirubin was 13 direct bili was 8 cholesterol 188 triglyceride was 127 ua trace protein trace ketones positive for bilirubin and nitrogen and also 4 to 6 wbcs with 1 bacteria chest xray showed a left paratracheal adenopathy and small left pleural effusion with no evidence of pneumonia in summary the patient is a 49 year old woman with metastatic breast cell ca status post chemotherapy with cmsap and pvsc and xrt who presented with fever four days of diarrhea nausea and vomiting and had been on keflex for an erythema on her left chest wall the keflex was stopped when she developed the diarrhea when she arrived the plan was to go ahead and treat here rythematous induration and possible cellulitis with iv antibiotics so she was put on dicloxicillin and we did local wound care with an agent called santyl which is a collagenace ondebrided which worked very well for her also at the time of admission we were also considering palliative taxol chemotherapy which the patient declined she refused the taxol therapy so that was not done another major issue with this patient was pain control she had been in a whole lot of pain from her left arm lesion so pain control was a big issue so she was on ms contin and msir at home she thought that clouded her thinking so we tried different things for pain management one of them was to do a subarachnoid neurologic block at c6c7 interface on 1694 after that the patient had minimal relief of pain however she declined further blocks which were offered to her so accepted to be on dilaudid po which was started at a dosage of 24 meg but since then we have tapered it up she is now getting dilaudid 8 mg q2h and in addition she has been on fentanyl patch she is now getting 75 micrograms per hour of the fentanyl patch which is changed every 72 hours we can go up by 25 mg on the fentanyl patch as needed to control her pain and we can always go up on the dilaudid because she is still in considerable amount of pain other things that happened during this admission we obtained ahead ct for her on the 8th of january because of her clouded thinking and altered mental status which was probably due to the morphine that she was taking we went ahead and got a head ct scanand it showed no enhancing lesions in addition her liver transaminases were elevated we thought about doing further workup but that was deferred because the patient wanted to wait on that that has been stable the patient on january 13 became hyponatremic her sodium went down to 121 and before that on admission she was 133 a renal consult was obtained and their assessment was that this was probably a mixture of hypovolemia as well as siadh we proceeded to do for her hyponatremia we gave her some fluid and her urine sodium became higher than her serum sodium we stopped it we had given her some normal saline and then we proceeded to just do fluid restriction in addition we gave her a sodium chloride one gram per day and that also helped so that now at the time of discharge the patient s sodium is between 126 and 129 prior to that it had gone down to as low 116 so that has really improved we suggest continuing increased salt intake in her diet and also continuing with the fluid restriction of free water intake to one liter per day on the 14th of january the patient developed increased shortness of breath and chest xray was taken showed a wedge shaped infiltrate in the right upper lobe which was consistent with hampton s hump also a vq scan obtained the next day showed high probability for pe so we proceeded to put her on heparin for anticoagulation and then when she was therapeutic on heparin we went ahead and started her on coumadin and she is currently on coumadin at 25 mg qhs her inr is 23 we want her inr to remain between 2 and 3 so if it goes much lower than 2 then we would consider increasing it to perhaps coumadin 25 and 5 alternating every other night however we would leave it at 25 for now other major issues as a result of all the things happened and with her hyponatremia and also the other problems her blood pressure was elevated also we put her on nifedipine ir sl and that was not enough to control her blood pressure which was in the 200s in the systolic so we had started her on atenolol so on discharge she is on atenolol 100 if needed to you can give her some nifedipine sl to decrease her blood pressure the patient also has significant edema in both arms now and also some mild edema in the lower extremities so i think that fluid restriction should help with that she is also a little dry the patient is on oxygen ever since the pulmonary embolus she has been on oxygen she was on 4 liters now she is on 5 liters sating 94 to 96 on 5 liters we would like for her to remain on the oxygen as well the complications that i have listed include the hyponatremia pulmonary embolus and also the elevatd blood pressure disposition discharge medications baclofen 10 po tid mvi one tablet po qd mycostatin powder tp qd to be applied to the rash in her left groin area also dilaudid 8 mg po q2h colace 100 mg po bid coumadin 25 mg po qhs fentanyl patch 75 micrograms per hour topical q72 hours atenolol 100 mg po qd condition on discharge fair she remains very weak and will most likely benefit from some physical therapy andshe still has the bilateral edema she is to go to the necsoncardel medical center for more chronic care followup is with dr wedleung in the hem onc in two weeks the appointment has already been made the patient is very limited in how much she can do right now because of her pain primarily and her difficulty breathing dictated by jeabriharl figefreiermfothgrendcajaque md attending la inemacistin prontmandes md hd45 sy8821177 batch 020 index no yjqi3j9vu6 d 012594 t 012594 reportend \"\n        ],\n        \"semantic_type\": \"\",\n        \"description\": \"\"\n      }\n    }\n  ]\n}"
            }
          },
          "metadata": {},
          "execution_count": 11
        }
      ]
    },
    {
      "cell_type": "markdown",
      "source": [
        "Removal of Stop words"
      ],
      "metadata": {
        "id": "cSYsidqoyRZk"
      }
    },
    {
      "cell_type": "code",
      "source": [
        "nltk.download('stopwords')\n",
        "stopwords=nltk.corpus.stopwords.words('english')\n",
        "print('Stop words:',stopwords)\n",
        "\n",
        "def remove_stopwords(text):\n",
        "  return\" \".join(word for word in text.split() if word not in stopwords)\n",
        "\n",
        "smoking_df['CLEAN_TEXT']=smoking_df['CLEAN_TEXT'].apply(lambda x:remove_stopwords(x))\n",
        "smoking_df.head()"
      ],
      "metadata": {
        "colab": {
          "base_uri": "https://localhost:8080/",
          "height": 280
        },
        "id": "cMuRvhLOylwJ",
        "outputId": "0c676355-8ea3-48f7-8313-56a7f0c44cc0"
      },
      "execution_count": null,
      "outputs": [
        {
          "output_type": "stream",
          "name": "stderr",
          "text": [
            "[nltk_data] Downloading package stopwords to /root/nltk_data...\n",
            "[nltk_data]   Unzipping corpora/stopwords.zip.\n"
          ]
        },
        {
          "output_type": "stream",
          "name": "stdout",
          "text": [
            "Stop words: ['i', 'me', 'my', 'myself', 'we', 'our', 'ours', 'ourselves', 'you', \"you're\", \"you've\", \"you'll\", \"you'd\", 'your', 'yours', 'yourself', 'yourselves', 'he', 'him', 'his', 'himself', 'she', \"she's\", 'her', 'hers', 'herself', 'it', \"it's\", 'its', 'itself', 'they', 'them', 'their', 'theirs', 'themselves', 'what', 'which', 'who', 'whom', 'this', 'that', \"that'll\", 'these', 'those', 'am', 'is', 'are', 'was', 'were', 'be', 'been', 'being', 'have', 'has', 'had', 'having', 'do', 'does', 'did', 'doing', 'a', 'an', 'the', 'and', 'but', 'if', 'or', 'because', 'as', 'until', 'while', 'of', 'at', 'by', 'for', 'with', 'about', 'against', 'between', 'into', 'through', 'during', 'before', 'after', 'above', 'below', 'to', 'from', 'up', 'down', 'in', 'out', 'on', 'off', 'over', 'under', 'again', 'further', 'then', 'once', 'here', 'there', 'when', 'where', 'why', 'how', 'all', 'any', 'both', 'each', 'few', 'more', 'most', 'other', 'some', 'such', 'no', 'nor', 'not', 'only', 'own', 'same', 'so', 'than', 'too', 'very', 's', 't', 'can', 'will', 'just', 'don', \"don't\", 'should', \"should've\", 'now', 'd', 'll', 'm', 'o', 're', 've', 'y', 'ain', 'aren', \"aren't\", 'couldn', \"couldn't\", 'didn', \"didn't\", 'doesn', \"doesn't\", 'hadn', \"hadn't\", 'hasn', \"hasn't\", 'haven', \"haven't\", 'isn', \"isn't\", 'ma', 'mightn', \"mightn't\", 'mustn', \"mustn't\", 'needn', \"needn't\", 'shan', \"shan't\", 'shouldn', \"shouldn't\", 'wasn', \"wasn't\", 'weren', \"weren't\", 'won', \"won't\", 'wouldn', \"wouldn't\"]\n"
          ]
        },
        {
          "output_type": "execute_result",
          "data": {
            "text/plain": [
              "    ID          STATUS                                               TEXT  \\\n",
              "0  641  CURRENT SMOKER  977146916\\nHLGMC\\n2878891\\n022690\\n01/27/1997 ...   \n",
              "1  643  CURRENT SMOKER  026738007\\nCMC\\n15319689\\n3/25/1998 12:00:00 A...   \n",
              "2  681  CURRENT SMOKER  071962960\\nBH\\n4236518\\n417454\\n12/10/2001 12:...   \n",
              "3  704  CURRENT SMOKER  418520250\\nNVH\\n61562872\\n3/11/1995 12:00:00 A...   \n",
              "4  757  CURRENT SMOKER  301443520\\nCTMC\\n49020928\\n448922\\n1/11/1990 1...   \n",
              "\n",
              "                                          CLEAN_TEXT  \n",
              "0  977146916 hlgmc 2878891 022690 01271997 120000...  \n",
              "1  026738007 cmc 15319689 3251998 120000 mediasti...  \n",
              "2  071962960 bh 4236518 417454 12102001 120000 di...  \n",
              "3  418520250 nvh 61562872 3111995 120000 discharg...  \n",
              "4  301443520 ctmc 49020928 448922 1111990 120000 ...  "
            ],
            "text/html": [
              "\n",
              "  <div id=\"df-4d3ef871-9bd2-40ae-8ba7-61521d533555\" class=\"colab-df-container\">\n",
              "    <div>\n",
              "<style scoped>\n",
              "    .dataframe tbody tr th:only-of-type {\n",
              "        vertical-align: middle;\n",
              "    }\n",
              "\n",
              "    .dataframe tbody tr th {\n",
              "        vertical-align: top;\n",
              "    }\n",
              "\n",
              "    .dataframe thead th {\n",
              "        text-align: right;\n",
              "    }\n",
              "</style>\n",
              "<table border=\"1\" class=\"dataframe\">\n",
              "  <thead>\n",
              "    <tr style=\"text-align: right;\">\n",
              "      <th></th>\n",
              "      <th>ID</th>\n",
              "      <th>STATUS</th>\n",
              "      <th>TEXT</th>\n",
              "      <th>CLEAN_TEXT</th>\n",
              "    </tr>\n",
              "  </thead>\n",
              "  <tbody>\n",
              "    <tr>\n",
              "      <th>0</th>\n",
              "      <td>641</td>\n",
              "      <td>CURRENT SMOKER</td>\n",
              "      <td>977146916\\nHLGMC\\n2878891\\n022690\\n01/27/1997 ...</td>\n",
              "      <td>977146916 hlgmc 2878891 022690 01271997 120000...</td>\n",
              "    </tr>\n",
              "    <tr>\n",
              "      <th>1</th>\n",
              "      <td>643</td>\n",
              "      <td>CURRENT SMOKER</td>\n",
              "      <td>026738007\\nCMC\\n15319689\\n3/25/1998 12:00:00 A...</td>\n",
              "      <td>026738007 cmc 15319689 3251998 120000 mediasti...</td>\n",
              "    </tr>\n",
              "    <tr>\n",
              "      <th>2</th>\n",
              "      <td>681</td>\n",
              "      <td>CURRENT SMOKER</td>\n",
              "      <td>071962960\\nBH\\n4236518\\n417454\\n12/10/2001 12:...</td>\n",
              "      <td>071962960 bh 4236518 417454 12102001 120000 di...</td>\n",
              "    </tr>\n",
              "    <tr>\n",
              "      <th>3</th>\n",
              "      <td>704</td>\n",
              "      <td>CURRENT SMOKER</td>\n",
              "      <td>418520250\\nNVH\\n61562872\\n3/11/1995 12:00:00 A...</td>\n",
              "      <td>418520250 nvh 61562872 3111995 120000 discharg...</td>\n",
              "    </tr>\n",
              "    <tr>\n",
              "      <th>4</th>\n",
              "      <td>757</td>\n",
              "      <td>CURRENT SMOKER</td>\n",
              "      <td>301443520\\nCTMC\\n49020928\\n448922\\n1/11/1990 1...</td>\n",
              "      <td>301443520 ctmc 49020928 448922 1111990 120000 ...</td>\n",
              "    </tr>\n",
              "  </tbody>\n",
              "</table>\n",
              "</div>\n",
              "    <div class=\"colab-df-buttons\">\n",
              "\n",
              "  <div class=\"colab-df-container\">\n",
              "    <button class=\"colab-df-convert\" onclick=\"convertToInteractive('df-4d3ef871-9bd2-40ae-8ba7-61521d533555')\"\n",
              "            title=\"Convert this dataframe to an interactive table.\"\n",
              "            style=\"display:none;\">\n",
              "\n",
              "  <svg xmlns=\"http://www.w3.org/2000/svg\" height=\"24px\" viewBox=\"0 -960 960 960\">\n",
              "    <path d=\"M120-120v-720h720v720H120Zm60-500h600v-160H180v160Zm220 220h160v-160H400v160Zm0 220h160v-160H400v160ZM180-400h160v-160H180v160Zm440 0h160v-160H620v160ZM180-180h160v-160H180v160Zm440 0h160v-160H620v160Z\"/>\n",
              "  </svg>\n",
              "    </button>\n",
              "\n",
              "  <style>\n",
              "    .colab-df-container {\n",
              "      display:flex;\n",
              "      gap: 12px;\n",
              "    }\n",
              "\n",
              "    .colab-df-convert {\n",
              "      background-color: #E8F0FE;\n",
              "      border: none;\n",
              "      border-radius: 50%;\n",
              "      cursor: pointer;\n",
              "      display: none;\n",
              "      fill: #1967D2;\n",
              "      height: 32px;\n",
              "      padding: 0 0 0 0;\n",
              "      width: 32px;\n",
              "    }\n",
              "\n",
              "    .colab-df-convert:hover {\n",
              "      background-color: #E2EBFA;\n",
              "      box-shadow: 0px 1px 2px rgba(60, 64, 67, 0.3), 0px 1px 3px 1px rgba(60, 64, 67, 0.15);\n",
              "      fill: #174EA6;\n",
              "    }\n",
              "\n",
              "    .colab-df-buttons div {\n",
              "      margin-bottom: 4px;\n",
              "    }\n",
              "\n",
              "    [theme=dark] .colab-df-convert {\n",
              "      background-color: #3B4455;\n",
              "      fill: #D2E3FC;\n",
              "    }\n",
              "\n",
              "    [theme=dark] .colab-df-convert:hover {\n",
              "      background-color: #434B5C;\n",
              "      box-shadow: 0px 1px 3px 1px rgba(0, 0, 0, 0.15);\n",
              "      filter: drop-shadow(0px 1px 2px rgba(0, 0, 0, 0.3));\n",
              "      fill: #FFFFFF;\n",
              "    }\n",
              "  </style>\n",
              "\n",
              "    <script>\n",
              "      const buttonEl =\n",
              "        document.querySelector('#df-4d3ef871-9bd2-40ae-8ba7-61521d533555 button.colab-df-convert');\n",
              "      buttonEl.style.display =\n",
              "        google.colab.kernel.accessAllowed ? 'block' : 'none';\n",
              "\n",
              "      async function convertToInteractive(key) {\n",
              "        const element = document.querySelector('#df-4d3ef871-9bd2-40ae-8ba7-61521d533555');\n",
              "        const dataTable =\n",
              "          await google.colab.kernel.invokeFunction('convertToInteractive',\n",
              "                                                    [key], {});\n",
              "        if (!dataTable) return;\n",
              "\n",
              "        const docLinkHtml = 'Like what you see? Visit the ' +\n",
              "          '<a target=\"_blank\" href=https://colab.research.google.com/notebooks/data_table.ipynb>data table notebook</a>'\n",
              "          + ' to learn more about interactive tables.';\n",
              "        element.innerHTML = '';\n",
              "        dataTable['output_type'] = 'display_data';\n",
              "        await google.colab.output.renderOutput(dataTable, element);\n",
              "        const docLink = document.createElement('div');\n",
              "        docLink.innerHTML = docLinkHtml;\n",
              "        element.appendChild(docLink);\n",
              "      }\n",
              "    </script>\n",
              "  </div>\n",
              "\n",
              "\n",
              "<div id=\"df-8a51a6e3-48e7-4dc5-809d-43f2dbf07f05\">\n",
              "  <button class=\"colab-df-quickchart\" onclick=\"quickchart('df-8a51a6e3-48e7-4dc5-809d-43f2dbf07f05')\"\n",
              "            title=\"Suggest charts\"\n",
              "            style=\"display:none;\">\n",
              "\n",
              "<svg xmlns=\"http://www.w3.org/2000/svg\" height=\"24px\"viewBox=\"0 0 24 24\"\n",
              "     width=\"24px\">\n",
              "    <g>\n",
              "        <path d=\"M19 3H5c-1.1 0-2 .9-2 2v14c0 1.1.9 2 2 2h14c1.1 0 2-.9 2-2V5c0-1.1-.9-2-2-2zM9 17H7v-7h2v7zm4 0h-2V7h2v10zm4 0h-2v-4h2v4z\"/>\n",
              "    </g>\n",
              "</svg>\n",
              "  </button>\n",
              "\n",
              "<style>\n",
              "  .colab-df-quickchart {\n",
              "      --bg-color: #E8F0FE;\n",
              "      --fill-color: #1967D2;\n",
              "      --hover-bg-color: #E2EBFA;\n",
              "      --hover-fill-color: #174EA6;\n",
              "      --disabled-fill-color: #AAA;\n",
              "      --disabled-bg-color: #DDD;\n",
              "  }\n",
              "\n",
              "  [theme=dark] .colab-df-quickchart {\n",
              "      --bg-color: #3B4455;\n",
              "      --fill-color: #D2E3FC;\n",
              "      --hover-bg-color: #434B5C;\n",
              "      --hover-fill-color: #FFFFFF;\n",
              "      --disabled-bg-color: #3B4455;\n",
              "      --disabled-fill-color: #666;\n",
              "  }\n",
              "\n",
              "  .colab-df-quickchart {\n",
              "    background-color: var(--bg-color);\n",
              "    border: none;\n",
              "    border-radius: 50%;\n",
              "    cursor: pointer;\n",
              "    display: none;\n",
              "    fill: var(--fill-color);\n",
              "    height: 32px;\n",
              "    padding: 0;\n",
              "    width: 32px;\n",
              "  }\n",
              "\n",
              "  .colab-df-quickchart:hover {\n",
              "    background-color: var(--hover-bg-color);\n",
              "    box-shadow: 0 1px 2px rgba(60, 64, 67, 0.3), 0 1px 3px 1px rgba(60, 64, 67, 0.15);\n",
              "    fill: var(--button-hover-fill-color);\n",
              "  }\n",
              "\n",
              "  .colab-df-quickchart-complete:disabled,\n",
              "  .colab-df-quickchart-complete:disabled:hover {\n",
              "    background-color: var(--disabled-bg-color);\n",
              "    fill: var(--disabled-fill-color);\n",
              "    box-shadow: none;\n",
              "  }\n",
              "\n",
              "  .colab-df-spinner {\n",
              "    border: 2px solid var(--fill-color);\n",
              "    border-color: transparent;\n",
              "    border-bottom-color: var(--fill-color);\n",
              "    animation:\n",
              "      spin 1s steps(1) infinite;\n",
              "  }\n",
              "\n",
              "  @keyframes spin {\n",
              "    0% {\n",
              "      border-color: transparent;\n",
              "      border-bottom-color: var(--fill-color);\n",
              "      border-left-color: var(--fill-color);\n",
              "    }\n",
              "    20% {\n",
              "      border-color: transparent;\n",
              "      border-left-color: var(--fill-color);\n",
              "      border-top-color: var(--fill-color);\n",
              "    }\n",
              "    30% {\n",
              "      border-color: transparent;\n",
              "      border-left-color: var(--fill-color);\n",
              "      border-top-color: var(--fill-color);\n",
              "      border-right-color: var(--fill-color);\n",
              "    }\n",
              "    40% {\n",
              "      border-color: transparent;\n",
              "      border-right-color: var(--fill-color);\n",
              "      border-top-color: var(--fill-color);\n",
              "    }\n",
              "    60% {\n",
              "      border-color: transparent;\n",
              "      border-right-color: var(--fill-color);\n",
              "    }\n",
              "    80% {\n",
              "      border-color: transparent;\n",
              "      border-right-color: var(--fill-color);\n",
              "      border-bottom-color: var(--fill-color);\n",
              "    }\n",
              "    90% {\n",
              "      border-color: transparent;\n",
              "      border-bottom-color: var(--fill-color);\n",
              "    }\n",
              "  }\n",
              "</style>\n",
              "\n",
              "  <script>\n",
              "    async function quickchart(key) {\n",
              "      const quickchartButtonEl =\n",
              "        document.querySelector('#' + key + ' button');\n",
              "      quickchartButtonEl.disabled = true;  // To prevent multiple clicks.\n",
              "      quickchartButtonEl.classList.add('colab-df-spinner');\n",
              "      try {\n",
              "        const charts = await google.colab.kernel.invokeFunction(\n",
              "            'suggestCharts', [key], {});\n",
              "      } catch (error) {\n",
              "        console.error('Error during call to suggestCharts:', error);\n",
              "      }\n",
              "      quickchartButtonEl.classList.remove('colab-df-spinner');\n",
              "      quickchartButtonEl.classList.add('colab-df-quickchart-complete');\n",
              "    }\n",
              "    (() => {\n",
              "      let quickchartButtonEl =\n",
              "        document.querySelector('#df-8a51a6e3-48e7-4dc5-809d-43f2dbf07f05 button');\n",
              "      quickchartButtonEl.style.display =\n",
              "        google.colab.kernel.accessAllowed ? 'block' : 'none';\n",
              "    })();\n",
              "  </script>\n",
              "</div>\n",
              "\n",
              "    </div>\n",
              "  </div>\n"
            ],
            "application/vnd.google.colaboratory.intrinsic+json": {
              "type": "dataframe",
              "variable_name": "smoking_df",
              "summary": "{\n  \"name\": \"smoking_df\",\n  \"rows\": 398,\n  \"fields\": [\n    {\n      \"column\": \"ID\",\n      \"properties\": {\n        \"dtype\": \"number\",\n        \"std\": 253,\n        \"min\": 2,\n        \"max\": 921,\n        \"num_unique_values\": 398,\n        \"samples\": [\n          920,\n          417,\n          865\n        ],\n        \"semantic_type\": \"\",\n        \"description\": \"\"\n      }\n    },\n    {\n      \"column\": \"STATUS\",\n      \"properties\": {\n        \"dtype\": \"category\",\n        \"num_unique_values\": 5,\n        \"samples\": [\n          \"NON-SMOKER\",\n          \"UNKNOWN\",\n          \"PAST SMOKER\"\n        ],\n        \"semantic_type\": \"\",\n        \"description\": \"\"\n      }\n    },\n    {\n      \"column\": \"TEXT\",\n      \"properties\": {\n        \"dtype\": \"string\",\n        \"num_unique_values\": 398,\n        \"samples\": [\n          \"448099088\\nGH\\n32371118\\n2/1/2002 12:00:00 AM\\nMULTIPLE MYELOMA , SHORTNESS OF BREATH\\nSigned\\nDIS\\nAdmission Date :\\n02/01/2002\\nReport Status :\\nSigned\\nDischarge Date :\\n02/11/2002\\nThe patient received care on Oncology A .\\nDISCHARGE DIAGNOSES :\\n1. MULTIPLE MYELOMA .\\n2. PLASMACYTOMA .\\nPATIENT PROBLEM LIST :\\n1. Kappa lyte chain multiple myeloma .\\n2. Status post hemorrhoidectomy .\\n3. Status post sphincterectomy .\\n4. Urinary retention .\\n5. Bone marrow transplant in 2000 .\\n6. Appendectomy .\\n7. History of pulmonary embolism .\\nHISTORY OF PRESENT ILLNESS :\\nMr. Chysfreierm is a 53-year-old man with Kappa lyte chain multiple myeloma admitted with pain , shortness of breath , fevers and weight loss .\\nHe was diagnosed with multiple myeloma in 1999 .\\nHe underwent radiation and VAD complicated by pulmonary embolus .\\nThis was followed by bone marrow transplant in 2000 .\\nHe relapsed and underwent IMIV-3 , Cytoxan and finally PS-341 , which brought his disease to excellent control during May to October , 2002 .\\nIn November he began to experience rectal pain , was diagnosed with a prolapsed hemorrhoid .\\nHe had a bout of appendicitis followed by surgery for his hemorrhoid in December .\\nRepeat surgery was required for another hemorrhoid .\\nThe month of admission he had an anal fissure repaired and then began to have more significant problems with urinary retention requiring catheterization for control , although he had noticed some problems with urinary retention up to two months ago .\\nOn admission he complained of right lateral thigh , buttock , \\\" nerve \\\" pain .\\nHe complained of fevers , chills and night sweats and a 20 pound weight loss , dyspnea on exertion lasting less than five minutes .\\nHis last bowel movement was one week prior to admission .\\nHe has no chest pain , abdominal pain , nausea , vomiting or diarrhea .\\nALLERGIES :\\nHe has no known drug allergies .\\nSOCIAL HISTORY :\\nHe is a former software engineer .\\nHe is married and has two children .\\nFAMILY HISTORY :\\nNoncontributory .\\nHis problem list is as per the problem list .\\nPERTINENT PHYSICAL FINDINGS ON ADMISSION :\\nVITAL SIGNS :\\nBlood pressure 153/92 , pulse 102 , respirations 20 , temperature 99 degrees Fahrenheit , satting 93 to 94% on room air .\\nGENERAL :\\nThe patient was awake and alert , in no acute distress .\\nHEENT :\\nPupils were equal , round , reactive to light .\\nHis extraocular movements were intact .\\nHis oropharynx was somewhat dry , but otherwise clear .\\nNECK :\\nHe had no lymphadenopathy .\\nHEART :\\nHis heart was regular rate and rhythm without gallops , however , II-III / VI systolic ejection murmur was heard .\\nLUNGS :\\nHis lungs were bilaterally clear to auscultation .\\nABDOMEN :\\nHis abdomen was benign .\\nEXTREMITIES :\\nThere was no edema of his extremities .\\nHis strength was 5/5 throughout .\\nSensation was intact grossly .\\nHe had 2+ symmetric reflexes with down-going toes bilaterally .\\nNEUROLOGIC :\\nHis cranial nerves were intact .\\nLABORATORY RESULTS ON ADMISSION :\\nSodium 133 , potassium 3.7 , creatinine 0.6 with a BUN of 5 , glucose 151 .\\nAlkaline phosphatase was 392 .\\nWhite count was 7 .\\nHematocrit was 24.6 .\\nHis INR was 1.3 with a PTT of 101 .\\nCalcium was 8.4 , phosphate 2.8 , mag 1.8 .\\nUA showed 30 to 40 red blood cells but had a negative dip stick .\\nHis chest X-ray showed elevation of the right hemidiaphragm with the colon of normal diameter , his new left rib fracture and soft tissue densities at the second rib and lateral sixth rib and then upper thoracic compression fracture .\\nThere were no complications of his admission .\\nHOSPITAL COURSE BY PROBLEM :\\nProblem number 1 , multiple myeloma .\\nThe patient was re-staged during his admission with a urine and serum electroimmunophoresis and a full skeletal survey .\\nHe also received a four-day Decadron burst .\\nThe patient had pain in the L3 distribution .\\nHis MRI of the spine showed no clear reason for the pain and thus , a pelvic CT was obtained showing a large right pelvic mass that likely was causing his leg pain .\\nRadiation oncology was scheduled for next Tuesday to irradiate the mass .\\nUrinary retention .\\nAlthough there was a T5 compression fracture compressing the cord without signal change , there was no evidence that this lesion could be causing his urinary retention ; and it was felt that the pelvic mass more likely accounted for his urinary retention .\\nFevers .\\nHis blood and urine cultures were obtained and remained negative throughout admission .\\nHis chest X-ray did not reveal source of his fevers .\\nThe patient was placed on Levaquin .\\nShortness of breath .\\nThe patient had a V-Q scan on admission that was low probability for PE .\\nThe patient had no evidence of acute pulmonary embolus and his shortness of breath resolved over the course of his admission .\\nThe patient had a T5 compression fracture with cord deformity .\\nNeurosurgery was consulted .\\nNo steroids were recommended .\\nA brace was ordered to stabilize the spine when the patient was up more than 10 minutes .\\nSurgical intervention per Dr. Jescneighagne was being evaluated and considered for the compression following his radiation therapy .\\nPosterior fossa mass .\\nThis mass was found on a screening MRI of the head per neurosurgery .\\nRadiation oncology also plans radiation to that lesion while he is getting radiation for the pelvic mass .\\nThe patient had no evidence of cerebellar dysfunction on discharge .\\nDISCHARGE MEDICATIONS :\\n1. Colace 100 mg p.o. b.i.d.\\n2. Zantac 150 mg p.o. b.i.d.\\n3. Senna tablets two tabs p.o. b.i.d.\\n4. MS Contin 30 mg p.o. b.i.d.\\n5. Neurontin 300 mg p.o. t.i.d.\\n6. Levofloxacin 500 mg p.o. q.d.\\n7. Decadron 40 mg x one day .\\n8. Lactulose 30 ml p.o. q.6h. p.r.n. constipation .\\n9. Flomax 0.4 mg p.o. q.d.\\n10. MSIR 5 to 10 mg q.4-6h. p.r.n. break-through pain .\\nThe patient 's discharge condition was satisfactory .\\nThe patient 's disposition was to home with nursing services for home safety and medication education .\\nThe patient is to follow up on Tuesday on Ven Hospital on Tuesday , February 15 .\\nThe patient is to follow up with Dr. Jescneighagne , neurosurgeon .\\nHe will call for an appointment to immediately follow his radiation therapy .\\nFinally , he will follow up with his outpatient oncologist , Dr. Shuffzeln as directed .\\nDictated By :\\nAVEJOH IRY WIERST , M.D. EH60\\nAttending :\\nTELSHEY SWATLLEEBTIK , M.D. QM04 BS287/919896\\nBatch :\\n82503\\nIndex No.\\nD2ZP7I6 SFO\\nD :\\n02/11/02\\nT :\\n02/11/02\\nCC :\\n1. STA O. BODEJOVE , M.D.\\n3. NALEO JESCNEIGHAGNE , M.D.\\n4. VEN HOSPITAL\\n[ report_end ]\",\n          \"895872725 ELMVH\\n99080881\\n979718\\n5/25/2002 12:00:00 AM\\nChest pain\\nDIS\\nAdmission Date :\\n05/25/2002\\nReport Status :\\nDischarge Date :\\n05/27/2002\\n****** DISCHARGE ORDERS ******\\nFYFEWIERST , MIER\\n799-99-77-2 X12\\nRoom :\\n33C-139\\nService :\\nCAR\\nDISCHARGE PATIENT ON :\\n05/27/02 AT 04:00 PM\\nCONTINGENT UPON\\nNot Applicable\\nWILL D / C ORDER BE USED AS THE D / C SUMMARY :\\nYES\\nAttending :\\nSAGELYSS , TYTUMZE VACHOLLE , M.D.\\nDISPOSITION :\\nHome\\nDISCHARGE MEDICATIONS :\\nLOPRESSOR ( METOPROLOL TARTRATE ) 12.5 MG PO BID\\nFood / Drug Interaction Instruction\\nTake consistently with meals or on empty stomach .\\nENALAPRIL MALEATE 20\\nMG PO BID DIET :\\nHouse / Low chol / low sat. fat\\nActivity - As tolerated\\nRETURN TO WORK :\\nAfter Appt with local physician\\nFOLLOW UP APPOINTMENT ( S ) :\\nDr. Hashimoto , No Known Allergies\\nADMIT DIAGNOSIS :\\nchest pressure ; r / o mi\\nPRINCIPAL DISCHARGE DIAGNOSIS ;\\nResponsible After Study for Causing Admission ) Chest pain\\nOTHER DIAGNOSIS ;\\nConditions , Infections , Complications , affecting Treatment / Stay\\nChest pain ; R / o\\nMI\\nOPERATIONS AND PROCEDURES :\\nOTHER TREATMENTS / PROCEDURES ( NOT IN O.R. )\\nEchocardiogram MRA Kidney\\nBRIEF RESUME OF HOSPITAL COURSE :\\n51 yo F h / o HTN , hyperchol , p / w SS chest pressure x 3 days .\\nUSOH until 3 day PTa , dev new SS chest pressure sometimes rad to back and L neck / jaw .\\nNot assoc with exertion ( pt has active lifestyle ) .\\nPressure lasted for hours at a time .\\nVariably assoc with SOB , nausea , palpitations , tremulousness , diaphoresis .\\nPt has HTN , measured BP home 200/100 .\\nReported to a local ED was found to have BP up to 200/100 .\\nPut on NTG drip without relief .\\nPain 2/10 persisted , relieved by MSO4 .\\nAt ELMVH ED , BP 160/87 .\\nNow adm for r / o MI , eval of ? demand ischemia , plus w / u of HTN urgency ( which may be very new in onset ) .\\nPE T97.5 P59 BP ( l ) 180/86 ( r ) 186/98 RR20 98% 2L .\\nExam only notable for II / VI systolic murmur .\\nLabs only notable for CK 54 ( nl ) , Trop 0.03 , Hct 35.6 MCV 79 .\\nEKG LBBB NSR .\\nCXR negative .\\nPlan ROMI protocol .\\nCP protocol .\\nCaptopril and nitropaste to control pressure .\\nMSO4 for CP .\\nEcho , MRA ( r / o dissection ) , urine catecholamines and VMA .\\nGuaiac all stools , check iron studies .\\nHOSPITAL COURSE\\n1. Chest Pain\\n- Pt placed on captopril 25 tid , lopressor 12.5 BID and NTG paste SS , achieving normal BP w / in 5 hrs of adm to floor .\\nHer CPress dissappeared over the same timeframe .\\n- pt r'd / o for mi by CPK ( 54-> 38-> 33 ) and TPN ( 0.03 ) , and stable EKG .\\n2. Hypertension\\n- controlled on captopril + lopressor to 110-130s ; NTG paste causing 30 pt drop so d / c'd .\\n- MRA kidney :\\nno stenosis ; no parenchymal lesions\\n- CXR :\\nno obvious mediastinal widening , but no comp arison film ; wnl\\n- echo :\\nprelim :\\nEF 55-60 , ? septal flattening , mild TR and MR , trace effusion -24h urine study :\\npending .\\nADDITIONAL COMMENTS :\\nDISCHARGE CONDITION :\\nSatisfactory\\nTO DO / PLAN :\\nNo dictated summary\\nENTERED BY :\\nMEED , CILE PRILARA , M.D. , PH.D. ( RG185 ) 05/27/02 05:35 PM\\n****** END OF DISCHARGE ORDERS ******\\n[ report_end ]\",\n          \"186890029\\nSH\\n58809909\\n1/5/1994 12:00:00 AM\\nDischarge Summary\\nSigned\\nDIS\\nAdmission Date :\\n01/05/1994\\nReport Status :\\nSigned\\nDischarge Date :\\n01/25/1994\\nPRINCIPLE DIAGNOSIS :\\nMETASTATIC ADENOCARCINOMA OF THE BREAST .\\nOTHER PROBLEMS :\\n1. HYPONATREMIA , 1-13-94 .\\n2. PULMONARY EMBOLUS , 1-14-94 .\\n3. DIARRHEA , NAUSEA AND VOMITING , FEVER .\\n4. HISTORY OF OVARIAN CYST RESECTION , 1975 .\\nHISTORY OF PRESENT ILLNESS :\\nThe patient is a 49 year old woman with a metastatic adenocarcinoma of the breast who is status post high dose chemotherapy with PBSE and CCSS support ending June 1994 .\\nShe was admitted on 1-5-94 for fever , chest wall ulceration , cellulitis and pain control .\\nThe patient first presented in October 1991 with a tender right axillary mass .\\nA mammogram done in November 1990 was negative .\\nHowever , mammography repeated in October 1991 showed bilateral breast masses , suspicious for carcinoma .\\nFine needle aspiration on October 23 , 1991 demonstrated atypical cells which occurred singly and in clusters .\\nStaging evaluation included normal liver function tests , normal blood counts and normal chest x-ray .\\nBone scan showed degenerative joint disease in the shoulders and lumbar spine as well as increased radio chaser uptake in the breast bilaterally .\\nDr. Berca Gachfrum performed a right modified mastectomy and left simple mastectomy on November 4 , 1991 .\\nThe right modified radical mastectomy contained a 5.5 cm poorly differentiated , Grade III out of III infiltrating ductal carcinoma .\\nThe margins were free of tumor , but 10 out of 21 lymph nodes were positive for metastatic carcinoma .\\nFurthermore there was a mass on the right pectoralis muscle which is supposed to be metastatic cancer .\\nThe left simple mastectomy also contained 5.5 cm poorly differentiated infiltrating ductal and intraductal carcinoma with extensive lymphatic vessel invasion .\\nEstrogen receptor was 0% by ERICA .\\nThe patient developed a large hematoma requiring surgical drainage .\\nTherefore she had a Stage III-A adenocarcinoma of the breast .\\nSince she was at high risk for both local and metastatic recurrence of her tumor , she received both systemic chemotherapy and radiation therapy .\\nThe patient was treated with CMSAP , which is Cytoxan , Methotrexate , Leukovoranrescue , 5-FU , Adriamycin and Prednisone for four cycles .\\nThere were no dose reductions for mucositis or myelosuppression .\\nHowever , following cycle 4 , she developed a flu-like illness , followed by fever , nonproductive cough and dyspnea on exertion .\\nABGs showed a pO2 of 79 , pH 7.44 , pO2 33 .\\nChest x-ray showed diffuse interstitial infiltrates .\\nThe differential diagnosis included viral pneumonitis , Mycoplasma , Chlamydia .\\nBasically in December 1993 , she returned to the Hem / Onc Clinic with chest wall nodules which turned out to be tumor recurrences and biopsied .\\nAlthough she had mediastinal recurrence , bone scan , head and liver CT were negative for metastatic disease .\\nShe was thus started on a Protocol of high dose chemotherapy with GCSF and peripheral stem cell support .\\nComplications has mainly included myelosuppression and mucositis .\\nShe also developed Klebsiella UTI after the second cycle of high dose chemotherapy .\\nIt was treated with gent and Cipro .\\nRe-staging done in April 1993 showed a decrease in the pretracheal nodes with question of some lymphangitic spread versus some pneumonitis .\\nIn May 1994 she received her first course of thiotepa and Velban and Methotrexate , which required some red cell transfusions .\\nIn mid May she was admitted for fever and neutropenia and at that time had a UTI with blood clots in the urine .\\nThe patient presents today with complaints of fever and a temperature of 100 .\\nShe has also been having diarrhea since November and her other complaints of admission include confusion , nausea and vomiting .\\nWe will include a very thorough HPI with this dictation that was done by Dr. Wedleung .\\nPAST MEDICAL HISTORY :\\nSignificant for metastatic breast cancer , complicated by fever and neutropenia .\\nUTIs , obstruction of the right subclavian vein and right brachial cephalic vein , herpes zoster .\\nStatus post ovarian cyst resection in 1975 .\\nShe had menarche at age 15 .\\nShe used the pill for five years in the past .\\nShe is G 2 , P 2 with spontaneous vaginal deliveries .\\nShe has a history of easy bruis ability .\\nShe is allergic to Augmentin which gives her a rash .\\nMEDICATIONS :\\nMS Contin , MSIR , and Percocet .\\nFAMILY HISTORY :\\nNoncontributory .\\nSOCIAL HISTORY :\\nMarried with two children .\\nShe worked as an occupational therapist at a professional center for handicapped children .\\nShe denies tobacco and drug use and drinks ethanol socially .\\nPHYSICAL EXAMINATION :\\nA cachectic white female .\\nT 100.1 , P 104 , blood pressure 130/90 , heart rate of 16 , she was sating 95% on room air .\\nHEENT - Pupils were miotic , measuring 2 mm but responsive to light .\\nNeck - Tender on the leftside with no lymphadenopathy or thyromegaly .\\nLungs were clear .\\nChest actually had a 5 x 7 cm necrotic area on the left chest wall with some pus .\\nCardiovascular - Normal .\\nAbdomen - Normal .\\nThere was no HSM .\\nExtremities - Her left arm was very swollen .\\nIt was tested with no voluntary movement except at the finger tips .\\nThere was no edema elsewhere in her extremities , only the left arm .\\nNeuro - The patient was oriented to place , but had difficulty with recent memory .\\nShe also had mild weakness in the left extremities , both upper and lower .\\nCranial nerves II - XII were grossly intact .\\nToes were downgoing .\\nLABORATORY DATA :\\nOf note - Na 133 , K 4 , WBC 8.82 , hematocrit 35.1 , platelets 229 .\\nPT 13.8 with an INR of 1.3 , PTT 25.5 , total protein was 6.2 , albumin 3.4 , globulin of 2.8 , calcium of 9.1 , phos 2.7 , mag 2.1 , urea 3.7 .\\nALT was elevated at 240 , AST 85 , LDH 305 , alk phos 85 , total bilirubin was 1.3 , direct bili was .8 .\\nCholesterol 188 , triglyceride was 127 .\\nUA - trace protein , trace ketones , positive for bilirubin and nitrogen and also 4 to 6 wbcs with 1+ bacteria .\\nChest x-ray - Showed a left paratracheal adenopathy and small left pleural effusion with no evidence of pneumonia .\\nIn summary , the patient is a 49 year old woman with metastatic breast cell CA , status post chemotherapy with CMSAP and PVSC and XRT who presented with fever , four days of diarrhea , nausea and vomiting and had been on Keflex for an erythema on her left chest wall .\\nThe Keflex was stopped when she developed the diarrhea .\\nWhen she arrived the plan was to go ahead and treat here rythematous induration and possible cellulitis with IV antibiotics .\\nSo she was put on dicloxicillin and we did local wound care with an agent called Santyl , which is a collagenace ondebrided which worked very well for her .\\nAlso at the time of admission we were also considering palliative Taxol chemotherapy , which the patient declined .\\nShe refused the Taxol therapy so that was not done .\\nAnother major issue with this patient was pain control .\\nShe had been in a whole lot of pain from her left arm lesion .\\nSo pain control was a big issue so she was on MS Contin and MSIR at home she thought that clouded her thinking , so we tried different things for pain management .\\nOne of them was to do a subarachnoid neurologic block at C6-C7 interface on 1-6-94 .\\nAfter that the patient had minimal relief of pain .\\nHowever , she declined further blocks , which were offered to her .\\nSo accepted to be on dilaudid p.o. which was started at a dosage of 2-4 meg but since then we have tapered it up .\\nShe is now getting dilaudid 8 mg q2h and in addition she has been on fentanyl patch .\\nShe is now getting 75 micrograms per hour of the fentanyl patch which is changed every 72 hours .\\nWe can go up by 25 mg on the fentanyl patch as needed to control her pain and we can always go up on the dilaudid because she is still in considerable amount of pain .\\nOther things that happened during this admission - we obtained ahead CT for her on the 8th of January because of her clouded thinking and altered mental status , which was probably due to the morphine that she was taking .\\nWe went ahead and got a head CT scanand it showed no enhancing lesions .\\nIn addition her liver transaminases were elevated , we thought about doing further work-up , but that was deferred because the patient wanted to wait on that .\\nThat has been stable .\\nThe patient on January 13 became hyponatremic .\\nHer sodium went down to 121 and before that on admission she was 133 .\\nA renal consult was obtained and their assessment was that this was probably a mixture of hypovolemia as well as SIADH .\\nWe proceeded to do for her hyponatremia - we gave her some fluid and her urine sodium became higher than her serum sodium ; we stopped it .\\nWe had given her some normal saline and then we proceeded to just do fluid restriction .\\nIn addition we gave her a sodium chloride one gram per day and that also helped , so that now at the time of discharge , the patient 's sodium is between 126 and 129 ; prior to that it had gone down to as low 116.\\nSo that has really improved .\\nWe suggest continuing increased salt intake in her diet and also continuing with the fluid restriction of free water intake to one liter per day .\\nOn the 14th of January , the patient developed increased shortness of breath and chest x-ray was taken showed a wedge shaped infiltrate in the right upper lobe which was consistent with Hampton 's hump .\\nAlso a VQ scan obtained the next day showed high probability for PE .\\nSo we proceeded to put her on heparin for anticoagulation and then when she was therapeutic on heparin , we went ahead and started her on coumadin and she is currently on coumadin at 2.5 mg q.h.s.\\nHer INR is 2.3 .\\nWe want her INR to remain between 2 and 3 .\\nSo if it goes much lower than 2 , then we would consider increasing it to perhaps coumadin 2.5 and 5 alternating every other night .\\nHowever , we would leave it at 2.5 for now .\\nOther major issues - As a result of all the things happened and with her hyponatremia and also the other problems , her blood pressure was elevated also .\\nWe put her on nifedipine IR , SL and that was not enough to control her blood pressure which was in the 200s in the systolic , so we had started her on atenolol .\\nSo on discharge she is on atenolol 100 .\\nIf needed to you can give her some nifedipine SL to decrease her blood pressure .\\nThe patient also has significant edema in both arms now and also some mild edema in the lower extremities , so I think that fluid restriction should help with that .\\nShe is also a little dry .\\nThe patient is on oxygen .\\nEver since the pulmonary embolus she has been on oxygen .\\nShe was on 4 liters ; now she is on 5 liters , sating 94 to 96% on 5 liters .\\nWe would like for her to remain on the oxygen as well .\\nThe complications that I have listed include the hyponatremia , pulmonary embolus and also the elevatd blood pressure .\\nDISPOSITION :\\nDischarge medications - Baclofen 10 p.o. t.i.d. , MVI one tablet p.o. q.d. , Mycostatin powder TP q.d. to be applied to the rash in her left groin area , also dilaudid 8 mg p.o. q2h , Colace 100 mg p.o. b.i.d. , coumadin 2.5 mg p.o. q.h.s. fentanyl patch 75 micrograms per hour topical q72 hours , atenolol 100 mg p.o. q.d.\\nCONDITION ON DISCHARGE :\\nFair .\\nShe remains very weak and will most likely benefit from some physical therapy andshe still has the bilateral edema .\\nShe is to go to the Necsoncardel Medical Center for more chronic care .\\nFollow-up is with Dr. Wedleung in the Hem / Onc in two weeks .\\nThe appointment has already been made .\\nThe patient is very limited in how much she can do right now because of her pain primarily and her difficulty breathing .\\nDictated By :\\nJEABRIHARL FIGEFREIERMFOTHGRENDCAJAQUE , M.D.\\nAttending :\\nLA INEMACISTIN PRONTMANDES , M.D. HD45 SY882/1177\\nBatch :\\n020\\nIndex No.\\nYJQI3J9VU6\\nD :\\n01/25/94\\nT :\\n01/25/94\\n[ report_end ]\"\n        ],\n        \"semantic_type\": \"\",\n        \"description\": \"\"\n      }\n    },\n    {\n      \"column\": \"CLEAN_TEXT\",\n      \"properties\": {\n        \"dtype\": \"string\",\n        \"num_unique_values\": 398,\n        \"samples\": [\n          \"448099088 gh 32371118 212002 120000 multiple myeloma shortness breath signed dis admission date 02012002 report status signed discharge date 02112002 patient received care oncology discharge diagnoses 1 multiple myeloma 2 plasmacytoma patient problem list 1 kappa lyte chain multiple myeloma 2 status post hemorrhoidectomy 3 status post sphincterectomy 4 urinary retention 5 bone marrow transplant 2000 6 appendectomy 7 history pulmonary embolism history present illness mr chysfreierm 53yearold man kappa lyte chain multiple myeloma admitted pain shortness breath fevers weight loss diagnosed multiple myeloma 1999 underwent radiation vad complicated pulmonary embolus followed bone marrow transplant 2000 relapsed underwent imiv3 cytoxan finally ps341 brought disease excellent control may october 2002 november began experience rectal pain diagnosed prolapsed hemorrhoid bout appendicitis followed surgery hemorrhoid december repeat surgery required another hemorrhoid month admission anal fissure repaired began significant problems urinary retention requiring catheterization control although noticed problems urinary retention two months ago admission complained right lateral thigh buttock nerve pain complained fevers chills night sweats 20 pound weight loss dyspnea exertion lasting less five minutes last bowel movement one week prior admission chest pain abdominal pain nausea vomiting diarrhea allergies known drug allergies social history former software engineer married two children family history noncontributory problem list per problem list pertinent physical findings admission vital signs blood pressure 15392 pulse 102 respirations 20 temperature 99 degrees fahrenheit satting 93 94 room air general patient awake alert acute distress heent pupils equal round reactive light extraocular movements intact oropharynx somewhat dry otherwise clear neck lymphadenopathy heart heart regular rate rhythm without gallops however iiiii vi systolic ejection murmur heard lungs lungs bilaterally clear auscultation abdomen abdomen benign extremities edema extremities strength 55 throughout sensation intact grossly 2 symmetric reflexes downgoing toes bilaterally neurologic cranial nerves intact laboratory results admission sodium 133 potassium 37 creatinine 06 bun 5 glucose 151 alkaline phosphatase 392 white count 7 hematocrit 246 inr 13 ptt 101 calcium 84 phosphate 28 mag 18 ua showed 30 40 red blood cells negative dip stick chest xray showed elevation right hemidiaphragm colon normal diameter new left rib fracture soft tissue densities second rib lateral sixth rib upper thoracic compression fracture complications admission hospital course problem problem number 1 multiple myeloma patient restaged admission urine serum electroimmunophoresis full skeletal survey also received fourday decadron burst patient pain l3 distribution mri spine showed clear reason pain thus pelvic ct obtained showing large right pelvic mass likely causing leg pain radiation oncology scheduled next tuesday irradiate mass urinary retention although t5 compression fracture compressing cord without signal change evidence lesion could causing urinary retention felt pelvic mass likely accounted urinary retention fevers blood urine cultures obtained remained negative throughout admission chest xray reveal source fevers patient placed levaquin shortness breath patient vq scan admission low probability pe patient evidence acute pulmonary embolus shortness breath resolved course admission patient t5 compression fracture cord deformity neurosurgery consulted steroids recommended brace ordered stabilize spine patient 10 minutes surgical intervention per dr jescneighagne evaluated considered compression following radiation therapy posterior fossa mass mass found screening mri head per neurosurgery radiation oncology also plans radiation lesion getting radiation pelvic mass patient evidence cerebellar dysfunction discharge discharge medications 1 colace 100 mg po bid 2 zantac 150 mg po bid 3 senna tablets two tabs po bid 4 ms contin 30 mg po bid 5 neurontin 300 mg po tid 6 levofloxacin 500 mg po qd 7 decadron 40 mg x one day 8 lactulose 30 ml po q6h prn constipation 9 flomax 04 mg po qd 10 msir 5 10 mg q46h prn breakthrough pain patient discharge condition satisfactory patient disposition home nursing services home safety medication education patient follow tuesday ven hospital tuesday february 15 patient follow dr jescneighagne neurosurgeon call appointment immediately follow radiation therapy finally follow outpatient oncologist dr shuffzeln directed dictated avejoh iry wierst md eh60 attending telshey swatlleebtik md qm04 bs287919896 batch 82503 index d2zp7i6 sfo 021102 021102 cc 1 sta bodejove md 3 naleo jescneighagne md 4 ven hospital reportend\",\n          \"895872725 elmvh 99080881 979718 5252002 120000 chest pain dis admission date 05252002 report status discharge date 05272002 discharge orders fyfewierst mier 79999772 x12 room 33c139 service car discharge patient 052702 0400 pm contingent upon applicable c order used c summary yes attending sagelyss tytumze vacholle md disposition home discharge medications lopressor metoprolol tartrate 125 mg po bid food drug interaction instruction take consistently meals empty stomach enalapril maleate 20 mg po bid diet house low chol low sat fat activity tolerated return work appt local physician follow appointment dr hashimoto known allergies admit diagnosis chest pressure r mi principal discharge diagnosis responsible study causing admission chest pain diagnosis conditions infections complications affecting treatment stay chest pain r mi operations procedures treatments procedures echocardiogram mra kidney brief resume hospital course 51 yo f h htn hyperchol p w ss chest pressure x 3 days usoh 3 day pta dev new ss chest pressure sometimes rad back l neck jaw assoc exertion pt active lifestyle pressure lasted hours time variably assoc sob nausea palpitations tremulousness diaphoresis pt htn measured bp home 200100 reported local ed found bp 200100 put ntg drip without relief pain 210 persisted relieved mso4 elmvh ed bp 16087 adm r mi eval demand ischemia plus w u htn urgency may new onset pe t975 p59 bp l 18086 r 18698 rr20 98 2l exam notable ii vi systolic murmur labs notable ck 54 nl trop 003 hct 356 mcv 79 ekg lbbb nsr cxr negative plan romi protocol cp protocol captopril nitropaste control pressure mso4 cp echo mra r dissection urine catecholamines vma guaiac stools check iron studies hospital course 1 chest pain pt placed captopril 25 tid lopressor 125 bid ntg paste ss achieving normal bp w 5 hrs adm floor cpress dissappeared timeframe pt rd mi cpk 54 38 33 tpn 003 stable ekg 2 hypertension controlled captopril lopressor 110130s ntg paste causing 30 pt drop cd mra kidney stenosis parenchymal lesions cxr obvious mediastinal widening comp arison film wnl echo prelim ef 5560 septal flattening mild tr mr trace effusion 24h urine study pending additional comments discharge condition satisfactory plan dictated summary entered meed cile prilara md phd rg185 052702 0535 pm end discharge orders reportend\",\n          \"186890029 sh 58809909 151994 120000 discharge summary signed dis admission date 01051994 report status signed discharge date 01251994 principle diagnosis metastatic adenocarcinoma breast problems 1 hyponatremia 11394 2 pulmonary embolus 11494 3 diarrhea nausea vomiting fever 4 history ovarian cyst resection 1975 history present illness patient 49 year old woman metastatic adenocarcinoma breast status post high dose chemotherapy pbse ccss support ending june 1994 admitted 1594 fever chest wall ulceration cellulitis pain control patient first presented october 1991 tender right axillary mass mammogram done november 1990 negative however mammography repeated october 1991 showed bilateral breast masses suspicious carcinoma fine needle aspiration october 23 1991 demonstrated atypical cells occurred singly clusters staging evaluation included normal liver function tests normal blood counts normal chest xray bone scan showed degenerative joint disease shoulders lumbar spine well increased radio chaser uptake breast bilaterally dr berca gachfrum performed right modified mastectomy left simple mastectomy november 4 1991 right modified radical mastectomy contained 55 cm poorly differentiated grade iii iii infiltrating ductal carcinoma margins free tumor 10 21 lymph nodes positive metastatic carcinoma furthermore mass right pectoralis muscle supposed metastatic cancer left simple mastectomy also contained 55 cm poorly differentiated infiltrating ductal intraductal carcinoma extensive lymphatic vessel invasion estrogen receptor 0 erica patient developed large hematoma requiring surgical drainage therefore stage iiia adenocarcinoma breast since high risk local metastatic recurrence tumor received systemic chemotherapy radiation therapy patient treated cmsap cytoxan methotrexate leukovoranrescue 5fu adriamycin prednisone four cycles dose reductions mucositis myelosuppression however following cycle 4 developed flulike illness followed fever nonproductive cough dyspnea exertion abgs showed po2 79 ph 744 po2 33 chest xray showed diffuse interstitial infiltrates differential diagnosis included viral pneumonitis mycoplasma chlamydia basically december 1993 returned hem onc clinic chest wall nodules turned tumor recurrences biopsied although mediastinal recurrence bone scan head liver ct negative metastatic disease thus started protocol high dose chemotherapy gcsf peripheral stem cell support complications mainly included myelosuppression mucositis also developed klebsiella uti second cycle high dose chemotherapy treated gent cipro restaging done april 1993 showed decrease pretracheal nodes question lymphangitic spread versus pneumonitis may 1994 received first course thiotepa velban methotrexate required red cell transfusions mid may admitted fever neutropenia time uti blood clots urine patient presents today complaints fever temperature 100 also diarrhea since november complaints admission include confusion nausea vomiting include thorough hpi dictation done dr wedleung past medical history significant metastatic breast cancer complicated fever neutropenia utis obstruction right subclavian vein right brachial cephalic vein herpes zoster status post ovarian cyst resection 1975 menarche age 15 used pill five years past g 2 p 2 spontaneous vaginal deliveries history easy bruis ability allergic augmentin gives rash medications ms contin msir percocet family history noncontributory social history married two children worked occupational therapist professional center handicapped children denies tobacco drug use drinks ethanol socially physical examination cachectic white female 1001 p 104 blood pressure 13090 heart rate 16 sating 95 room air heent pupils miotic measuring 2 mm responsive light neck tender leftside lymphadenopathy thyromegaly lungs clear chest actually 5 x 7 cm necrotic area left chest wall pus cardiovascular normal abdomen normal hsm extremities left arm swollen tested voluntary movement except finger tips edema elsewhere extremities left arm neuro patient oriented place difficulty recent memory also mild weakness left extremities upper lower cranial nerves ii xii grossly intact toes downgoing laboratory data note na 133 k 4 wbc 882 hematocrit 351 platelets 229 pt 138 inr 13 ptt 255 total protein 62 albumin 34 globulin 28 calcium 91 phos 27 mag 21 urea 37 alt elevated 240 ast 85 ldh 305 alk phos 85 total bilirubin 13 direct bili 8 cholesterol 188 triglyceride 127 ua trace protein trace ketones positive bilirubin nitrogen also 4 6 wbcs 1 bacteria chest xray showed left paratracheal adenopathy small left pleural effusion evidence pneumonia summary patient 49 year old woman metastatic breast cell ca status post chemotherapy cmsap pvsc xrt presented fever four days diarrhea nausea vomiting keflex erythema left chest wall keflex stopped developed diarrhea arrived plan go ahead treat rythematous induration possible cellulitis iv antibiotics put dicloxicillin local wound care agent called santyl collagenace ondebrided worked well also time admission also considering palliative taxol chemotherapy patient declined refused taxol therapy done another major issue patient pain control whole lot pain left arm lesion pain control big issue ms contin msir home thought clouded thinking tried different things pain management one subarachnoid neurologic block c6c7 interface 1694 patient minimal relief pain however declined blocks offered accepted dilaudid po started dosage 24 meg since tapered getting dilaudid 8 mg q2h addition fentanyl patch getting 75 micrograms per hour fentanyl patch changed every 72 hours go 25 mg fentanyl patch needed control pain always go dilaudid still considerable amount pain things happened admission obtained ahead ct 8th january clouded thinking altered mental status probably due morphine taking went ahead got head ct scanand showed enhancing lesions addition liver transaminases elevated thought workup deferred patient wanted wait stable patient january 13 became hyponatremic sodium went 121 admission 133 renal consult obtained assessment probably mixture hypovolemia well siadh proceeded hyponatremia gave fluid urine sodium became higher serum sodium stopped given normal saline proceeded fluid restriction addition gave sodium chloride one gram per day also helped time discharge patient sodium 126 129 prior gone low 116 really improved suggest continuing increased salt intake diet also continuing fluid restriction free water intake one liter per day 14th january patient developed increased shortness breath chest xray taken showed wedge shaped infiltrate right upper lobe consistent hampton hump also vq scan obtained next day showed high probability pe proceeded put heparin anticoagulation therapeutic heparin went ahead started coumadin currently coumadin 25 mg qhs inr 23 want inr remain 2 3 goes much lower 2 would consider increasing perhaps coumadin 25 5 alternating every night however would leave 25 major issues result things happened hyponatremia also problems blood pressure elevated also put nifedipine ir sl enough control blood pressure 200s systolic started atenolol discharge atenolol 100 needed give nifedipine sl decrease blood pressure patient also significant edema arms also mild edema lower extremities think fluid restriction help also little dry patient oxygen ever since pulmonary embolus oxygen 4 liters 5 liters sating 94 96 5 liters would like remain oxygen well complications listed include hyponatremia pulmonary embolus also elevatd blood pressure disposition discharge medications baclofen 10 po tid mvi one tablet po qd mycostatin powder tp qd applied rash left groin area also dilaudid 8 mg po q2h colace 100 mg po bid coumadin 25 mg po qhs fentanyl patch 75 micrograms per hour topical q72 hours atenolol 100 mg po qd condition discharge fair remains weak likely benefit physical therapy andshe still bilateral edema go necsoncardel medical center chronic care followup dr wedleung hem onc two weeks appointment already made patient limited much right pain primarily difficulty breathing dictated jeabriharl figefreiermfothgrendcajaque md attending la inemacistin prontmandes md hd45 sy8821177 batch 020 index yjqi3j9vu6 012594 012594 reportend\"\n        ],\n        \"semantic_type\": \"\",\n        \"description\": \"\"\n      }\n    }\n  ]\n}"
            }
          },
          "metadata": {},
          "execution_count": 12
        }
      ]
    },
    {
      "cell_type": "markdown",
      "source": [
        "Checking for most Frequent and Rare words"
      ],
      "metadata": {
        "id": "9olSDDY82a7U"
      }
    },
    {
      "cell_type": "code",
      "source": [
        "# Checking for the most frequent words\n",
        "from collections import Counter\n",
        "word_count=Counter()\n",
        "for text in smoking_df['CLEAN_TEXT']:\n",
        "  for word in text.split():\n",
        "    word_count[word]+=1\n",
        "\n",
        "word_count.most_common(10)"
      ],
      "metadata": {
        "colab": {
          "base_uri": "https://localhost:8080/"
        },
        "id": "qluVn2Up0V1g",
        "outputId": "30e0bb28-80c3-41c9-acba-373237a4aa62"
      },
      "execution_count": null,
      "outputs": [
        {
          "output_type": "execute_result",
          "data": {
            "text/plain": [
              "[('patient', 3387),\n",
              " ('discharge', 1795),\n",
              " ('mg', 1530),\n",
              " ('po', 1490),\n",
              " ('history', 1339),\n",
              " ('admission', 1056),\n",
              " ('left', 1030),\n",
              " ('right', 989),\n",
              " ('hospital', 909),\n",
              " ('md', 888)]"
            ]
          },
          "metadata": {},
          "execution_count": 13
        }
      ]
    },
    {
      "cell_type": "code",
      "source": [
        "# Checking for Rare words\n",
        "rare_words=set(word for(word,wc)in word_count.most_common()[-10:-1])\n",
        "print(rare_words)"
      ],
      "metadata": {
        "colab": {
          "base_uri": "https://localhost:8080/"
        },
        "id": "PLwmfd-N3aJS",
        "outputId": "fa27bf13-6d6c-4b20-cff0-0e1cf0c5dea3"
      },
      "execution_count": null,
      "outputs": [
        {
          "output_type": "stream",
          "name": "stdout",
          "text": [
            "{'plt150', 'pancx', 'jt0', 'contribute', 'elederly', 'wbc78', 'k44', 'safe', 'glu92'}\n"
          ]
        }
      ]
    },
    {
      "cell_type": "markdown",
      "source": [
        "Removing frequent and rare words from medical text may lead to loss of valuable clinical information and hinder accurate analysis.\n",
        "Hence, I decided not to remove the frequent and rare words."
      ],
      "metadata": {
        "id": "Pit7Lv0m5pZh"
      }
    },
    {
      "cell_type": "markdown",
      "source": [
        "Lemmatization and POS tagging"
      ],
      "metadata": {
        "id": "j6X1joye51X8"
      }
    },
    {
      "cell_type": "code",
      "source": [
        "from nltk import pos_tag\n",
        "nltk.download('averaged_perceptron_tagger')\n",
        "nltk.download('wordnet')\n",
        "from nltk.corpus import wordnet\n",
        "from nltk.stem import WordNetLemmatizer\n",
        "\n",
        "lemmatizer=WordNetLemmatizer()\n",
        "wordnet_map={'N':wordnet.NOUN,'V':wordnet.VERB,'J':wordnet.ADJ,'R':wordnet.ADV}\n",
        "\n",
        "def lemmatize_words(text):\n",
        "  # find pos tags\n",
        "  pos_text=pos_tag(text.split())\n",
        "  return' '.join([lemmatizer.lemmatize(word,wordnet_map.get(pos[0],wordnet.NOUN)) for word,pos in pos_text])\n",
        "\n",
        "smoking_df['CLEAN_TEXT']=smoking_df['CLEAN_TEXT'].apply(lambda x:lemmatize_words(x))\n",
        "smoking_df.head()\n"
      ],
      "metadata": {
        "colab": {
          "base_uri": "https://localhost:8080/",
          "height": 279
        },
        "id": "MJt7LLiz4ukE",
        "outputId": "a88fba56-3330-48f0-c488-f3a3bfa05ec1"
      },
      "execution_count": null,
      "outputs": [
        {
          "output_type": "stream",
          "name": "stderr",
          "text": [
            "[nltk_data] Downloading package averaged_perceptron_tagger to\n",
            "[nltk_data]     /root/nltk_data...\n",
            "[nltk_data]   Unzipping taggers/averaged_perceptron_tagger.zip.\n",
            "[nltk_data] Downloading package wordnet to /root/nltk_data...\n"
          ]
        },
        {
          "output_type": "execute_result",
          "data": {
            "text/plain": [
              "    ID          STATUS                                               TEXT  \\\n",
              "0  641  CURRENT SMOKER  977146916\\nHLGMC\\n2878891\\n022690\\n01/27/1997 ...   \n",
              "1  643  CURRENT SMOKER  026738007\\nCMC\\n15319689\\n3/25/1998 12:00:00 A...   \n",
              "2  681  CURRENT SMOKER  071962960\\nBH\\n4236518\\n417454\\n12/10/2001 12:...   \n",
              "3  704  CURRENT SMOKER  418520250\\nNVH\\n61562872\\n3/11/1995 12:00:00 A...   \n",
              "4  757  CURRENT SMOKER  301443520\\nCTMC\\n49020928\\n448922\\n1/11/1990 1...   \n",
              "\n",
              "                                          CLEAN_TEXT  \n",
              "0  977146916 hlgmc 2878891 022690 01271997 120000...  \n",
              "1  026738007 cmc 15319689 3251998 120000 mediasti...  \n",
              "2  071962960 bh 4236518 417454 12102001 120000 di...  \n",
              "3  418520250 nvh 61562872 3111995 120000 discharg...  \n",
              "4  301443520 ctmc 49020928 448922 1111990 120000 ...  "
            ],
            "text/html": [
              "\n",
              "  <div id=\"df-8eda26ce-1c52-4939-8ad7-a1d1fec0d7c5\" class=\"colab-df-container\">\n",
              "    <div>\n",
              "<style scoped>\n",
              "    .dataframe tbody tr th:only-of-type {\n",
              "        vertical-align: middle;\n",
              "    }\n",
              "\n",
              "    .dataframe tbody tr th {\n",
              "        vertical-align: top;\n",
              "    }\n",
              "\n",
              "    .dataframe thead th {\n",
              "        text-align: right;\n",
              "    }\n",
              "</style>\n",
              "<table border=\"1\" class=\"dataframe\">\n",
              "  <thead>\n",
              "    <tr style=\"text-align: right;\">\n",
              "      <th></th>\n",
              "      <th>ID</th>\n",
              "      <th>STATUS</th>\n",
              "      <th>TEXT</th>\n",
              "      <th>CLEAN_TEXT</th>\n",
              "    </tr>\n",
              "  </thead>\n",
              "  <tbody>\n",
              "    <tr>\n",
              "      <th>0</th>\n",
              "      <td>641</td>\n",
              "      <td>CURRENT SMOKER</td>\n",
              "      <td>977146916\\nHLGMC\\n2878891\\n022690\\n01/27/1997 ...</td>\n",
              "      <td>977146916 hlgmc 2878891 022690 01271997 120000...</td>\n",
              "    </tr>\n",
              "    <tr>\n",
              "      <th>1</th>\n",
              "      <td>643</td>\n",
              "      <td>CURRENT SMOKER</td>\n",
              "      <td>026738007\\nCMC\\n15319689\\n3/25/1998 12:00:00 A...</td>\n",
              "      <td>026738007 cmc 15319689 3251998 120000 mediasti...</td>\n",
              "    </tr>\n",
              "    <tr>\n",
              "      <th>2</th>\n",
              "      <td>681</td>\n",
              "      <td>CURRENT SMOKER</td>\n",
              "      <td>071962960\\nBH\\n4236518\\n417454\\n12/10/2001 12:...</td>\n",
              "      <td>071962960 bh 4236518 417454 12102001 120000 di...</td>\n",
              "    </tr>\n",
              "    <tr>\n",
              "      <th>3</th>\n",
              "      <td>704</td>\n",
              "      <td>CURRENT SMOKER</td>\n",
              "      <td>418520250\\nNVH\\n61562872\\n3/11/1995 12:00:00 A...</td>\n",
              "      <td>418520250 nvh 61562872 3111995 120000 discharg...</td>\n",
              "    </tr>\n",
              "    <tr>\n",
              "      <th>4</th>\n",
              "      <td>757</td>\n",
              "      <td>CURRENT SMOKER</td>\n",
              "      <td>301443520\\nCTMC\\n49020928\\n448922\\n1/11/1990 1...</td>\n",
              "      <td>301443520 ctmc 49020928 448922 1111990 120000 ...</td>\n",
              "    </tr>\n",
              "  </tbody>\n",
              "</table>\n",
              "</div>\n",
              "    <div class=\"colab-df-buttons\">\n",
              "\n",
              "  <div class=\"colab-df-container\">\n",
              "    <button class=\"colab-df-convert\" onclick=\"convertToInteractive('df-8eda26ce-1c52-4939-8ad7-a1d1fec0d7c5')\"\n",
              "            title=\"Convert this dataframe to an interactive table.\"\n",
              "            style=\"display:none;\">\n",
              "\n",
              "  <svg xmlns=\"http://www.w3.org/2000/svg\" height=\"24px\" viewBox=\"0 -960 960 960\">\n",
              "    <path d=\"M120-120v-720h720v720H120Zm60-500h600v-160H180v160Zm220 220h160v-160H400v160Zm0 220h160v-160H400v160ZM180-400h160v-160H180v160Zm440 0h160v-160H620v160ZM180-180h160v-160H180v160Zm440 0h160v-160H620v160Z\"/>\n",
              "  </svg>\n",
              "    </button>\n",
              "\n",
              "  <style>\n",
              "    .colab-df-container {\n",
              "      display:flex;\n",
              "      gap: 12px;\n",
              "    }\n",
              "\n",
              "    .colab-df-convert {\n",
              "      background-color: #E8F0FE;\n",
              "      border: none;\n",
              "      border-radius: 50%;\n",
              "      cursor: pointer;\n",
              "      display: none;\n",
              "      fill: #1967D2;\n",
              "      height: 32px;\n",
              "      padding: 0 0 0 0;\n",
              "      width: 32px;\n",
              "    }\n",
              "\n",
              "    .colab-df-convert:hover {\n",
              "      background-color: #E2EBFA;\n",
              "      box-shadow: 0px 1px 2px rgba(60, 64, 67, 0.3), 0px 1px 3px 1px rgba(60, 64, 67, 0.15);\n",
              "      fill: #174EA6;\n",
              "    }\n",
              "\n",
              "    .colab-df-buttons div {\n",
              "      margin-bottom: 4px;\n",
              "    }\n",
              "\n",
              "    [theme=dark] .colab-df-convert {\n",
              "      background-color: #3B4455;\n",
              "      fill: #D2E3FC;\n",
              "    }\n",
              "\n",
              "    [theme=dark] .colab-df-convert:hover {\n",
              "      background-color: #434B5C;\n",
              "      box-shadow: 0px 1px 3px 1px rgba(0, 0, 0, 0.15);\n",
              "      filter: drop-shadow(0px 1px 2px rgba(0, 0, 0, 0.3));\n",
              "      fill: #FFFFFF;\n",
              "    }\n",
              "  </style>\n",
              "\n",
              "    <script>\n",
              "      const buttonEl =\n",
              "        document.querySelector('#df-8eda26ce-1c52-4939-8ad7-a1d1fec0d7c5 button.colab-df-convert');\n",
              "      buttonEl.style.display =\n",
              "        google.colab.kernel.accessAllowed ? 'block' : 'none';\n",
              "\n",
              "      async function convertToInteractive(key) {\n",
              "        const element = document.querySelector('#df-8eda26ce-1c52-4939-8ad7-a1d1fec0d7c5');\n",
              "        const dataTable =\n",
              "          await google.colab.kernel.invokeFunction('convertToInteractive',\n",
              "                                                    [key], {});\n",
              "        if (!dataTable) return;\n",
              "\n",
              "        const docLinkHtml = 'Like what you see? Visit the ' +\n",
              "          '<a target=\"_blank\" href=https://colab.research.google.com/notebooks/data_table.ipynb>data table notebook</a>'\n",
              "          + ' to learn more about interactive tables.';\n",
              "        element.innerHTML = '';\n",
              "        dataTable['output_type'] = 'display_data';\n",
              "        await google.colab.output.renderOutput(dataTable, element);\n",
              "        const docLink = document.createElement('div');\n",
              "        docLink.innerHTML = docLinkHtml;\n",
              "        element.appendChild(docLink);\n",
              "      }\n",
              "    </script>\n",
              "  </div>\n",
              "\n",
              "\n",
              "<div id=\"df-ec484789-8244-4a0a-b1b8-d12fe1772b9e\">\n",
              "  <button class=\"colab-df-quickchart\" onclick=\"quickchart('df-ec484789-8244-4a0a-b1b8-d12fe1772b9e')\"\n",
              "            title=\"Suggest charts\"\n",
              "            style=\"display:none;\">\n",
              "\n",
              "<svg xmlns=\"http://www.w3.org/2000/svg\" height=\"24px\"viewBox=\"0 0 24 24\"\n",
              "     width=\"24px\">\n",
              "    <g>\n",
              "        <path d=\"M19 3H5c-1.1 0-2 .9-2 2v14c0 1.1.9 2 2 2h14c1.1 0 2-.9 2-2V5c0-1.1-.9-2-2-2zM9 17H7v-7h2v7zm4 0h-2V7h2v10zm4 0h-2v-4h2v4z\"/>\n",
              "    </g>\n",
              "</svg>\n",
              "  </button>\n",
              "\n",
              "<style>\n",
              "  .colab-df-quickchart {\n",
              "      --bg-color: #E8F0FE;\n",
              "      --fill-color: #1967D2;\n",
              "      --hover-bg-color: #E2EBFA;\n",
              "      --hover-fill-color: #174EA6;\n",
              "      --disabled-fill-color: #AAA;\n",
              "      --disabled-bg-color: #DDD;\n",
              "  }\n",
              "\n",
              "  [theme=dark] .colab-df-quickchart {\n",
              "      --bg-color: #3B4455;\n",
              "      --fill-color: #D2E3FC;\n",
              "      --hover-bg-color: #434B5C;\n",
              "      --hover-fill-color: #FFFFFF;\n",
              "      --disabled-bg-color: #3B4455;\n",
              "      --disabled-fill-color: #666;\n",
              "  }\n",
              "\n",
              "  .colab-df-quickchart {\n",
              "    background-color: var(--bg-color);\n",
              "    border: none;\n",
              "    border-radius: 50%;\n",
              "    cursor: pointer;\n",
              "    display: none;\n",
              "    fill: var(--fill-color);\n",
              "    height: 32px;\n",
              "    padding: 0;\n",
              "    width: 32px;\n",
              "  }\n",
              "\n",
              "  .colab-df-quickchart:hover {\n",
              "    background-color: var(--hover-bg-color);\n",
              "    box-shadow: 0 1px 2px rgba(60, 64, 67, 0.3), 0 1px 3px 1px rgba(60, 64, 67, 0.15);\n",
              "    fill: var(--button-hover-fill-color);\n",
              "  }\n",
              "\n",
              "  .colab-df-quickchart-complete:disabled,\n",
              "  .colab-df-quickchart-complete:disabled:hover {\n",
              "    background-color: var(--disabled-bg-color);\n",
              "    fill: var(--disabled-fill-color);\n",
              "    box-shadow: none;\n",
              "  }\n",
              "\n",
              "  .colab-df-spinner {\n",
              "    border: 2px solid var(--fill-color);\n",
              "    border-color: transparent;\n",
              "    border-bottom-color: var(--fill-color);\n",
              "    animation:\n",
              "      spin 1s steps(1) infinite;\n",
              "  }\n",
              "\n",
              "  @keyframes spin {\n",
              "    0% {\n",
              "      border-color: transparent;\n",
              "      border-bottom-color: var(--fill-color);\n",
              "      border-left-color: var(--fill-color);\n",
              "    }\n",
              "    20% {\n",
              "      border-color: transparent;\n",
              "      border-left-color: var(--fill-color);\n",
              "      border-top-color: var(--fill-color);\n",
              "    }\n",
              "    30% {\n",
              "      border-color: transparent;\n",
              "      border-left-color: var(--fill-color);\n",
              "      border-top-color: var(--fill-color);\n",
              "      border-right-color: var(--fill-color);\n",
              "    }\n",
              "    40% {\n",
              "      border-color: transparent;\n",
              "      border-right-color: var(--fill-color);\n",
              "      border-top-color: var(--fill-color);\n",
              "    }\n",
              "    60% {\n",
              "      border-color: transparent;\n",
              "      border-right-color: var(--fill-color);\n",
              "    }\n",
              "    80% {\n",
              "      border-color: transparent;\n",
              "      border-right-color: var(--fill-color);\n",
              "      border-bottom-color: var(--fill-color);\n",
              "    }\n",
              "    90% {\n",
              "      border-color: transparent;\n",
              "      border-bottom-color: var(--fill-color);\n",
              "    }\n",
              "  }\n",
              "</style>\n",
              "\n",
              "  <script>\n",
              "    async function quickchart(key) {\n",
              "      const quickchartButtonEl =\n",
              "        document.querySelector('#' + key + ' button');\n",
              "      quickchartButtonEl.disabled = true;  // To prevent multiple clicks.\n",
              "      quickchartButtonEl.classList.add('colab-df-spinner');\n",
              "      try {\n",
              "        const charts = await google.colab.kernel.invokeFunction(\n",
              "            'suggestCharts', [key], {});\n",
              "      } catch (error) {\n",
              "        console.error('Error during call to suggestCharts:', error);\n",
              "      }\n",
              "      quickchartButtonEl.classList.remove('colab-df-spinner');\n",
              "      quickchartButtonEl.classList.add('colab-df-quickchart-complete');\n",
              "    }\n",
              "    (() => {\n",
              "      let quickchartButtonEl =\n",
              "        document.querySelector('#df-ec484789-8244-4a0a-b1b8-d12fe1772b9e button');\n",
              "      quickchartButtonEl.style.display =\n",
              "        google.colab.kernel.accessAllowed ? 'block' : 'none';\n",
              "    })();\n",
              "  </script>\n",
              "</div>\n",
              "\n",
              "    </div>\n",
              "  </div>\n"
            ],
            "application/vnd.google.colaboratory.intrinsic+json": {
              "type": "dataframe",
              "variable_name": "smoking_df",
              "summary": "{\n  \"name\": \"smoking_df\",\n  \"rows\": 398,\n  \"fields\": [\n    {\n      \"column\": \"ID\",\n      \"properties\": {\n        \"dtype\": \"number\",\n        \"std\": 253,\n        \"min\": 2,\n        \"max\": 921,\n        \"num_unique_values\": 398,\n        \"samples\": [\n          920,\n          417,\n          865\n        ],\n        \"semantic_type\": \"\",\n        \"description\": \"\"\n      }\n    },\n    {\n      \"column\": \"STATUS\",\n      \"properties\": {\n        \"dtype\": \"category\",\n        \"num_unique_values\": 5,\n        \"samples\": [\n          \"NON-SMOKER\",\n          \"UNKNOWN\",\n          \"PAST SMOKER\"\n        ],\n        \"semantic_type\": \"\",\n        \"description\": \"\"\n      }\n    },\n    {\n      \"column\": \"TEXT\",\n      \"properties\": {\n        \"dtype\": \"string\",\n        \"num_unique_values\": 398,\n        \"samples\": [\n          \"448099088\\nGH\\n32371118\\n2/1/2002 12:00:00 AM\\nMULTIPLE MYELOMA , SHORTNESS OF BREATH\\nSigned\\nDIS\\nAdmission Date :\\n02/01/2002\\nReport Status :\\nSigned\\nDischarge Date :\\n02/11/2002\\nThe patient received care on Oncology A .\\nDISCHARGE DIAGNOSES :\\n1. MULTIPLE MYELOMA .\\n2. PLASMACYTOMA .\\nPATIENT PROBLEM LIST :\\n1. Kappa lyte chain multiple myeloma .\\n2. Status post hemorrhoidectomy .\\n3. Status post sphincterectomy .\\n4. Urinary retention .\\n5. Bone marrow transplant in 2000 .\\n6. Appendectomy .\\n7. History of pulmonary embolism .\\nHISTORY OF PRESENT ILLNESS :\\nMr. Chysfreierm is a 53-year-old man with Kappa lyte chain multiple myeloma admitted with pain , shortness of breath , fevers and weight loss .\\nHe was diagnosed with multiple myeloma in 1999 .\\nHe underwent radiation and VAD complicated by pulmonary embolus .\\nThis was followed by bone marrow transplant in 2000 .\\nHe relapsed and underwent IMIV-3 , Cytoxan and finally PS-341 , which brought his disease to excellent control during May to October , 2002 .\\nIn November he began to experience rectal pain , was diagnosed with a prolapsed hemorrhoid .\\nHe had a bout of appendicitis followed by surgery for his hemorrhoid in December .\\nRepeat surgery was required for another hemorrhoid .\\nThe month of admission he had an anal fissure repaired and then began to have more significant problems with urinary retention requiring catheterization for control , although he had noticed some problems with urinary retention up to two months ago .\\nOn admission he complained of right lateral thigh , buttock , \\\" nerve \\\" pain .\\nHe complained of fevers , chills and night sweats and a 20 pound weight loss , dyspnea on exertion lasting less than five minutes .\\nHis last bowel movement was one week prior to admission .\\nHe has no chest pain , abdominal pain , nausea , vomiting or diarrhea .\\nALLERGIES :\\nHe has no known drug allergies .\\nSOCIAL HISTORY :\\nHe is a former software engineer .\\nHe is married and has two children .\\nFAMILY HISTORY :\\nNoncontributory .\\nHis problem list is as per the problem list .\\nPERTINENT PHYSICAL FINDINGS ON ADMISSION :\\nVITAL SIGNS :\\nBlood pressure 153/92 , pulse 102 , respirations 20 , temperature 99 degrees Fahrenheit , satting 93 to 94% on room air .\\nGENERAL :\\nThe patient was awake and alert , in no acute distress .\\nHEENT :\\nPupils were equal , round , reactive to light .\\nHis extraocular movements were intact .\\nHis oropharynx was somewhat dry , but otherwise clear .\\nNECK :\\nHe had no lymphadenopathy .\\nHEART :\\nHis heart was regular rate and rhythm without gallops , however , II-III / VI systolic ejection murmur was heard .\\nLUNGS :\\nHis lungs were bilaterally clear to auscultation .\\nABDOMEN :\\nHis abdomen was benign .\\nEXTREMITIES :\\nThere was no edema of his extremities .\\nHis strength was 5/5 throughout .\\nSensation was intact grossly .\\nHe had 2+ symmetric reflexes with down-going toes bilaterally .\\nNEUROLOGIC :\\nHis cranial nerves were intact .\\nLABORATORY RESULTS ON ADMISSION :\\nSodium 133 , potassium 3.7 , creatinine 0.6 with a BUN of 5 , glucose 151 .\\nAlkaline phosphatase was 392 .\\nWhite count was 7 .\\nHematocrit was 24.6 .\\nHis INR was 1.3 with a PTT of 101 .\\nCalcium was 8.4 , phosphate 2.8 , mag 1.8 .\\nUA showed 30 to 40 red blood cells but had a negative dip stick .\\nHis chest X-ray showed elevation of the right hemidiaphragm with the colon of normal diameter , his new left rib fracture and soft tissue densities at the second rib and lateral sixth rib and then upper thoracic compression fracture .\\nThere were no complications of his admission .\\nHOSPITAL COURSE BY PROBLEM :\\nProblem number 1 , multiple myeloma .\\nThe patient was re-staged during his admission with a urine and serum electroimmunophoresis and a full skeletal survey .\\nHe also received a four-day Decadron burst .\\nThe patient had pain in the L3 distribution .\\nHis MRI of the spine showed no clear reason for the pain and thus , a pelvic CT was obtained showing a large right pelvic mass that likely was causing his leg pain .\\nRadiation oncology was scheduled for next Tuesday to irradiate the mass .\\nUrinary retention .\\nAlthough there was a T5 compression fracture compressing the cord without signal change , there was no evidence that this lesion could be causing his urinary retention ; and it was felt that the pelvic mass more likely accounted for his urinary retention .\\nFevers .\\nHis blood and urine cultures were obtained and remained negative throughout admission .\\nHis chest X-ray did not reveal source of his fevers .\\nThe patient was placed on Levaquin .\\nShortness of breath .\\nThe patient had a V-Q scan on admission that was low probability for PE .\\nThe patient had no evidence of acute pulmonary embolus and his shortness of breath resolved over the course of his admission .\\nThe patient had a T5 compression fracture with cord deformity .\\nNeurosurgery was consulted .\\nNo steroids were recommended .\\nA brace was ordered to stabilize the spine when the patient was up more than 10 minutes .\\nSurgical intervention per Dr. Jescneighagne was being evaluated and considered for the compression following his radiation therapy .\\nPosterior fossa mass .\\nThis mass was found on a screening MRI of the head per neurosurgery .\\nRadiation oncology also plans radiation to that lesion while he is getting radiation for the pelvic mass .\\nThe patient had no evidence of cerebellar dysfunction on discharge .\\nDISCHARGE MEDICATIONS :\\n1. Colace 100 mg p.o. b.i.d.\\n2. Zantac 150 mg p.o. b.i.d.\\n3. Senna tablets two tabs p.o. b.i.d.\\n4. MS Contin 30 mg p.o. b.i.d.\\n5. Neurontin 300 mg p.o. t.i.d.\\n6. Levofloxacin 500 mg p.o. q.d.\\n7. Decadron 40 mg x one day .\\n8. Lactulose 30 ml p.o. q.6h. p.r.n. constipation .\\n9. Flomax 0.4 mg p.o. q.d.\\n10. MSIR 5 to 10 mg q.4-6h. p.r.n. break-through pain .\\nThe patient 's discharge condition was satisfactory .\\nThe patient 's disposition was to home with nursing services for home safety and medication education .\\nThe patient is to follow up on Tuesday on Ven Hospital on Tuesday , February 15 .\\nThe patient is to follow up with Dr. Jescneighagne , neurosurgeon .\\nHe will call for an appointment to immediately follow his radiation therapy .\\nFinally , he will follow up with his outpatient oncologist , Dr. Shuffzeln as directed .\\nDictated By :\\nAVEJOH IRY WIERST , M.D. EH60\\nAttending :\\nTELSHEY SWATLLEEBTIK , M.D. QM04 BS287/919896\\nBatch :\\n82503\\nIndex No.\\nD2ZP7I6 SFO\\nD :\\n02/11/02\\nT :\\n02/11/02\\nCC :\\n1. STA O. BODEJOVE , M.D.\\n3. NALEO JESCNEIGHAGNE , M.D.\\n4. VEN HOSPITAL\\n[ report_end ]\",\n          \"895872725 ELMVH\\n99080881\\n979718\\n5/25/2002 12:00:00 AM\\nChest pain\\nDIS\\nAdmission Date :\\n05/25/2002\\nReport Status :\\nDischarge Date :\\n05/27/2002\\n****** DISCHARGE ORDERS ******\\nFYFEWIERST , MIER\\n799-99-77-2 X12\\nRoom :\\n33C-139\\nService :\\nCAR\\nDISCHARGE PATIENT ON :\\n05/27/02 AT 04:00 PM\\nCONTINGENT UPON\\nNot Applicable\\nWILL D / C ORDER BE USED AS THE D / C SUMMARY :\\nYES\\nAttending :\\nSAGELYSS , TYTUMZE VACHOLLE , M.D.\\nDISPOSITION :\\nHome\\nDISCHARGE MEDICATIONS :\\nLOPRESSOR ( METOPROLOL TARTRATE ) 12.5 MG PO BID\\nFood / Drug Interaction Instruction\\nTake consistently with meals or on empty stomach .\\nENALAPRIL MALEATE 20\\nMG PO BID DIET :\\nHouse / Low chol / low sat. fat\\nActivity - As tolerated\\nRETURN TO WORK :\\nAfter Appt with local physician\\nFOLLOW UP APPOINTMENT ( S ) :\\nDr. Hashimoto , No Known Allergies\\nADMIT DIAGNOSIS :\\nchest pressure ; r / o mi\\nPRINCIPAL DISCHARGE DIAGNOSIS ;\\nResponsible After Study for Causing Admission ) Chest pain\\nOTHER DIAGNOSIS ;\\nConditions , Infections , Complications , affecting Treatment / Stay\\nChest pain ; R / o\\nMI\\nOPERATIONS AND PROCEDURES :\\nOTHER TREATMENTS / PROCEDURES ( NOT IN O.R. )\\nEchocardiogram MRA Kidney\\nBRIEF RESUME OF HOSPITAL COURSE :\\n51 yo F h / o HTN , hyperchol , p / w SS chest pressure x 3 days .\\nUSOH until 3 day PTa , dev new SS chest pressure sometimes rad to back and L neck / jaw .\\nNot assoc with exertion ( pt has active lifestyle ) .\\nPressure lasted for hours at a time .\\nVariably assoc with SOB , nausea , palpitations , tremulousness , diaphoresis .\\nPt has HTN , measured BP home 200/100 .\\nReported to a local ED was found to have BP up to 200/100 .\\nPut on NTG drip without relief .\\nPain 2/10 persisted , relieved by MSO4 .\\nAt ELMVH ED , BP 160/87 .\\nNow adm for r / o MI , eval of ? demand ischemia , plus w / u of HTN urgency ( which may be very new in onset ) .\\nPE T97.5 P59 BP ( l ) 180/86 ( r ) 186/98 RR20 98% 2L .\\nExam only notable for II / VI systolic murmur .\\nLabs only notable for CK 54 ( nl ) , Trop 0.03 , Hct 35.6 MCV 79 .\\nEKG LBBB NSR .\\nCXR negative .\\nPlan ROMI protocol .\\nCP protocol .\\nCaptopril and nitropaste to control pressure .\\nMSO4 for CP .\\nEcho , MRA ( r / o dissection ) , urine catecholamines and VMA .\\nGuaiac all stools , check iron studies .\\nHOSPITAL COURSE\\n1. Chest Pain\\n- Pt placed on captopril 25 tid , lopressor 12.5 BID and NTG paste SS , achieving normal BP w / in 5 hrs of adm to floor .\\nHer CPress dissappeared over the same timeframe .\\n- pt r'd / o for mi by CPK ( 54-> 38-> 33 ) and TPN ( 0.03 ) , and stable EKG .\\n2. Hypertension\\n- controlled on captopril + lopressor to 110-130s ; NTG paste causing 30 pt drop so d / c'd .\\n- MRA kidney :\\nno stenosis ; no parenchymal lesions\\n- CXR :\\nno obvious mediastinal widening , but no comp arison film ; wnl\\n- echo :\\nprelim :\\nEF 55-60 , ? septal flattening , mild TR and MR , trace effusion -24h urine study :\\npending .\\nADDITIONAL COMMENTS :\\nDISCHARGE CONDITION :\\nSatisfactory\\nTO DO / PLAN :\\nNo dictated summary\\nENTERED BY :\\nMEED , CILE PRILARA , M.D. , PH.D. ( RG185 ) 05/27/02 05:35 PM\\n****** END OF DISCHARGE ORDERS ******\\n[ report_end ]\",\n          \"186890029\\nSH\\n58809909\\n1/5/1994 12:00:00 AM\\nDischarge Summary\\nSigned\\nDIS\\nAdmission Date :\\n01/05/1994\\nReport Status :\\nSigned\\nDischarge Date :\\n01/25/1994\\nPRINCIPLE DIAGNOSIS :\\nMETASTATIC ADENOCARCINOMA OF THE BREAST .\\nOTHER PROBLEMS :\\n1. HYPONATREMIA , 1-13-94 .\\n2. PULMONARY EMBOLUS , 1-14-94 .\\n3. DIARRHEA , NAUSEA AND VOMITING , FEVER .\\n4. HISTORY OF OVARIAN CYST RESECTION , 1975 .\\nHISTORY OF PRESENT ILLNESS :\\nThe patient is a 49 year old woman with a metastatic adenocarcinoma of the breast who is status post high dose chemotherapy with PBSE and CCSS support ending June 1994 .\\nShe was admitted on 1-5-94 for fever , chest wall ulceration , cellulitis and pain control .\\nThe patient first presented in October 1991 with a tender right axillary mass .\\nA mammogram done in November 1990 was negative .\\nHowever , mammography repeated in October 1991 showed bilateral breast masses , suspicious for carcinoma .\\nFine needle aspiration on October 23 , 1991 demonstrated atypical cells which occurred singly and in clusters .\\nStaging evaluation included normal liver function tests , normal blood counts and normal chest x-ray .\\nBone scan showed degenerative joint disease in the shoulders and lumbar spine as well as increased radio chaser uptake in the breast bilaterally .\\nDr. Berca Gachfrum performed a right modified mastectomy and left simple mastectomy on November 4 , 1991 .\\nThe right modified radical mastectomy contained a 5.5 cm poorly differentiated , Grade III out of III infiltrating ductal carcinoma .\\nThe margins were free of tumor , but 10 out of 21 lymph nodes were positive for metastatic carcinoma .\\nFurthermore there was a mass on the right pectoralis muscle which is supposed to be metastatic cancer .\\nThe left simple mastectomy also contained 5.5 cm poorly differentiated infiltrating ductal and intraductal carcinoma with extensive lymphatic vessel invasion .\\nEstrogen receptor was 0% by ERICA .\\nThe patient developed a large hematoma requiring surgical drainage .\\nTherefore she had a Stage III-A adenocarcinoma of the breast .\\nSince she was at high risk for both local and metastatic recurrence of her tumor , she received both systemic chemotherapy and radiation therapy .\\nThe patient was treated with CMSAP , which is Cytoxan , Methotrexate , Leukovoranrescue , 5-FU , Adriamycin and Prednisone for four cycles .\\nThere were no dose reductions for mucositis or myelosuppression .\\nHowever , following cycle 4 , she developed a flu-like illness , followed by fever , nonproductive cough and dyspnea on exertion .\\nABGs showed a pO2 of 79 , pH 7.44 , pO2 33 .\\nChest x-ray showed diffuse interstitial infiltrates .\\nThe differential diagnosis included viral pneumonitis , Mycoplasma , Chlamydia .\\nBasically in December 1993 , she returned to the Hem / Onc Clinic with chest wall nodules which turned out to be tumor recurrences and biopsied .\\nAlthough she had mediastinal recurrence , bone scan , head and liver CT were negative for metastatic disease .\\nShe was thus started on a Protocol of high dose chemotherapy with GCSF and peripheral stem cell support .\\nComplications has mainly included myelosuppression and mucositis .\\nShe also developed Klebsiella UTI after the second cycle of high dose chemotherapy .\\nIt was treated with gent and Cipro .\\nRe-staging done in April 1993 showed a decrease in the pretracheal nodes with question of some lymphangitic spread versus some pneumonitis .\\nIn May 1994 she received her first course of thiotepa and Velban and Methotrexate , which required some red cell transfusions .\\nIn mid May she was admitted for fever and neutropenia and at that time had a UTI with blood clots in the urine .\\nThe patient presents today with complaints of fever and a temperature of 100 .\\nShe has also been having diarrhea since November and her other complaints of admission include confusion , nausea and vomiting .\\nWe will include a very thorough HPI with this dictation that was done by Dr. Wedleung .\\nPAST MEDICAL HISTORY :\\nSignificant for metastatic breast cancer , complicated by fever and neutropenia .\\nUTIs , obstruction of the right subclavian vein and right brachial cephalic vein , herpes zoster .\\nStatus post ovarian cyst resection in 1975 .\\nShe had menarche at age 15 .\\nShe used the pill for five years in the past .\\nShe is G 2 , P 2 with spontaneous vaginal deliveries .\\nShe has a history of easy bruis ability .\\nShe is allergic to Augmentin which gives her a rash .\\nMEDICATIONS :\\nMS Contin , MSIR , and Percocet .\\nFAMILY HISTORY :\\nNoncontributory .\\nSOCIAL HISTORY :\\nMarried with two children .\\nShe worked as an occupational therapist at a professional center for handicapped children .\\nShe denies tobacco and drug use and drinks ethanol socially .\\nPHYSICAL EXAMINATION :\\nA cachectic white female .\\nT 100.1 , P 104 , blood pressure 130/90 , heart rate of 16 , she was sating 95% on room air .\\nHEENT - Pupils were miotic , measuring 2 mm but responsive to light .\\nNeck - Tender on the leftside with no lymphadenopathy or thyromegaly .\\nLungs were clear .\\nChest actually had a 5 x 7 cm necrotic area on the left chest wall with some pus .\\nCardiovascular - Normal .\\nAbdomen - Normal .\\nThere was no HSM .\\nExtremities - Her left arm was very swollen .\\nIt was tested with no voluntary movement except at the finger tips .\\nThere was no edema elsewhere in her extremities , only the left arm .\\nNeuro - The patient was oriented to place , but had difficulty with recent memory .\\nShe also had mild weakness in the left extremities , both upper and lower .\\nCranial nerves II - XII were grossly intact .\\nToes were downgoing .\\nLABORATORY DATA :\\nOf note - Na 133 , K 4 , WBC 8.82 , hematocrit 35.1 , platelets 229 .\\nPT 13.8 with an INR of 1.3 , PTT 25.5 , total protein was 6.2 , albumin 3.4 , globulin of 2.8 , calcium of 9.1 , phos 2.7 , mag 2.1 , urea 3.7 .\\nALT was elevated at 240 , AST 85 , LDH 305 , alk phos 85 , total bilirubin was 1.3 , direct bili was .8 .\\nCholesterol 188 , triglyceride was 127 .\\nUA - trace protein , trace ketones , positive for bilirubin and nitrogen and also 4 to 6 wbcs with 1+ bacteria .\\nChest x-ray - Showed a left paratracheal adenopathy and small left pleural effusion with no evidence of pneumonia .\\nIn summary , the patient is a 49 year old woman with metastatic breast cell CA , status post chemotherapy with CMSAP and PVSC and XRT who presented with fever , four days of diarrhea , nausea and vomiting and had been on Keflex for an erythema on her left chest wall .\\nThe Keflex was stopped when she developed the diarrhea .\\nWhen she arrived the plan was to go ahead and treat here rythematous induration and possible cellulitis with IV antibiotics .\\nSo she was put on dicloxicillin and we did local wound care with an agent called Santyl , which is a collagenace ondebrided which worked very well for her .\\nAlso at the time of admission we were also considering palliative Taxol chemotherapy , which the patient declined .\\nShe refused the Taxol therapy so that was not done .\\nAnother major issue with this patient was pain control .\\nShe had been in a whole lot of pain from her left arm lesion .\\nSo pain control was a big issue so she was on MS Contin and MSIR at home she thought that clouded her thinking , so we tried different things for pain management .\\nOne of them was to do a subarachnoid neurologic block at C6-C7 interface on 1-6-94 .\\nAfter that the patient had minimal relief of pain .\\nHowever , she declined further blocks , which were offered to her .\\nSo accepted to be on dilaudid p.o. which was started at a dosage of 2-4 meg but since then we have tapered it up .\\nShe is now getting dilaudid 8 mg q2h and in addition she has been on fentanyl patch .\\nShe is now getting 75 micrograms per hour of the fentanyl patch which is changed every 72 hours .\\nWe can go up by 25 mg on the fentanyl patch as needed to control her pain and we can always go up on the dilaudid because she is still in considerable amount of pain .\\nOther things that happened during this admission - we obtained ahead CT for her on the 8th of January because of her clouded thinking and altered mental status , which was probably due to the morphine that she was taking .\\nWe went ahead and got a head CT scanand it showed no enhancing lesions .\\nIn addition her liver transaminases were elevated , we thought about doing further work-up , but that was deferred because the patient wanted to wait on that .\\nThat has been stable .\\nThe patient on January 13 became hyponatremic .\\nHer sodium went down to 121 and before that on admission she was 133 .\\nA renal consult was obtained and their assessment was that this was probably a mixture of hypovolemia as well as SIADH .\\nWe proceeded to do for her hyponatremia - we gave her some fluid and her urine sodium became higher than her serum sodium ; we stopped it .\\nWe had given her some normal saline and then we proceeded to just do fluid restriction .\\nIn addition we gave her a sodium chloride one gram per day and that also helped , so that now at the time of discharge , the patient 's sodium is between 126 and 129 ; prior to that it had gone down to as low 116.\\nSo that has really improved .\\nWe suggest continuing increased salt intake in her diet and also continuing with the fluid restriction of free water intake to one liter per day .\\nOn the 14th of January , the patient developed increased shortness of breath and chest x-ray was taken showed a wedge shaped infiltrate in the right upper lobe which was consistent with Hampton 's hump .\\nAlso a VQ scan obtained the next day showed high probability for PE .\\nSo we proceeded to put her on heparin for anticoagulation and then when she was therapeutic on heparin , we went ahead and started her on coumadin and she is currently on coumadin at 2.5 mg q.h.s.\\nHer INR is 2.3 .\\nWe want her INR to remain between 2 and 3 .\\nSo if it goes much lower than 2 , then we would consider increasing it to perhaps coumadin 2.5 and 5 alternating every other night .\\nHowever , we would leave it at 2.5 for now .\\nOther major issues - As a result of all the things happened and with her hyponatremia and also the other problems , her blood pressure was elevated also .\\nWe put her on nifedipine IR , SL and that was not enough to control her blood pressure which was in the 200s in the systolic , so we had started her on atenolol .\\nSo on discharge she is on atenolol 100 .\\nIf needed to you can give her some nifedipine SL to decrease her blood pressure .\\nThe patient also has significant edema in both arms now and also some mild edema in the lower extremities , so I think that fluid restriction should help with that .\\nShe is also a little dry .\\nThe patient is on oxygen .\\nEver since the pulmonary embolus she has been on oxygen .\\nShe was on 4 liters ; now she is on 5 liters , sating 94 to 96% on 5 liters .\\nWe would like for her to remain on the oxygen as well .\\nThe complications that I have listed include the hyponatremia , pulmonary embolus and also the elevatd blood pressure .\\nDISPOSITION :\\nDischarge medications - Baclofen 10 p.o. t.i.d. , MVI one tablet p.o. q.d. , Mycostatin powder TP q.d. to be applied to the rash in her left groin area , also dilaudid 8 mg p.o. q2h , Colace 100 mg p.o. b.i.d. , coumadin 2.5 mg p.o. q.h.s. fentanyl patch 75 micrograms per hour topical q72 hours , atenolol 100 mg p.o. q.d.\\nCONDITION ON DISCHARGE :\\nFair .\\nShe remains very weak and will most likely benefit from some physical therapy andshe still has the bilateral edema .\\nShe is to go to the Necsoncardel Medical Center for more chronic care .\\nFollow-up is with Dr. Wedleung in the Hem / Onc in two weeks .\\nThe appointment has already been made .\\nThe patient is very limited in how much she can do right now because of her pain primarily and her difficulty breathing .\\nDictated By :\\nJEABRIHARL FIGEFREIERMFOTHGRENDCAJAQUE , M.D.\\nAttending :\\nLA INEMACISTIN PRONTMANDES , M.D. HD45 SY882/1177\\nBatch :\\n020\\nIndex No.\\nYJQI3J9VU6\\nD :\\n01/25/94\\nT :\\n01/25/94\\n[ report_end ]\"\n        ],\n        \"semantic_type\": \"\",\n        \"description\": \"\"\n      }\n    },\n    {\n      \"column\": \"CLEAN_TEXT\",\n      \"properties\": {\n        \"dtype\": \"string\",\n        \"num_unique_values\": 398,\n        \"samples\": [\n          \"448099088 gh 32371118 212002 120000 multiple myeloma shortness breath sign dis admission date 02012002 report status sign discharge date 02112002 patient receive care oncology discharge diagnose 1 multiple myeloma 2 plasmacytoma patient problem list 1 kappa lyte chain multiple myeloma 2 status post hemorrhoidectomy 3 status post sphincterectomy 4 urinary retention 5 bone marrow transplant 2000 6 appendectomy 7 history pulmonary embolism history present illness mr chysfreierm 53yearold man kappa lyte chain multiple myeloma admit pain shortness breath fever weight loss diagnose multiple myeloma 1999 underwent radiation vad complicate pulmonary embolus follow bone marrow transplant 2000 relapse underwent imiv3 cytoxan finally ps341 bring disease excellent control may october 2002 november begin experience rectal pain diagnose prolapse hemorrhoid bout appendicitis follow surgery hemorrhoid december repeat surgery require another hemorrhoid month admission anal fissure repair begin significant problem urinary retention require catheterization control although notice problem urinary retention two month ago admission complain right lateral thigh buttock nerve pain complain fever chill night sweat 20 pound weight loss dyspnea exertion last less five minute last bowel movement one week prior admission chest pain abdominal pain nausea vomit diarrhea allergy know drug allergy social history former software engineer marry two child family history noncontributory problem list per problem list pertinent physical finding admission vital sign blood pressure 15392 pulse 102 respiration 20 temperature 99 degree fahrenheit satting 93 94 room air general patient awake alert acute distress heent pupils equal round reactive light extraocular movement intact oropharynx somewhat dry otherwise clear neck lymphadenopathy heart heart regular rate rhythm without gallop however iiiii vi systolic ejection murmur heard lung lung bilaterally clear auscultation abdomen abdomen benign extremity edema extremity strength 55 throughout sensation intact grossly 2 symmetric reflex downgoing toe bilaterally neurologic cranial nerve intact laboratory result admission sodium 133 potassium 37 creatinine 06 bun 5 glucose 151 alkaline phosphatase 392 white count 7 hematocrit 246 inr 13 ptt 101 calcium 84 phosphate 28 mag 18 ua show 30 40 red blood cell negative dip stick chest xray show elevation right hemidiaphragm colon normal diameter new leave rib fracture soft tissue density second rib lateral sixth rib upper thoracic compression fracture complication admission hospital course problem problem number 1 multiple myeloma patient restaged admission urine serum electroimmunophoresis full skeletal survey also receive fourday decadron burst patient pain l3 distribution mri spine show clear reason pain thus pelvic ct obtain show large right pelvic mass likely cause leg pain radiation oncology schedule next tuesday irradiate mass urinary retention although t5 compression fracture compress cord without signal change evidence lesion could cause urinary retention felt pelvic mass likely account urinary retention fever blood urine culture obtain remain negative throughout admission chest xray reveal source fever patient place levaquin shortness breath patient vq scan admission low probability pe patient evidence acute pulmonary embolus shortness breath resolve course admission patient t5 compression fracture cord deformity neurosurgery consult steroid recommend brace order stabilize spine patient 10 minute surgical intervention per dr jescneighagne evaluate consider compression follow radiation therapy posterior fossa mass mass find screen mri head per neurosurgery radiation oncology also plan radiation lesion get radiation pelvic mass patient evidence cerebellar dysfunction discharge discharge medication 1 colace 100 mg po bid 2 zantac 150 mg po bid 3 senna tablet two tab po bid 4 m contin 30 mg po bid 5 neurontin 300 mg po tid 6 levofloxacin 500 mg po qd 7 decadron 40 mg x one day 8 lactulose 30 ml po q6h prn constipation 9 flomax 04 mg po qd 10 msir 5 10 mg q46h prn breakthrough pain patient discharge condition satisfactory patient disposition home nursing service home safety medication education patient follow tuesday ven hospital tuesday february 15 patient follow dr jescneighagne neurosurgeon call appointment immediately follow radiation therapy finally follow outpatient oncologist dr shuffzeln direct dictated avejoh iry wierst md eh60 attend telshey swatlleebtik md qm04 bs287919896 batch 82503 index d2zp7i6 sfo 021102 021102 cc 1 sta bodejove md 3 naleo jescneighagne md 4 ven hospital reportend\",\n          \"895872725 elmvh 99080881 979718 5252002 120000 chest pain dis admission date 05252002 report status discharge date 05272002 discharge order fyfewierst mier 79999772 x12 room 33c139 service car discharge patient 052702 0400 pm contingent upon applicable c order use c summary yes attend sagelyss tytumze vacholle md disposition home discharge medication lopressor metoprolol tartrate 125 mg po bid food drug interaction instruction take consistently meal empty stomach enalapril maleate 20 mg po bid diet house low chol low sit fat activity tolerate return work appt local physician follow appointment dr hashimoto know allergy admit diagnosis chest pressure r mi principal discharge diagnosis responsible study cause admission chest pain diagnosis condition infection complication affect treatment stay chest pain r mi operation procedures treatment procedure echocardiogram mra kidney brief resume hospital course 51 yo f h htn hyperchol p w s chest pressure x 3 day usoh 3 day pta dev new s chest pressure sometimes rad back l neck jaw assoc exertion pt active lifestyle pressure last hour time variably assoc sob nausea palpitation tremulousness diaphoresis pt htn measure bp home 200100 report local ed find bp 200100 put ntg drip without relief pain 210 persist relieve mso4 elmvh ed bp 16087 adm r mi eval demand ischemia plus w u htn urgency may new onset pe t975 p59 bp l 18086 r 18698 rr20 98 2l exam notable ii vi systolic murmur labs notable ck 54 nl trop 003 hct 356 mcv 79 ekg lbbb nsr cxr negative plan romi protocol cp protocol captopril nitropaste control pressure mso4 cp echo mra r dissection urine catecholamine vma guaiac stool check iron study hospital course 1 chest pain pt place captopril 25 tid lopressor 125 bid ntg paste s achieve normal bp w 5 hr adm floor cpress dissappeared timeframe pt rd mi cpk 54 38 33 tpn 003 stable ekg 2 hypertension control captopril lopressor 110130s ntg paste cause 30 pt drop cd mra kidney stenosis parenchymal lesion cxr obvious mediastinal widening comp arison film wnl echo prelim ef 5560 septal flatten mild tr mr trace effusion 24h urine study pending additional comment discharge condition satisfactory plan dictate summary enter meed cile prilara md phd rg185 052702 0535 pm end discharge order reportend\",\n          \"186890029 sh 58809909 151994 120000 discharge summary sign dis admission date 01051994 report status sign discharge date 01251994 principle diagnosis metastatic adenocarcinoma breast problem 1 hyponatremia 11394 2 pulmonary embolus 11494 3 diarrhea nausea vomit fever 4 history ovarian cyst resection 1975 history present illness patient 49 year old woman metastatic adenocarcinoma breast status post high dose chemotherapy pbse ccss support end june 1994 admitted 1594 fever chest wall ulceration cellulitis pain control patient first present october 1991 tender right axillary mass mammogram do november 1990 negative however mammography repeat october 1991 show bilateral breast mass suspicious carcinoma fine needle aspiration october 23 1991 demonstrate atypical cell occur singly cluster stag evaluation include normal liver function test normal blood count normal chest xray bone scan show degenerative joint disease shoulder lumbar spine well increased radio chaser uptake breast bilaterally dr berca gachfrum perform right modify mastectomy leave simple mastectomy november 4 1991 right modify radical mastectomy contain 55 cm poorly differentiate grade iii iii infiltrate ductal carcinoma margin free tumor 10 21 lymph node positive metastatic carcinoma furthermore mass right pectoralis muscle suppose metastatic cancer leave simple mastectomy also contain 55 cm poorly differentiate infiltrate ductal intraductal carcinoma extensive lymphatic vessel invasion estrogen receptor 0 erica patient develop large hematoma require surgical drainage therefore stage iiia adenocarcinoma breast since high risk local metastatic recurrence tumor receive systemic chemotherapy radiation therapy patient treat cmsap cytoxan methotrexate leukovoranrescue 5fu adriamycin prednisone four cycle dose reduction mucositis myelosuppression however follow cycle 4 develop flulike illness follow fever nonproductive cough dyspnea exertion abgs show po2 79 ph 744 po2 33 chest xray show diffuse interstitial infiltrates differential diagnosis include viral pneumonitis mycoplasma chlamydia basically december 1993 return hem onc clinic chest wall nodule turn tumor recurrence biopsied although mediastinal recurrence bone scan head liver ct negative metastatic disease thus start protocol high dose chemotherapy gcsf peripheral stem cell support complication mainly include myelosuppression mucositis also develop klebsiella uti second cycle high dose chemotherapy treat gent cipro restaging do april 1993 show decrease pretracheal node question lymphangitic spread versus pneumonitis may 1994 receive first course thiotepa velban methotrexate require red cell transfusion mid may admit fever neutropenia time uti blood clot urine patient present today complaint fever temperature 100 also diarrhea since november complaint admission include confusion nausea vomit include thorough hpi dictation do dr wedleung past medical history significant metastatic breast cancer complicate fever neutropenia utis obstruction right subclavian vein right brachial cephalic vein herpes zoster status post ovarian cyst resection 1975 menarche age 15 use pill five year past g 2 p 2 spontaneous vaginal delivery history easy bruis ability allergic augmentin give rash medication ms contin msir percocet family history noncontributory social history marry two child work occupational therapist professional center handicap child deny tobacco drug use drink ethanol socially physical examination cachectic white female 1001 p 104 blood pressure 13090 heart rate 16 sate 95 room air heent pupils miotic measure 2 mm responsive light neck tender leftside lymphadenopathy thyromegaly lung clear chest actually 5 x 7 cm necrotic area leave chest wall pu cardiovascular normal abdomen normal hsm extremity leave arm swollen test voluntary movement except finger tip edema elsewhere extremity leave arm neuro patient orient place difficulty recent memory also mild weakness leave extremity upper low cranial nerve ii xii grossly intact toe downgoing laboratory data note na 133 k 4 wbc 882 hematocrit 351 platelet 229 pt 138 inr 13 ptt 255 total protein 62 albumin 34 globulin 28 calcium 91 phos 27 mag 21 urea 37 alt elevate 240 ast 85 ldh 305 alk phos 85 total bilirubin 13 direct bili 8 cholesterol 188 triglyceride 127 ua trace protein trace ketone positive bilirubin nitrogen also 4 6 wbc 1 bacteria chest xray show left paratracheal adenopathy small leave pleural effusion evidence pneumonia summary patient 49 year old woman metastatic breast cell ca status post chemotherapy cmsap pvsc xrt present fever four day diarrhea nausea vomit keflex erythema leave chest wall keflex stop developed diarrhea arrive plan go ahead treat rythematous induration possible cellulitis iv antibiotic put dicloxicillin local wound care agent call santyl collagenace ondebrided work well also time admission also consider palliative taxol chemotherapy patient decline refused taxol therapy do another major issue patient pain control whole lot pain leave arm lesion pain control big issue m contin msir home thought cloud think tried different thing pain management one subarachnoid neurologic block c6c7 interface 1694 patient minimal relief pain however decline block offer accept dilaudid po start dosage 24 meg since taper get dilaudid 8 mg q2h addition fentanyl patch get 75 microgram per hour fentanyl patch change every 72 hour go 25 mg fentanyl patch need control pain always go dilaudid still considerable amount pain thing happen admission obtain ahead ct 8th january cloud thinking alter mental status probably due morphine take go ahead get head ct scanand show enhance lesion addition liver transaminase elevate thought workup defer patient want wait stable patient january 13 become hyponatremic sodium go 121 admission 133 renal consult obtain assessment probably mixture hypovolemia well siadh proceed hyponatremia give fluid urine sodium become high serum sodium stop give normal saline proceed fluid restriction addition give sodium chloride one gram per day also help time discharge patient sodium 126 129 prior go low 116 really improve suggest continue increased salt intake diet also continue fluid restriction free water intake one liter per day 14th january patient develop increased shortness breath chest xray take show wedge shape infiltrate right upper lobe consistent hampton hump also vq scan obtain next day show high probability pe proceed put heparin anticoagulation therapeutic heparin go ahead start coumadin currently coumadin 25 mg qhs inr 23 want inr remain 2 3 go much low 2 would consider increase perhaps coumadin 25 5 alternate every night however would leave 25 major issue result thing happen hyponatremia also problem blood pressure elevate also put nifedipine ir sl enough control blood pressure 200s systolic start atenolol discharge atenolol 100 need give nifedipine sl decrease blood pressure patient also significant edema arm also mild edema low extremity think fluid restriction help also little dry patient oxygen ever since pulmonary embolus oxygen 4 liter 5 liter sate 94 96 5 liter would like remain oxygen well complication list include hyponatremia pulmonary embolus also elevatd blood pressure disposition discharge medication baclofen 10 po tid mvi one tablet po qd mycostatin powder tp qd apply rash leave groin area also dilaudid 8 mg po q2h colace 100 mg po bid coumadin 25 mg po qhs fentanyl patch 75 microgram per hour topical q72 hour atenolol 100 mg po qd condition discharge fair remain weak likely benefit physical therapy andshe still bilateral edema go necsoncardel medical center chronic care followup dr wedleung hem onc two week appointment already make patient limited much right pain primarily difficulty breathe dictate jeabriharl figefreiermfothgrendcajaque md attend la inemacistin prontmandes md hd45 sy8821177 batch 020 index yjqi3j9vu6 012594 012594 reportend\"\n        ],\n        \"semantic_type\": \"\",\n        \"description\": \"\"\n      }\n    }\n  ]\n}"
            }
          },
          "metadata": {},
          "execution_count": 15
        }
      ]
    },
    {
      "cell_type": "code",
      "source": [
        "clean_text=smoking_df['CLEAN_TEXT']\n",
        "text=smoking_df['TEXT']\n",
        "labels=smoking_df['STATUS']\n",
        "cleaneddata_labels=list(zip(clean_text,labels))\n",
        "data_labels=list(zip(text,labels))\n",
        "print('Raw data: ',data_labels[0])\n",
        "print('Cleaned data: ',cleaneddata_labels[0])"
      ],
      "metadata": {
        "colab": {
          "base_uri": "https://localhost:8080/"
        },
        "id": "vUjex1Tui2XU",
        "outputId": "e5d77549-d221-4f56-e53d-6f6c25838d84"
      },
      "execution_count": null,
      "outputs": [
        {
          "output_type": "stream",
          "name": "stdout",
          "text": [
            "Raw data:  (\"977146916\\nHLGMC\\n2878891\\n022690\\n01/27/1997 12:00:00 AM\\nCARCINOMA OF THE COLON .\\nUnsigned\\nDIS\\nReport Status :\\nUnsigned\\nPlease do not go above this box important format codes are contained .\\nDISCHARGE SUMMARY\\nARF32 FA\\nDISCHARGE SUMMARY NAME :\\nGIRRESNET , DIEDREO A\\nUNIT NUMBER :\\n075-71-01\\nADMISSION DATE :\\n01/27/1997\\nDISCHARGE DATE :\\n01/31/1997\\nPRINCIPAL DIAGNOSIS :\\nCarcinoma of the colon .\\nASSOCIATED DIAGNOSIS :\\nUrinary tract infection , and cirrhosis of the liver .\\nHISTORY OF PRESENT ILLNESS :\\nThe patient is an 80-year-old male , who had a history of colon cancer in the past , resected approximately ten years prior to admission , history of heavy alcohol use , who presented with a two week history of poor PO intake , weight loss , and was noted to have acute on chronic Hepatitis by chemistries and question of pyelonephritis .\\nHe lived alone but was driven to the hospital by his son because of reported worsening and general care and deconditioning .\\nEmergency Department course ; he was evaluated in the emergency room , found to be severely cachectic and jaundiced .\\nHe was given a liter of normal saline , along with thiamine , folate .\\nAn abdominal ultrasound was performed showing no stones .\\nChest x-ray revealed clear lungs and then he was admitted to Team C for management .\\nPAST MEDICAL HISTORY :\\nCancer , ten years prior to admission , status post resection .\\nMEDICATIONS ON ADMISSION :\\nFolic acid .\\nALLERGIES :\\nNone .\\nFAMILY HISTORY :\\nNot obtained .\\nSOCIAL HISTORY :\\nLives in Merca .\\nDrinks ginger brandy to excess , pipe and cigar smoker for many years .\\nPHYSICAL EXAMINATION :\\nIn general was a cachectic , jaundiced man .\\nbloodpressure :\\n124/60 , 97.4 , 84 , 22 for vital signs .\\nhead , eyes , ears , nose and throat :\\nnotable for abscess ulcers on the lower gums .\\nHe was edentulous .\\nNeck was supple , lungs were clear except for some scattered mild crackles .\\nCardiac :\\ntachycardic with a II / VI systolic ejection murmur .\\nBelly was tender in the right upper quadrant .\\nLiver edge , thickened abdominal wall was palpable .\\nNo inguinal nodes .\\nRectal was guaiac negative .\\nOn mental status exam , he was somnolent but arousable .\\nOriented to name , year , and hospital .\\nSkin was jaundiced .\\nLABORATORY DATA :\\nNotable for a BUN and creatinine 14 and 1.8 , phosphorous of .5 , magnesium 1.2 , albumin 2.1 .\\nelevated liver function tests , bilirubin of 14 direct , 17 total .\\nuric acid 11.4 , alkaline phosphatase 173 , serum glutamic oxaloacetic transaminase 309 , amylase 388 .\\nHis urinalysis showed 10-20 granular casts and 10-20 white blood cells , 3-5 red blood cells , 5-10 whites , 3-5 white blood cells cast .\\nThe white blood cell was 8.5 , hematocrit 34 .\\nplatelet count 74 .\\n5% bands on differential .\\nprothrombin time 14.9 , partial thromboplastin time 35 .\\nHOSPITAL COURSE AND TREATMENT :\\nThe patient was admitted to the Staviewordna University Of Medical Center .\\nHis mental status proceeded to decline as he became more sleepy and less arousable and confused .\\nHis Hepatitis worsened , liver failure progressed with his coagulopathy worsening .\\nHis renal status also decreased with a drop in urine output , became more shortness of breath as he developed some pulmonary edema .\\nA head computerized tomography scan was planned to evaluate his change in mental status , but after an extensive discussion with the son , who felt that he and other family members wanted to maximize the patient 's comforts and avoid heroic measures in the event of further deterioration , plans were made to make the patient as comfortable as possible .\\nHe was continued on antibiotics , and oxygen , and morphine , and small amounts of Dopamine , and at 4 AM on January 31 , was pronounced dead .\\n_________________________ AJO C. CUCHKOTE , M.D.\\nTR :\\ntfv\\nDD :\\n09/08/1997\\nTD :\\n10/13/1997 3:47\\nPcc :\\nAZEL USANNE WALL , M.D.\\n[ report_end ]\", 'CURRENT SMOKER')\n",
            "Cleaned data:  ('977146916 hlgmc 2878891 022690 01271997 120000 carcinoma colon unsigned dis report status unsigned please go box important format code contain discharge summary arf32 fa discharge summary name girresnet diedreo unit number 0757101 admission date 01271997 discharge date 01311997 principal diagnosis carcinoma colon associate diagnosis urinary tract infection cirrhosis liver history present illness patient 80yearold male history colon cancer past resect approximately ten year prior admission history heavy alcohol use present two week history poor po intake weight loss note acute chronic hepatitis chemistry question pyelonephritis live alone driven hospital son report worsen general care deconditioning emergency department course evaluate emergency room find severely cachectic jaundice give liter normal saline along thiamine folate abdominal ultrasound perform show stone chest xray reveal clear lung admit team c management past medical history cancer ten year prior admission status post resection medication admission folic acid allergy none family history obtain social history life merca drink ginger brandy excess pipe cigar smoker many year physical examination general cachectic jaundice man bloodpressure 12460 974 84 22 vital sign head eye ear nose throat notable abscess ulcer low gum edentulous neck supple lung clear except scattered mild crackle cardiac tachycardic ii vi systolic ejection murmur belly tender right upper quadrant liver edge thicken abdominal wall palpable inguinal node rectal guaiac negative mental status exam somnolent arousable orient name year hospital skin jaundice laboratory data notable bun creatinine 14 18 phosphorous 5 magnesium 12 albumin 21 elevate liver function test bilirubin 14 direct 17 total uric acid 114 alkaline phosphatase 173 serum glutamic oxaloacetic transaminase 309 amylase 388 urinalysis show 1020 granular cast 1020 white blood cell 35 red blood cell 510 white 35 white blood cell cast white blood cell 85 hematocrit 34 platelet count 74 5 band differential prothrombin time 149 partial thromboplastin time 35 hospital course treatment patient admit staviewordna university medical center mental status proceed decline become sleepy less arousable confused hepatitis worsen liver failure progress coagulopathy worsen renal status also decrease drop urine output become shortness breath develop pulmonary edema head computerize tomography scan plan evaluate change mental status extensive discussion son felt family member want maximize patient comfort avoid heroic measure event deterioration plan make make patient comfortable possible continue antibiotic oxygen morphine small amount dopamine 4 january 31 pronounce dead ajo c cuchkote md tr tfv dd 09081997 td 10131997 347 pcc azel usanne wall md reportend', 'CURRENT SMOKER')\n"
          ]
        }
      ]
    },
    {
      "cell_type": "markdown",
      "source": [
        "# Naive Bayes Classifier"
      ],
      "metadata": {
        "id": "lTELAyMG93Lh"
      }
    },
    {
      "cell_type": "markdown",
      "source": [
        "# Split the Cleaned Dataset into Train and Test"
      ],
      "metadata": {
        "id": "QVN24Su2ichf"
      }
    },
    {
      "cell_type": "code",
      "source": [
        "from sklearn.model_selection import train_test_split\n",
        "train_set,test_set=train_test_split(cleaneddata_labels,test_size=0.2,random_state=7)\n",
        "print('Number of training medical records: ',len(train_set))\n",
        "print('train_set[0]: ',train_set[0])\n",
        "print('Number of testing medical records: ',len(test_set))\n",
        "print('test_set[0]: ',test_set[0])"
      ],
      "metadata": {
        "colab": {
          "base_uri": "https://localhost:8080/"
        },
        "id": "qfFBIlTpCpJP",
        "outputId": "a12fb273-8efc-4711-8b2c-dd457ea7dd56"
      },
      "execution_count": null,
      "outputs": [
        {
          "output_type": "stream",
          "name": "stdout",
          "text": [
            "Number of training medical records:  318\n",
            "train_set[0]:  ('420033129 yc 87142319 129591 12121996 120000 discharge summary sign dis admission date 12121996 report status sign discharge date 12161996 principal diagnosis status post total abdominal hysterectomy bilateral salpingooophorectomy associate diagnosis 1 menorrhagia 2 pelvic pain 3 endometriosis principal procedure tahbso history reason hospitalization patient 42 year old gravida ii para female long history menorrhagia pelvic pain also history endometriosis symptomatic use danocrine approximately nine month pain free unable tolerate side effect status post several laparoscopy past diagnosed endometriosis recently depoprovera episode breakthrough bleed six week time desired surgical therapy hospital course 121296 uncomplicated total abdominal hysterectomy bilateral salpingooophorectomy estimate blood loss 100 cc tolerate procedure well postop day number one afebrile well pca pain control postop day number two also afebrile pass flatus yet ambulate frequently hematocrit 342 stable preoperative value postop day number three abdomen note distended bowel sound still pass gas patient decrease amount demerol use supplement tylenol continued frequent ambulation postop day number four pass flatus feel much well discharge home good condition follow medication discharge medication demerol pain motrin pain colace stool softener disposition patient followup dr side two week dictate iedearc side md lb28 attend mitery loss md cb51 ii7952112 batch 42100 index zmfx3o4g1 010497 010697 cc 1 mitery loss md nt11 reportend', 'UNKNOWN')\n",
            "Number of testing medical records:  80\n",
            "test_set[0]:  ('478865872 puomc 9005769 82331 408058 261997 120000 discharge summary unsigned dis report status unsigned discharge summary name shuff ronhum unit number 0544458 admission date 020697 discharge date 021197 chief complaint lump anterior abdominal groin area history present illness patient 76yearold female undergone previous right axillary femoral bypass graft leave foot ischemia initially 1993 follow shortly thereafter repair thoracoabdominal aneurysm aortobifemoral bypass graft previous axillary femoral bypass graft point ligate report approximately 48 hour prior develop pain right low abdomen groin noticed new onset lump deny fever chill abdominal pain past medical history past medical history past surgical history significant upper gastrointestinal bleed chronic obstructive pulmonary disease history hypertension atrial fibrillation medication admission prilosec lanoxin lescol physical examination physical examination reveals thin woman acute distress head eye ears nose throat examination unremarkable chest clear auscultation abdomen soft palpable nonpulsatile mass right low abdomen measure approximately 3 centimeter x 3 centimeter previous axillary femoral bypass graft readily apparent subcutaneous tissue along right hospital course treatment abdominal pelvic computerize tomography scan obtain show evidence communication pseudoaneurysm previous ongoing graft patient know large ascend aortic aneurysm admit studied chest computerized tomography scan patient bring operating room inhalation anesthetic old graft upper abdomen groin remove wound close primarily patient tolerated procedure well follow dr ray approximately one week time well follow thoracic surgeon consideration repair ascend aortic aneurysm medication discharge include addition bactrim d one tablet po bid x five day percocet 12 po q4h prn ta jesc md dictate riode r ray md tr zbb dd 021197 td 021597 1104 cc riode reyaza ray md reportend', 'UNKNOWN')\n"
          ]
        }
      ]
    },
    {
      "cell_type": "markdown",
      "source": [
        "# Building Unigram Feature Sets"
      ],
      "metadata": {
        "id": "N9b-uMmRmKn8"
      }
    },
    {
      "cell_type": "code",
      "source": [
        "nltk.download('punkt')\n",
        "def unigram_features(data)->[(dict,str)]:\n",
        "  smo_ctexts=[d[0] for d in data]\n",
        "  smo_labels=[d[1] for d in data]\n",
        "  feature_dicts=[{word: True for word in nltk.word_tokenize(str(smo_ctext))} for smo_ctext in smo_ctexts ]\n",
        "  return list(zip(feature_dicts,smo_labels))"
      ],
      "metadata": {
        "colab": {
          "base_uri": "https://localhost:8080/"
        },
        "id": "e0IwbBijl--P",
        "outputId": "3016f88a-952f-431c-8feb-5741b79973cf"
      },
      "execution_count": null,
      "outputs": [
        {
          "output_type": "stream",
          "name": "stderr",
          "text": [
            "[nltk_data] Downloading package punkt to /root/nltk_data...\n",
            "[nltk_data]   Unzipping tokenizers/punkt.zip.\n"
          ]
        }
      ]
    },
    {
      "cell_type": "markdown",
      "source": [
        "# Train the Model"
      ],
      "metadata": {
        "id": "5E4ytVFcxjcQ"
      }
    },
    {
      "cell_type": "code",
      "source": [
        "debug_feature_sets=unigram_features(train_set)\n",
        "classifier=nltk.NaiveBayesClassifier.train(debug_feature_sets)"
      ],
      "metadata": {
        "id": "jqElerXww-CO"
      },
      "execution_count": null,
      "outputs": []
    },
    {
      "cell_type": "markdown",
      "source": [
        "# Prediction and Evaluation"
      ],
      "metadata": {
        "id": "pO-DEKploeWz"
      }
    },
    {
      "cell_type": "code",
      "source": [
        "# Prediction\n",
        "test_feature_sets=unigram_features(test_set)\n",
        "test_dict=test_feature_sets[0][0]\n",
        "print('Real value: ',test_feature_sets[0][1])\n",
        "prediction=classifier.classify(test_dict)\n",
        "print('Predicted value: ',prediction)\n",
        "\n",
        "# Evaluation\n",
        "def evaluate_classifier(classifier,test_data)->float:\n",
        "  test_feature_sets=unigram_features(test_data)\n",
        "  return nltk.classify.accuracy(classifier,test_feature_sets)\n",
        "acc=evaluate_classifier(classifier,test_set)\n",
        "print('Accuracy of unigram: ',acc)"
      ],
      "metadata": {
        "id": "DruU63k4xNFB",
        "colab": {
          "base_uri": "https://localhost:8080/"
        },
        "outputId": "2760a2ab-e343-48ff-93ec-584fc7a372ba"
      },
      "execution_count": null,
      "outputs": [
        {
          "output_type": "stream",
          "name": "stdout",
          "text": [
            "Real value:  UNKNOWN\n",
            "Predicted value:  PAST SMOKER\n",
            "Accuracy of unigram:  0.2\n"
          ]
        }
      ]
    },
    {
      "cell_type": "code",
      "source": [
        "num_test_lables=len(test_set)\n",
        "print('num_test_labels: ',num_test_lables)\n",
        "\n",
        "true_labels=[]\n",
        "for i in range(num_test_lables):\n",
        "  true_labels.append(test_feature_sets[i][1])\n",
        "print('True labels: ',true_labels)\n",
        "\n",
        "predicted_labels=[]\n",
        "for i in range(num_test_lables):\n",
        "  prediction=classifier.classify(test_feature_sets[i][0])\n",
        "  predicted_labels.append(prediction)\n",
        "print('predicted labels', predicted_labels)\n",
        "\n",
        "print(classification_report(true_labels, predicted_labels))"
      ],
      "metadata": {
        "colab": {
          "base_uri": "https://localhost:8080/"
        },
        "id": "JXxKQY0Go6_Y",
        "outputId": "f0ffc3b2-bb6f-4fe9-8b29-f8a0e60cfcf5"
      },
      "execution_count": null,
      "outputs": [
        {
          "output_type": "stream",
          "name": "stdout",
          "text": [
            "num_test_labels:  80\n",
            "True labels:  ['UNKNOWN', 'UNKNOWN', 'UNKNOWN', 'NON-SMOKER', 'UNKNOWN', 'UNKNOWN', 'UNKNOWN', 'UNKNOWN', 'UNKNOWN', 'UNKNOWN', 'UNKNOWN', 'NON-SMOKER', 'NON-SMOKER', 'PAST SMOKER', 'UNKNOWN', 'UNKNOWN', 'CURRENT SMOKER', 'UNKNOWN', 'CURRENT SMOKER', 'UNKNOWN', 'UNKNOWN', 'NON-SMOKER', 'UNKNOWN', 'UNKNOWN', 'NON-SMOKER', 'UNKNOWN', 'UNKNOWN', 'UNKNOWN', 'CURRENT SMOKER', 'UNKNOWN', 'UNKNOWN', 'UNKNOWN', 'NON-SMOKER', 'UNKNOWN', 'UNKNOWN', 'UNKNOWN', 'NON-SMOKER', 'CURRENT SMOKER', 'UNKNOWN', 'CURRENT SMOKER', 'UNKNOWN', 'UNKNOWN', 'CURRENT SMOKER', 'NON-SMOKER', 'NON-SMOKER', 'CURRENT SMOKER', 'NON-SMOKER', 'UNKNOWN', 'PAST SMOKER', 'UNKNOWN', 'UNKNOWN', 'UNKNOWN', 'NON-SMOKER', 'UNKNOWN', 'SMOKER', 'UNKNOWN', 'UNKNOWN', 'UNKNOWN', 'UNKNOWN', 'PAST SMOKER', 'UNKNOWN', 'UNKNOWN', 'UNKNOWN', 'UNKNOWN', 'PAST SMOKER', 'UNKNOWN', 'CURRENT SMOKER', 'UNKNOWN', 'UNKNOWN', 'UNKNOWN', 'PAST SMOKER', 'UNKNOWN', 'UNKNOWN', 'NON-SMOKER', 'UNKNOWN', 'PAST SMOKER', 'UNKNOWN', 'UNKNOWN', 'NON-SMOKER', 'UNKNOWN']\n",
            "predicted labels ['PAST SMOKER', 'UNKNOWN', 'PAST SMOKER', 'PAST SMOKER', 'SMOKER', 'SMOKER', 'PAST SMOKER', 'PAST SMOKER', 'NON-SMOKER', 'CURRENT SMOKER', 'CURRENT SMOKER', 'SMOKER', 'SMOKER', 'PAST SMOKER', 'SMOKER', 'PAST SMOKER', 'CURRENT SMOKER', 'SMOKER', 'CURRENT SMOKER', 'UNKNOWN', 'SMOKER', 'PAST SMOKER', 'SMOKER', 'PAST SMOKER', 'SMOKER', 'PAST SMOKER', 'PAST SMOKER', 'SMOKER', 'PAST SMOKER', 'PAST SMOKER', 'CURRENT SMOKER', 'PAST SMOKER', 'PAST SMOKER', 'SMOKER', 'PAST SMOKER', 'PAST SMOKER', 'PAST SMOKER', 'SMOKER', 'PAST SMOKER', 'PAST SMOKER', 'PAST SMOKER', 'SMOKER', 'CURRENT SMOKER', 'PAST SMOKER', 'SMOKER', 'PAST SMOKER', 'PAST SMOKER', 'NON-SMOKER', 'SMOKER', 'SMOKER', 'PAST SMOKER', 'SMOKER', 'SMOKER', 'CURRENT SMOKER', 'SMOKER', 'UNKNOWN', 'SMOKER', 'CURRENT SMOKER', 'SMOKER', 'PAST SMOKER', 'SMOKER', 'SMOKER', 'SMOKER', 'PAST SMOKER', 'PAST SMOKER', 'UNKNOWN', 'CURRENT SMOKER', 'SMOKER', 'PAST SMOKER', 'NON-SMOKER', 'PAST SMOKER', 'UNKNOWN', 'SMOKER', 'SMOKER', 'SMOKER', 'PAST SMOKER', 'PAST SMOKER', 'PAST SMOKER', 'SMOKER', 'UNKNOWN']\n",
            "                precision    recall  f1-score   support\n",
            "\n",
            "CURRENT SMOKER       0.44      0.50      0.47         8\n",
            "    NON-SMOKER       0.00      0.00      0.00        13\n",
            "   PAST SMOKER       0.15      0.83      0.26         6\n",
            "        SMOKER       0.03      1.00      0.07         1\n",
            "       UNKNOWN       1.00      0.12      0.21        52\n",
            "\n",
            "      accuracy                           0.20        80\n",
            "     macro avg       0.33      0.49      0.20        80\n",
            "  weighted avg       0.71      0.20      0.20        80\n",
            "\n"
          ]
        }
      ]
    },
    {
      "cell_type": "markdown",
      "source": [
        "# Building Bigram Feature Sets"
      ],
      "metadata": {
        "id": "0ULqgHtHrJP5"
      }
    },
    {
      "cell_type": "code",
      "source": [
        "def bigram_features(data)->[(dict,str)]:\n",
        "  smo_ctexts=[d[0] for d in data]\n",
        "  smo_labels=[d[1] for d in data]\n",
        "  feature_dicts=[{word: True for word in nltk.bigrams(nltk.word_tokenize(str(smo_ctext)))} for smo_ctext in smo_ctexts ]\n",
        "  return list(zip(feature_dicts,smo_labels))"
      ],
      "metadata": {
        "id": "bn66OPvzq7Vv"
      },
      "execution_count": null,
      "outputs": []
    },
    {
      "cell_type": "markdown",
      "source": [
        "# Train the Model"
      ],
      "metadata": {
        "id": "kEVFaFkPrfAy"
      }
    },
    {
      "cell_type": "code",
      "source": [
        "bigram_feature_sets=bigram_features(train_set)\n",
        "bigram_classifier=nltk.NaiveBayesClassifier.train(bigram_feature_sets)"
      ],
      "metadata": {
        "id": "_7Cbo4-3rZvQ"
      },
      "execution_count": null,
      "outputs": []
    },
    {
      "cell_type": "markdown",
      "source": [
        "# Prediction and Evaluation"
      ],
      "metadata": {
        "id": "6EzjNnRArwQr"
      }
    },
    {
      "cell_type": "code",
      "source": [
        "# Prediction\n",
        "test_feature_sets=bigram_features(test_set)\n",
        "test_dict=test_feature_sets[1][0]\n",
        "print('Real value: ',test_feature_sets[1][1])\n",
        "prediction=bigram_classifier.classify(test_dict)\n",
        "print('Predicted value: ',prediction)\n",
        "\n",
        "# Evaluation\n",
        "def evaluate_bigram_classifier(classifier,test_data)->float:\n",
        "  test_feature_sets=bigram_features(test_data)\n",
        "  return nltk.classify.accuracy(classifier,test_feature_sets)\n",
        "\n",
        "acc_bigram=evaluate_bigram_classifier(classifier,test_set)\n",
        "print('Accuracy of Bigram: ',acc_bigram)"
      ],
      "metadata": {
        "colab": {
          "base_uri": "https://localhost:8080/"
        },
        "id": "IiedlX6urmf-",
        "outputId": "566c8903-6118-41e9-98fb-75df8800a5b0"
      },
      "execution_count": null,
      "outputs": [
        {
          "output_type": "stream",
          "name": "stdout",
          "text": [
            "Real value:  UNKNOWN\n",
            "Predicted value:  UNKNOWN\n",
            "Accuracy of Bigram:  0.65\n"
          ]
        }
      ]
    },
    {
      "cell_type": "code",
      "source": [
        "num_test_lables=len(test_set)\n",
        "print('num_test_labels: ',num_test_lables)\n",
        "\n",
        "true_labels=[]\n",
        "for i in range(num_test_lables):\n",
        "  true_labels.append(test_feature_sets[i][1])\n",
        "print('True labels: ',true_labels)\n",
        "\n",
        "predicted_labels=[]\n",
        "for i in range(num_test_lables):\n",
        "  prediction=bigram_classifier.classify(test_feature_sets[i][0])\n",
        "  predicted_labels.append(prediction)\n",
        "print('predicted labels', predicted_labels)\n",
        "\n",
        "print(classification_report(true_labels, predicted_labels))"
      ],
      "metadata": {
        "colab": {
          "base_uri": "https://localhost:8080/"
        },
        "id": "pPOHhm4Fr2zA",
        "outputId": "cbd11fd5-4b77-44a2-c82e-ca78985f344d"
      },
      "execution_count": null,
      "outputs": [
        {
          "output_type": "stream",
          "name": "stdout",
          "text": [
            "num_test_labels:  80\n",
            "True labels:  ['UNKNOWN', 'UNKNOWN', 'UNKNOWN', 'NON-SMOKER', 'UNKNOWN', 'UNKNOWN', 'UNKNOWN', 'UNKNOWN', 'UNKNOWN', 'UNKNOWN', 'UNKNOWN', 'NON-SMOKER', 'NON-SMOKER', 'PAST SMOKER', 'UNKNOWN', 'UNKNOWN', 'CURRENT SMOKER', 'UNKNOWN', 'CURRENT SMOKER', 'UNKNOWN', 'UNKNOWN', 'NON-SMOKER', 'UNKNOWN', 'UNKNOWN', 'NON-SMOKER', 'UNKNOWN', 'UNKNOWN', 'UNKNOWN', 'CURRENT SMOKER', 'UNKNOWN', 'UNKNOWN', 'UNKNOWN', 'NON-SMOKER', 'UNKNOWN', 'UNKNOWN', 'UNKNOWN', 'NON-SMOKER', 'CURRENT SMOKER', 'UNKNOWN', 'CURRENT SMOKER', 'UNKNOWN', 'UNKNOWN', 'CURRENT SMOKER', 'NON-SMOKER', 'NON-SMOKER', 'CURRENT SMOKER', 'NON-SMOKER', 'UNKNOWN', 'PAST SMOKER', 'UNKNOWN', 'UNKNOWN', 'UNKNOWN', 'NON-SMOKER', 'UNKNOWN', 'SMOKER', 'UNKNOWN', 'UNKNOWN', 'UNKNOWN', 'UNKNOWN', 'PAST SMOKER', 'UNKNOWN', 'UNKNOWN', 'UNKNOWN', 'UNKNOWN', 'PAST SMOKER', 'UNKNOWN', 'CURRENT SMOKER', 'UNKNOWN', 'UNKNOWN', 'UNKNOWN', 'PAST SMOKER', 'UNKNOWN', 'UNKNOWN', 'NON-SMOKER', 'UNKNOWN', 'PAST SMOKER', 'UNKNOWN', 'UNKNOWN', 'NON-SMOKER', 'UNKNOWN']\n",
            "predicted labels ['SMOKER', 'UNKNOWN', 'SMOKER', 'SMOKER', 'SMOKER', 'SMOKER', 'SMOKER', 'SMOKER', 'SMOKER', 'SMOKER', 'SMOKER', 'SMOKER', 'SMOKER', 'SMOKER', 'SMOKER', 'SMOKER', 'CURRENT SMOKER', 'SMOKER', 'SMOKER', 'UNKNOWN', 'SMOKER', 'SMOKER', 'SMOKER', 'SMOKER', 'SMOKER', 'SMOKER', 'SMOKER', 'SMOKER', 'SMOKER', 'SMOKER', 'SMOKER', 'SMOKER', 'SMOKER', 'SMOKER', 'SMOKER', 'SMOKER', 'SMOKER', 'SMOKER', 'SMOKER', 'SMOKER', 'SMOKER', 'SMOKER', 'SMOKER', 'SMOKER', 'SMOKER', 'SMOKER', 'SMOKER', 'SMOKER', 'SMOKER', 'SMOKER', 'SMOKER', 'SMOKER', 'SMOKER', 'SMOKER', 'SMOKER', 'SMOKER', 'SMOKER', 'SMOKER', 'SMOKER', 'SMOKER', 'SMOKER', 'SMOKER', 'SMOKER', 'SMOKER', 'SMOKER', 'SMOKER', 'SMOKER', 'SMOKER', 'SMOKER', 'SMOKER', 'SMOKER', 'UNKNOWN', 'SMOKER', 'SMOKER', 'SMOKER', 'SMOKER', 'SMOKER', 'SMOKER', 'SMOKER', 'UNKNOWN']\n",
            "                precision    recall  f1-score   support\n",
            "\n",
            "CURRENT SMOKER       1.00      0.12      0.22         8\n",
            "    NON-SMOKER       0.00      0.00      0.00        13\n",
            "   PAST SMOKER       0.00      0.00      0.00         6\n",
            "        SMOKER       0.01      1.00      0.03         1\n",
            "       UNKNOWN       1.00      0.08      0.14        52\n",
            "\n",
            "      accuracy                           0.07        80\n",
            "     macro avg       0.40      0.24      0.08        80\n",
            "  weighted avg       0.75      0.07      0.12        80\n",
            "\n"
          ]
        },
        {
          "output_type": "stream",
          "name": "stderr",
          "text": [
            "/usr/local/lib/python3.10/dist-packages/sklearn/metrics/_classification.py:1344: UndefinedMetricWarning: Precision and F-score are ill-defined and being set to 0.0 in labels with no predicted samples. Use `zero_division` parameter to control this behavior.\n",
            "  _warn_prf(average, modifier, msg_start, len(result))\n",
            "/usr/local/lib/python3.10/dist-packages/sklearn/metrics/_classification.py:1344: UndefinedMetricWarning: Precision and F-score are ill-defined and being set to 0.0 in labels with no predicted samples. Use `zero_division` parameter to control this behavior.\n",
            "  _warn_prf(average, modifier, msg_start, len(result))\n",
            "/usr/local/lib/python3.10/dist-packages/sklearn/metrics/_classification.py:1344: UndefinedMetricWarning: Precision and F-score are ill-defined and being set to 0.0 in labels with no predicted samples. Use `zero_division` parameter to control this behavior.\n",
            "  _warn_prf(average, modifier, msg_start, len(result))\n"
          ]
        }
      ]
    },
    {
      "cell_type": "markdown",
      "source": [
        "# Building Trigram Feature Sets"
      ],
      "metadata": {
        "id": "le5IRbmPsi16"
      }
    },
    {
      "cell_type": "code",
      "source": [
        "def trigram_features(data)->[(dict,str)]:\n",
        "  smo_ctexts=[d[0] for d in data]\n",
        "  smo_labels=[d[1] for d in data]\n",
        "  feature_dicts=[{word: True for word in nltk.trigrams(nltk.word_tokenize(str(smo_ctext)))} for smo_ctext in smo_ctexts ]\n",
        "  return list(zip(feature_dicts,smo_labels))"
      ],
      "metadata": {
        "id": "CyrcxGnbsYcV"
      },
      "execution_count": null,
      "outputs": []
    },
    {
      "cell_type": "markdown",
      "source": [
        "# Train the Model"
      ],
      "metadata": {
        "id": "wU-zvtKRso0U"
      }
    },
    {
      "cell_type": "code",
      "source": [
        "trigram_feature_sets=trigram_features(train_set)\n",
        "trigram_classifier=nltk.NaiveBayesClassifier.train(trigram_feature_sets)"
      ],
      "metadata": {
        "id": "T_bB7umusuKf"
      },
      "execution_count": null,
      "outputs": []
    },
    {
      "cell_type": "markdown",
      "source": [
        "# Prediction and Evaluation"
      ],
      "metadata": {
        "id": "Dc8OaVC6s2xf"
      }
    },
    {
      "cell_type": "code",
      "source": [
        "# Prediction\n",
        "test_feature_sets=trigram_features(test_set)\n",
        "test_dict=test_feature_sets[1][0]\n",
        "print('Real value: ',test_feature_sets[1][1])\n",
        "prediction=trigram_classifier.classify(test_dict)\n",
        "print('Predicted value: ',prediction)\n",
        "\n",
        "# Evaluation\n",
        "def evaluate_trigram_classifier(classifier,test_data)->float:\n",
        "  test_feature_sets=trigram_features(test_data)\n",
        "  return nltk.classify.accuracy(classifier,test_feature_sets)\n",
        "\n",
        "acc_trigram=evaluate_trigram_classifier(classifier,test_set)\n",
        "print('Accuracy of Trigram: ',acc_trigram)"
      ],
      "metadata": {
        "colab": {
          "base_uri": "https://localhost:8080/"
        },
        "id": "2gXYjAlVszc3",
        "outputId": "a6f72d98-d20a-41d7-e1c2-c352dc0c32bb"
      },
      "execution_count": null,
      "outputs": [
        {
          "output_type": "stream",
          "name": "stdout",
          "text": [
            "Real value:  UNKNOWN\n",
            "Predicted value:  SMOKER\n",
            "Accuracy of Trigram:  0.65\n"
          ]
        }
      ]
    },
    {
      "cell_type": "code",
      "source": [
        "num_test_lables=len(test_set)\n",
        "print('num_test_labels: ',num_test_lables)\n",
        "\n",
        "true_labels=[]\n",
        "for i in range(num_test_lables):\n",
        "  true_labels.append(test_feature_sets[i][1])\n",
        "print('True labels: ',true_labels)\n",
        "\n",
        "predicted_labels=[]\n",
        "for i in range(num_test_lables):\n",
        "  prediction=trigram_classifier.classify(test_feature_sets[i][0])\n",
        "  predicted_labels.append(prediction)\n",
        "print('predicted labels', predicted_labels)\n",
        "\n",
        "print(classification_report(true_labels, predicted_labels))"
      ],
      "metadata": {
        "colab": {
          "base_uri": "https://localhost:8080/"
        },
        "id": "MHN2rbo_s7Ph",
        "outputId": "4bc1e997-b9bb-4c8a-f26e-6da90fe5ed46"
      },
      "execution_count": null,
      "outputs": [
        {
          "output_type": "stream",
          "name": "stdout",
          "text": [
            "num_test_labels:  80\n",
            "True labels:  ['UNKNOWN', 'UNKNOWN', 'UNKNOWN', 'NON-SMOKER', 'UNKNOWN', 'UNKNOWN', 'UNKNOWN', 'UNKNOWN', 'UNKNOWN', 'UNKNOWN', 'UNKNOWN', 'NON-SMOKER', 'NON-SMOKER', 'PAST SMOKER', 'UNKNOWN', 'UNKNOWN', 'CURRENT SMOKER', 'UNKNOWN', 'CURRENT SMOKER', 'UNKNOWN', 'UNKNOWN', 'NON-SMOKER', 'UNKNOWN', 'UNKNOWN', 'NON-SMOKER', 'UNKNOWN', 'UNKNOWN', 'UNKNOWN', 'CURRENT SMOKER', 'UNKNOWN', 'UNKNOWN', 'UNKNOWN', 'NON-SMOKER', 'UNKNOWN', 'UNKNOWN', 'UNKNOWN', 'NON-SMOKER', 'CURRENT SMOKER', 'UNKNOWN', 'CURRENT SMOKER', 'UNKNOWN', 'UNKNOWN', 'CURRENT SMOKER', 'NON-SMOKER', 'NON-SMOKER', 'CURRENT SMOKER', 'NON-SMOKER', 'UNKNOWN', 'PAST SMOKER', 'UNKNOWN', 'UNKNOWN', 'UNKNOWN', 'NON-SMOKER', 'UNKNOWN', 'SMOKER', 'UNKNOWN', 'UNKNOWN', 'UNKNOWN', 'UNKNOWN', 'PAST SMOKER', 'UNKNOWN', 'UNKNOWN', 'UNKNOWN', 'UNKNOWN', 'PAST SMOKER', 'UNKNOWN', 'CURRENT SMOKER', 'UNKNOWN', 'UNKNOWN', 'UNKNOWN', 'PAST SMOKER', 'UNKNOWN', 'UNKNOWN', 'NON-SMOKER', 'UNKNOWN', 'PAST SMOKER', 'UNKNOWN', 'UNKNOWN', 'NON-SMOKER', 'UNKNOWN']\n",
            "predicted labels ['SMOKER', 'SMOKER', 'SMOKER', 'SMOKER', 'SMOKER', 'SMOKER', 'SMOKER', 'SMOKER', 'SMOKER', 'SMOKER', 'SMOKER', 'SMOKER', 'SMOKER', 'SMOKER', 'SMOKER', 'SMOKER', 'CURRENT SMOKER', 'SMOKER', 'SMOKER', 'UNKNOWN', 'SMOKER', 'SMOKER', 'SMOKER', 'SMOKER', 'SMOKER', 'SMOKER', 'SMOKER', 'SMOKER', 'SMOKER', 'SMOKER', 'SMOKER', 'SMOKER', 'SMOKER', 'SMOKER', 'SMOKER', 'SMOKER', 'SMOKER', 'SMOKER', 'SMOKER', 'SMOKER', 'SMOKER', 'SMOKER', 'SMOKER', 'SMOKER', 'SMOKER', 'SMOKER', 'SMOKER', 'SMOKER', 'SMOKER', 'SMOKER', 'SMOKER', 'SMOKER', 'SMOKER', 'SMOKER', 'SMOKER', 'SMOKER', 'NON-SMOKER', 'SMOKER', 'SMOKER', 'SMOKER', 'SMOKER', 'SMOKER', 'SMOKER', 'SMOKER', 'SMOKER', 'SMOKER', 'SMOKER', 'SMOKER', 'SMOKER', 'SMOKER', 'SMOKER', 'UNKNOWN', 'SMOKER', 'SMOKER', 'SMOKER', 'SMOKER', 'SMOKER', 'SMOKER', 'SMOKER', 'UNKNOWN']\n",
            "                precision    recall  f1-score   support\n",
            "\n",
            "CURRENT SMOKER       1.00      0.12      0.22         8\n",
            "    NON-SMOKER       0.00      0.00      0.00        13\n",
            "   PAST SMOKER       0.00      0.00      0.00         6\n",
            "        SMOKER       0.01      1.00      0.03         1\n",
            "       UNKNOWN       1.00      0.06      0.11        52\n",
            "\n",
            "      accuracy                           0.06        80\n",
            "     macro avg       0.40      0.24      0.07        80\n",
            "  weighted avg       0.75      0.06      0.09        80\n",
            "\n"
          ]
        },
        {
          "output_type": "stream",
          "name": "stderr",
          "text": [
            "/usr/local/lib/python3.10/dist-packages/sklearn/metrics/_classification.py:1344: UndefinedMetricWarning: Precision and F-score are ill-defined and being set to 0.0 in labels with no predicted samples. Use `zero_division` parameter to control this behavior.\n",
            "  _warn_prf(average, modifier, msg_start, len(result))\n",
            "/usr/local/lib/python3.10/dist-packages/sklearn/metrics/_classification.py:1344: UndefinedMetricWarning: Precision and F-score are ill-defined and being set to 0.0 in labels with no predicted samples. Use `zero_division` parameter to control this behavior.\n",
            "  _warn_prf(average, modifier, msg_start, len(result))\n",
            "/usr/local/lib/python3.10/dist-packages/sklearn/metrics/_classification.py:1344: UndefinedMetricWarning: Precision and F-score are ill-defined and being set to 0.0 in labels with no predicted samples. Use `zero_division` parameter to control this behavior.\n",
            "  _warn_prf(average, modifier, msg_start, len(result))\n"
          ]
        }
      ]
    },
    {
      "cell_type": "markdown",
      "source": [
        "# Confusion matrix"
      ],
      "metadata": {
        "id": "hXnjYh2VlTl8"
      }
    },
    {
      "cell_type": "code",
      "source": [
        "from sklearn.metrics import confusion_matrix\n",
        "import seaborn as sns\n",
        "\n",
        "num_test_lables=len(test_set)\n",
        "print('num_test_labels: ',num_test_lables)\n",
        "\n",
        "true_labels=[]\n",
        "for i in range(num_test_lables):\n",
        "  true_labels.append(test_feature_sets[i][1])\n",
        "print('True labels: ',true_labels)\n",
        "\n",
        "predicted_labels=[]\n",
        "for i in range(num_test_lables):\n",
        "  prediction=classifier.classify(test_feature_sets[i][0])\n",
        "  predicted_labels.append(prediction)\n",
        "print('predicted labels', predicted_labels)\n",
        "\n",
        "print('Report of NB classifier with unigrams\\n',classification_report(true_labels, predicted_labels))\n",
        "\n",
        "# Calculate the confusion matrix\n",
        "cm = confusion_matrix(true_labels, predicted_labels)\n",
        "\n",
        "# Print the confusion matrix\n",
        "print(\"Confusion Matrix:\")\n",
        "print(cm)\n",
        "class_labels = [\"CURRENT_SMOKER\",\"NON_SMOKER\",\"PAST_SMOKER\",\"SMOKER\",\"UNKNOWN\"]\n",
        "# Plot confusion matrix with class labels\n",
        "plt.figure(figsize=(8, 6))\n",
        "sns.heatmap(cm, annot=True, fmt=\"d\", cmap=\"Blues\", xticklabels=class_labels, yticklabels=class_labels)\n",
        "plt.xlabel(\"Predicted Label\")\n",
        "plt.ylabel(\"True Label\")\n",
        "plt.title(\"Confusion Matrix\")\n",
        "plt.show()"
      ],
      "metadata": {
        "id": "qMTIlsyx9bkI",
        "colab": {
          "base_uri": "https://localhost:8080/",
          "height": 1000
        },
        "outputId": "1c5aba40-cb32-4fe2-8959-6fb3a8477115"
      },
      "execution_count": null,
      "outputs": [
        {
          "output_type": "stream",
          "name": "stdout",
          "text": [
            "num_test_labels:  80\n",
            "True labels:  ['UNKNOWN', 'UNKNOWN', 'UNKNOWN', 'NON-SMOKER', 'UNKNOWN', 'UNKNOWN', 'UNKNOWN', 'UNKNOWN', 'UNKNOWN', 'UNKNOWN', 'UNKNOWN', 'NON-SMOKER', 'NON-SMOKER', 'PAST SMOKER', 'UNKNOWN', 'UNKNOWN', 'CURRENT SMOKER', 'UNKNOWN', 'CURRENT SMOKER', 'UNKNOWN', 'UNKNOWN', 'NON-SMOKER', 'UNKNOWN', 'UNKNOWN', 'NON-SMOKER', 'UNKNOWN', 'UNKNOWN', 'UNKNOWN', 'CURRENT SMOKER', 'UNKNOWN', 'UNKNOWN', 'UNKNOWN', 'NON-SMOKER', 'UNKNOWN', 'UNKNOWN', 'UNKNOWN', 'NON-SMOKER', 'CURRENT SMOKER', 'UNKNOWN', 'CURRENT SMOKER', 'UNKNOWN', 'UNKNOWN', 'CURRENT SMOKER', 'NON-SMOKER', 'NON-SMOKER', 'CURRENT SMOKER', 'NON-SMOKER', 'UNKNOWN', 'PAST SMOKER', 'UNKNOWN', 'UNKNOWN', 'UNKNOWN', 'NON-SMOKER', 'UNKNOWN', 'SMOKER', 'UNKNOWN', 'UNKNOWN', 'UNKNOWN', 'UNKNOWN', 'PAST SMOKER', 'UNKNOWN', 'UNKNOWN', 'UNKNOWN', 'UNKNOWN', 'PAST SMOKER', 'UNKNOWN', 'CURRENT SMOKER', 'UNKNOWN', 'UNKNOWN', 'UNKNOWN', 'PAST SMOKER', 'UNKNOWN', 'UNKNOWN', 'NON-SMOKER', 'UNKNOWN', 'PAST SMOKER', 'UNKNOWN', 'UNKNOWN', 'NON-SMOKER', 'UNKNOWN']\n",
            "predicted labels ['UNKNOWN', 'UNKNOWN', 'UNKNOWN', 'UNKNOWN', 'UNKNOWN', 'UNKNOWN', 'UNKNOWN', 'UNKNOWN', 'UNKNOWN', 'UNKNOWN', 'UNKNOWN', 'UNKNOWN', 'UNKNOWN', 'UNKNOWN', 'UNKNOWN', 'UNKNOWN', 'UNKNOWN', 'UNKNOWN', 'UNKNOWN', 'UNKNOWN', 'UNKNOWN', 'UNKNOWN', 'UNKNOWN', 'UNKNOWN', 'UNKNOWN', 'UNKNOWN', 'UNKNOWN', 'UNKNOWN', 'UNKNOWN', 'UNKNOWN', 'UNKNOWN', 'UNKNOWN', 'UNKNOWN', 'UNKNOWN', 'UNKNOWN', 'UNKNOWN', 'UNKNOWN', 'UNKNOWN', 'UNKNOWN', 'UNKNOWN', 'UNKNOWN', 'UNKNOWN', 'UNKNOWN', 'UNKNOWN', 'UNKNOWN', 'UNKNOWN', 'UNKNOWN', 'UNKNOWN', 'UNKNOWN', 'UNKNOWN', 'UNKNOWN', 'UNKNOWN', 'UNKNOWN', 'UNKNOWN', 'UNKNOWN', 'UNKNOWN', 'UNKNOWN', 'UNKNOWN', 'UNKNOWN', 'UNKNOWN', 'UNKNOWN', 'UNKNOWN', 'UNKNOWN', 'UNKNOWN', 'UNKNOWN', 'UNKNOWN', 'UNKNOWN', 'UNKNOWN', 'UNKNOWN', 'UNKNOWN', 'UNKNOWN', 'UNKNOWN', 'UNKNOWN', 'UNKNOWN', 'UNKNOWN', 'UNKNOWN', 'UNKNOWN', 'UNKNOWN', 'UNKNOWN', 'UNKNOWN']\n",
            "Report of NB classifier with unigrams\n",
            "                 precision    recall  f1-score   support\n",
            "\n",
            "CURRENT SMOKER       0.00      0.00      0.00         8\n",
            "    NON-SMOKER       0.00      0.00      0.00        13\n",
            "   PAST SMOKER       0.00      0.00      0.00         6\n",
            "        SMOKER       0.00      0.00      0.00         1\n",
            "       UNKNOWN       0.65      1.00      0.79        52\n",
            "\n",
            "      accuracy                           0.65        80\n",
            "     macro avg       0.13      0.20      0.16        80\n",
            "  weighted avg       0.42      0.65      0.51        80\n",
            "\n",
            "Confusion Matrix:\n",
            "[[ 0  0  0  0  8]\n",
            " [ 0  0  0  0 13]\n",
            " [ 0  0  0  0  6]\n",
            " [ 0  0  0  0  1]\n",
            " [ 0  0  0  0 52]]\n"
          ]
        },
        {
          "output_type": "stream",
          "name": "stderr",
          "text": [
            "/usr/local/lib/python3.10/dist-packages/sklearn/metrics/_classification.py:1344: UndefinedMetricWarning: Precision and F-score are ill-defined and being set to 0.0 in labels with no predicted samples. Use `zero_division` parameter to control this behavior.\n",
            "  _warn_prf(average, modifier, msg_start, len(result))\n",
            "/usr/local/lib/python3.10/dist-packages/sklearn/metrics/_classification.py:1344: UndefinedMetricWarning: Precision and F-score are ill-defined and being set to 0.0 in labels with no predicted samples. Use `zero_division` parameter to control this behavior.\n",
            "  _warn_prf(average, modifier, msg_start, len(result))\n",
            "/usr/local/lib/python3.10/dist-packages/sklearn/metrics/_classification.py:1344: UndefinedMetricWarning: Precision and F-score are ill-defined and being set to 0.0 in labels with no predicted samples. Use `zero_division` parameter to control this behavior.\n",
            "  _warn_prf(average, modifier, msg_start, len(result))\n"
          ]
        },
        {
          "output_type": "display_data",
          "data": {
            "text/plain": [
              "<Figure size 800x600 with 2 Axes>"
            ],
            "image/png": "[encoded data removed]"
          },
          "metadata": {}
        }
      ]
    },
    {
      "cell_type": "code",
      "source": [],
      "metadata": {
        "id": "TulhN3U4lM1H"
      },
      "execution_count": null,
      "outputs": []
    }
  ]
}